{
  "cells": [
    {
      "cell_type": "code",
      "execution_count": null,
      "metadata": {
        "id": "HTi6feluaPaX"
      },
      "outputs": [],
      "source": [
        "\n",
        "x_train = [[1, -1, -1], [1, -1, 1], [1, 1, -1], [1, 1, 1]]\n",
        "\n",
        "y_train = list(map(int, input(\"Enter y_train values separated by spaces: \").split()))\n",
        "\n",
        "\n",
        "w = [0.1, 0.3, -0.5]\n",
        "\n",
        "\n",
        "learning_rate = 0.5\n",
        "\n",
        "\n",
        "all_correct = False\n",
        "while not all_correct:\n",
        "    all_correct = True\n",
        "\n",
        "    for i in range(len(x_train)):\n",
        "        x = x_train[i]\n",
        "        y = y_train[i]\n",
        "        #print(x_train)\n",
        "        #print(y_train)\n",
        "\n",
        "\n",
        "        weighted_sum = 0\n",
        "        for j in range(len(w)):\n",
        "            weighted_sum += x[j] * w[j]\n",
        "\n",
        "\n",
        "        p_out = 1 if weighted_sum >= 0 else -1\n",
        "        print(\"p_out=\",p_out ,\"y =\",y)\n",
        "\n",
        "\n",
        "\n",
        "        if y != p_out:\n",
        "            for j in range(len(w)):\n",
        "                w[j] = w[j] + (y * x[j] * learning_rate)\n",
        "            all_correct = False\n",
        "            print(\"updated weight:\",w)\n",
        "\n",
        "\n",
        "print(\"Final Weights:\", w)\n"
      ]
    },
    {
      "cell_type": "code",
      "execution_count": null,
      "metadata": {
        "colab": {
          "base_uri": "https://localhost:8080/"
        },
        "id": "U8sD85n0VKtK",
        "outputId": "9ea27768-9227-4f4b-fb8b-d34a49169098"
      },
      "outputs": [
        {
          "name": "stderr",
          "output_type": "stream",
          "text": [
            "/usr/local/lib/python3.11/dist-packages/keras/src/layers/core/dense.py:87: UserWarning: Do not pass an `input_shape`/`input_dim` argument to a layer. When using Sequential models, prefer using an `Input(shape)` object as the first layer in the model instead.\n",
            "  super().__init__(activity_regularizer=activity_regularizer, **kwargs)\n"
          ]
        }
      ],
      "source": [
        "from keras.models import Sequential\n",
        "from keras.layers import Dense\n",
        "model=Sequential()\n",
        "model.add(Dense(4, input_dim=2, activation='sigmoid'))\n",
        "model.add(Dense(1, activation='sigmoid'))"
      ]
    },
    {
      "cell_type": "code",
      "execution_count": null,
      "metadata": {
        "colab": {
          "base_uri": "https://localhost:8080/"
        },
        "id": "v1j0hhMJW0NZ",
        "outputId": "2e4e3986-8fde-477f-e930-1d5f9ba5b6d3"
      },
      "outputs": [
        {
          "name": "stderr",
          "output_type": "stream",
          "text": [
            "WARNING:tensorflow:5 out of the last 5 calls to <function TensorFlowTrainer.make_predict_function.<locals>.one_step_on_data_distributed at 0x788afa4aede0> triggered tf.function retracing. Tracing is expensive and the excessive number of tracings could be due to (1) creating @tf.function repeatedly in a loop, (2) passing tensors with different shapes, (3) passing Python objects instead of tensors. For (1), please define your @tf.function outside of the loop. For (2), @tf.function has reduce_retracing=True option that can avoid unnecessary retracing. For (3), please refer to https://www.tensorflow.org/guide/function#controlling_retracing and https://www.tensorflow.org/api_docs/python/tf/function for  more details.\n"
          ]
        },
        {
          "name": "stdout",
          "output_type": "stream",
          "text": [
            "\u001b[1m1/1\u001b[0m \u001b[32m━━━━━━━━━━━━━━━━━━━━\u001b[0m\u001b[37m\u001b[0m \u001b[1m0s\u001b[0m 72ms/step\n",
            "Input -> Predicted Output\n",
            "[0. 0.] -> 0.0545\n",
            "[0. 1.] -> 0.9277\n",
            "[1. 0.] -> 0.9164\n",
            "[1. 1.] -> 0.1124\n"
          ]
        }
      ],
      "source": [
        "import numpy as np\n",
        "from tensorflow.keras.models import Sequential\n",
        "from tensorflow.keras.layers import Dense\n",
        "from tensorflow.keras.optimizers import SGD\n",
        "from tensorflow.keras.losses import BinaryCrossentropy\n",
        "\n",
        "inputs = np.array([[0, 0], [0, 1], [1, 0], [1, 1]], dtype=np.float32)\n",
        "targets = np.array([[0], [1], [1], [0]], dtype=np.float32)\n",
        "\n",
        "model = Sequential()\n",
        "model.add(Dense(4, input_dim=2, activation='sigmoid'))\n",
        "model.add(Dense(1, activation='sigmoid'))\n",
        "\n",
        "model.compile(optimizer=SGD(learning_rate=0.1),\n",
        "loss=BinaryCrossentropy(),\n",
        "metrics=['accuracy'])\n",
        "\n",
        "\n",
        "\n",
        "model.fit(inputs, targets, epochs=4500, verbose=0)\n",
        "\n",
        "predictions = model.predict(inputs)\n",
        "\n",
        "print(\"Input -> Predicted Output\")\n",
        "for input_val, prediction in zip(inputs, predictions):\n",
        "  print(f\"{input_val} -> {prediction[0]:.4f}\")"
      ]
    },
    {
      "cell_type": "code",
      "execution_count": null,
      "metadata": {
        "colab": {
          "base_uri": "https://localhost:8080/"
        },
        "id": "WSLzR8KGtoBQ",
        "outputId": "65139ac5-4994-4a8d-d576-c87f63bdc054"
      },
      "outputs": [
        {
          "name": "stdout",
          "output_type": "stream",
          "text": [
            "Input -> Predicted Output\n",
            "[0. 0.] -> 0.0000\n",
            "[0. 1.] -> 1.0000\n",
            "[1. 0.] -> 1.0000\n",
            "[1. 1.] -> 0.0000\n"
          ]
        }
      ],
      "source": [
        "print(\"Input -> Predicted Output\")\n",
        "for input_val, prediction in zip(inputs, predictions):\n",
        "  if prediction[0] >= 0.5:\n",
        "    prediction[0] = 1\n",
        "  else:\n",
        "    prediction[0] = 0\n",
        "  print(f\"{input_val} -> {prediction[0]:.4f}\")"
      ]
    },
    {
      "cell_type": "code",
      "execution_count": null,
      "metadata": {
        "colab": {
          "base_uri": "https://localhost:8080/"
        },
        "id": "iQ0hz189cP-f",
        "outputId": "d637df48-1482-4a7d-fb91-82dcd61c3d65"
      },
      "outputs": [
        {
          "name": "stdout",
          "output_type": "stream",
          "text": [
            "Enter y_train values separated by spaces: -1 -1 -1 1\n",
            "p_out= 1 y = -1\n",
            "updated weight: [-0.4, 0.8, 0.0]\n",
            "p_out= -1 y = -1\n",
            "p_out= 1 y = -1\n",
            "updated weight: [-0.9, 0.30000000000000004, 0.5]\n",
            "p_out= -1 y = 1\n",
            "updated weight: [-0.4, 0.8, 1.0]\n",
            "p_out= -1 y = -1\n",
            "p_out= -1 y = -1\n",
            "p_out= -1 y = -1\n",
            "p_out= 1 y = 1\n",
            "Final Weights: [-0.4, 0.8, 1.0]\n"
          ]
        }
      ],
      "source": [
        "\n",
        "x_train = [[1, -1, -1], [1, -1, 1], [1, 1, -1], [1, 1, 1]]\n",
        "\n",
        "y_train = list(map(int, input(\"Enter y_train values separated by spaces: \").split()))\n",
        "\n",
        "\n",
        "w = [0.1, 0.3, -0.5]\n",
        "\n",
        "\n",
        "learning_rate = 0.5\n",
        "\n",
        "\n",
        "all_correct = False\n",
        "while not all_correct:\n",
        "    all_correct = True\n",
        "\n",
        "    for i in range(len(x_train)):\n",
        "        x = x_train[i]\n",
        "        y = y_train[i]\n",
        "        #print(x_train)\n",
        "        #print(y_train)\n",
        "\n",
        "\n",
        "        weighted_sum = 0\n",
        "        for j in range(len(w)):\n",
        "            weighted_sum += x[j] * w[j]\n",
        "\n",
        "\n",
        "        p_out = 1 if weighted_sum >= 0 else -1\n",
        "        print(\"p_out=\",p_out ,\"y =\",y)\n",
        "\n",
        "\n",
        "\n",
        "        if y != p_out:\n",
        "            for j in range(len(w)):\n",
        "                w[j] = w[j] + (y * x[j] * learning_rate)\n",
        "            all_correct = False\n",
        "            print(\"updated weight:\",w)\n",
        "\n",
        "\n",
        "print(\"Final Weights:\", w)\n"
      ]
    },
    {
      "cell_type": "code",
      "execution_count": null,
      "metadata": {
        "colab": {
          "base_uri": "https://localhost:8080/"
        },
        "id": "zZ-lhCVMeR_f",
        "outputId": "d887d4b4-d4a9-47f5-99e6-0b057736d817"
      },
      "outputs": [
        {
          "name": "stdout",
          "output_type": "stream",
          "text": [
            "Enter y_train values separated by spaces: 1 -1 -1 -1\n",
            "p_out= 1 y = 1\n",
            "p_out= -1 y = -1\n",
            "p_out= 1 y = -1\n",
            "updated weight: [-0.4, -0.2, 0.0]\n",
            "p_out= -1 y = -1\n",
            "p_out= -1 y = 1\n",
            "updated weight: [0.09999999999999998, -0.7, -0.5]\n",
            "p_out= 1 y = -1\n",
            "updated weight: [-0.4, -0.19999999999999996, -1.0]\n",
            "p_out= 1 y = -1\n",
            "updated weight: [-0.9, -0.7, -0.5]\n",
            "p_out= -1 y = -1\n",
            "p_out= 1 y = 1\n",
            "p_out= -1 y = -1\n",
            "p_out= -1 y = -1\n",
            "p_out= -1 y = -1\n",
            "Final Weights: [-0.9, -0.7, -0.5]\n"
          ]
        }
      ],
      "source": [
        "x_train = [[1, -1, -1], [1, -1, 1], [1, 1, -1], [1, 1, 1]]\n",
        "\n",
        "y_train = list(map(int, input(\"Enter y_train values separated by spaces: \").split()))\n",
        "\n",
        "\n",
        "w = [0.1, 0.3, -0.5]\n",
        "\n",
        "\n",
        "learning_rate = 0.5\n",
        "\n",
        "\n",
        "all_correct = False\n",
        "while not all_correct:\n",
        "    all_correct = True\n",
        "\n",
        "    for i in range(len(x_train)):\n",
        "        x = x_train[i]\n",
        "        y = y_train[i]\n",
        "        #print(x_train)\n",
        "        #print(y_train)\n",
        "\n",
        "\n",
        "        weighted_sum = 0\n",
        "        for j in range(len(w)):\n",
        "            weighted_sum += x[j] * w[j]\n",
        "\n",
        "\n",
        "        p_out = 1 if weighted_sum >= 0 else -1\n",
        "        print(\"p_out=\",p_out ,\"y =\",y)\n",
        "\n",
        "\n",
        "\n",
        "        if y != p_out:\n",
        "            for j in range(len(w)):\n",
        "                w[j] = w[j] + (y * x[j] * learning_rate)\n",
        "            all_correct = False\n",
        "            print(\"updated weight:\",w)\n",
        "\n",
        "\n",
        "print(\"Final Weights:\", w)\n"
      ]
    },
    {
      "cell_type": "code",
      "execution_count": null,
      "metadata": {
        "colab": {
          "base_uri": "https://localhost:8080/",
          "height": 1000
        },
        "id": "ul47vN6_dqCM",
        "outputId": "5ecaf6dc-a9ba-4e1a-c7c5-70d0b3321759"
      },
      "outputs": [
        {
          "name": "stdout",
          "output_type": "stream",
          "text": [
            "Downloading data from https://storage.googleapis.com/tensorflow/tf-keras-datasets/mnist.npz\n",
            "\u001b[1m11490434/11490434\u001b[0m \u001b[32m━━━━━━━━━━━━━━━━━━━━\u001b[0m\u001b[37m\u001b[0m \u001b[1m0s\u001b[0m 0us/step\n"
          ]
        },
        {
          "name": "stderr",
          "output_type": "stream",
          "text": [
            "/usr/local/lib/python3.11/dist-packages/keras/src/layers/reshaping/flatten.py:37: UserWarning: Do not pass an `input_shape`/`input_dim` argument to a layer. When using Sequential models, prefer using an `Input(shape)` object as the first layer in the model instead.\n",
            "  super().__init__(**kwargs)\n"
          ]
        },
        {
          "data": {
            "text/html": [
              "<pre style=\"white-space:pre;overflow-x:auto;line-height:normal;font-family:Menlo,'DejaVu Sans Mono',consolas,'Courier New',monospace\"><span style=\"font-weight: bold\">Model: \"sequential\"</span>\n",
              "</pre>\n"
            ],
            "text/plain": [
              "\u001b[1mModel: \"sequential\"\u001b[0m\n"
            ]
          },
          "metadata": {},
          "output_type": "display_data"
        },
        {
          "data": {
            "text/html": [
              "<pre style=\"white-space:pre;overflow-x:auto;line-height:normal;font-family:Menlo,'DejaVu Sans Mono',consolas,'Courier New',monospace\">┏━━━━━━━━━━━━━━━━━━━━━━━━━━━━━━━━━━━━━━┳━━━━━━━━━━━━━━━━━━━━━━━━━━━━━┳━━━━━━━━━━━━━━━━━┓\n",
              "┃<span style=\"font-weight: bold\"> Layer (type)                         </span>┃<span style=\"font-weight: bold\"> Output Shape                </span>┃<span style=\"font-weight: bold\">         Param # </span>┃\n",
              "┡━━━━━━━━━━━━━━━━━━━━━━━━━━━━━━━━━━━━━━╇━━━━━━━━━━━━━━━━━━━━━━━━━━━━━╇━━━━━━━━━━━━━━━━━┩\n",
              "│ flatten (<span style=\"color: #0087ff; text-decoration-color: #0087ff\">Flatten</span>)                    │ (<span style=\"color: #00d7ff; text-decoration-color: #00d7ff\">None</span>, <span style=\"color: #00af00; text-decoration-color: #00af00\">784</span>)                 │               <span style=\"color: #00af00; text-decoration-color: #00af00\">0</span> │\n",
              "├──────────────────────────────────────┼─────────────────────────────┼─────────────────┤\n",
              "│ dense (<span style=\"color: #0087ff; text-decoration-color: #0087ff\">Dense</span>)                        │ (<span style=\"color: #00d7ff; text-decoration-color: #00d7ff\">None</span>, <span style=\"color: #00af00; text-decoration-color: #00af00\">128</span>)                 │         <span style=\"color: #00af00; text-decoration-color: #00af00\">100,480</span> │\n",
              "├──────────────────────────────────────┼─────────────────────────────┼─────────────────┤\n",
              "│ dense_1 (<span style=\"color: #0087ff; text-decoration-color: #0087ff\">Dense</span>)                      │ (<span style=\"color: #00d7ff; text-decoration-color: #00d7ff\">None</span>, <span style=\"color: #00af00; text-decoration-color: #00af00\">32</span>)                  │           <span style=\"color: #00af00; text-decoration-color: #00af00\">4,128</span> │\n",
              "├──────────────────────────────────────┼─────────────────────────────┼─────────────────┤\n",
              "│ dense_2 (<span style=\"color: #0087ff; text-decoration-color: #0087ff\">Dense</span>)                      │ (<span style=\"color: #00d7ff; text-decoration-color: #00d7ff\">None</span>, <span style=\"color: #00af00; text-decoration-color: #00af00\">10</span>)                  │             <span style=\"color: #00af00; text-decoration-color: #00af00\">330</span> │\n",
              "└──────────────────────────────────────┴─────────────────────────────┴─────────────────┘\n",
              "</pre>\n"
            ],
            "text/plain": [
              "┏━━━━━━━━━━━━━━━━━━━━━━━━━━━━━━━━━━━━━━┳━━━━━━━━━━━━━━━━━━━━━━━━━━━━━┳━━━━━━━━━━━━━━━━━┓\n",
              "┃\u001b[1m \u001b[0m\u001b[1mLayer (type)                        \u001b[0m\u001b[1m \u001b[0m┃\u001b[1m \u001b[0m\u001b[1mOutput Shape               \u001b[0m\u001b[1m \u001b[0m┃\u001b[1m \u001b[0m\u001b[1m        Param #\u001b[0m\u001b[1m \u001b[0m┃\n",
              "┡━━━━━━━━━━━━━━━━━━━━━━━━━━━━━━━━━━━━━━╇━━━━━━━━━━━━━━━━━━━━━━━━━━━━━╇━━━━━━━━━━━━━━━━━┩\n",
              "│ flatten (\u001b[38;5;33mFlatten\u001b[0m)                    │ (\u001b[38;5;45mNone\u001b[0m, \u001b[38;5;34m784\u001b[0m)                 │               \u001b[38;5;34m0\u001b[0m │\n",
              "├──────────────────────────────────────┼─────────────────────────────┼─────────────────┤\n",
              "│ dense (\u001b[38;5;33mDense\u001b[0m)                        │ (\u001b[38;5;45mNone\u001b[0m, \u001b[38;5;34m128\u001b[0m)                 │         \u001b[38;5;34m100,480\u001b[0m │\n",
              "├──────────────────────────────────────┼─────────────────────────────┼─────────────────┤\n",
              "│ dense_1 (\u001b[38;5;33mDense\u001b[0m)                      │ (\u001b[38;5;45mNone\u001b[0m, \u001b[38;5;34m32\u001b[0m)                  │           \u001b[38;5;34m4,128\u001b[0m │\n",
              "├──────────────────────────────────────┼─────────────────────────────┼─────────────────┤\n",
              "│ dense_2 (\u001b[38;5;33mDense\u001b[0m)                      │ (\u001b[38;5;45mNone\u001b[0m, \u001b[38;5;34m10\u001b[0m)                  │             \u001b[38;5;34m330\u001b[0m │\n",
              "└──────────────────────────────────────┴─────────────────────────────┴─────────────────┘\n"
            ]
          },
          "metadata": {},
          "output_type": "display_data"
        },
        {
          "data": {
            "text/html": [
              "<pre style=\"white-space:pre;overflow-x:auto;line-height:normal;font-family:Menlo,'DejaVu Sans Mono',consolas,'Courier New',monospace\"><span style=\"font-weight: bold\"> Total params: </span><span style=\"color: #00af00; text-decoration-color: #00af00\">104,938</span> (409.91 KB)\n",
              "</pre>\n"
            ],
            "text/plain": [
              "\u001b[1m Total params: \u001b[0m\u001b[38;5;34m104,938\u001b[0m (409.91 KB)\n"
            ]
          },
          "metadata": {},
          "output_type": "display_data"
        },
        {
          "data": {
            "text/html": [
              "<pre style=\"white-space:pre;overflow-x:auto;line-height:normal;font-family:Menlo,'DejaVu Sans Mono',consolas,'Courier New',monospace\"><span style=\"font-weight: bold\"> Trainable params: </span><span style=\"color: #00af00; text-decoration-color: #00af00\">104,938</span> (409.91 KB)\n",
              "</pre>\n"
            ],
            "text/plain": [
              "\u001b[1m Trainable params: \u001b[0m\u001b[38;5;34m104,938\u001b[0m (409.91 KB)\n"
            ]
          },
          "metadata": {},
          "output_type": "display_data"
        },
        {
          "data": {
            "text/html": [
              "<pre style=\"white-space:pre;overflow-x:auto;line-height:normal;font-family:Menlo,'DejaVu Sans Mono',consolas,'Courier New',monospace\"><span style=\"font-weight: bold\"> Non-trainable params: </span><span style=\"color: #00af00; text-decoration-color: #00af00\">0</span> (0.00 B)\n",
              "</pre>\n"
            ],
            "text/plain": [
              "\u001b[1m Non-trainable params: \u001b[0m\u001b[38;5;34m0\u001b[0m (0.00 B)\n"
            ]
          },
          "metadata": {},
          "output_type": "display_data"
        },
        {
          "name": "stdout",
          "output_type": "stream",
          "text": [
            "Epoch 1/25\n",
            "\u001b[1m1500/1500\u001b[0m \u001b[32m━━━━━━━━━━━━━━━━━━━━\u001b[0m\u001b[37m\u001b[0m \u001b[1m15s\u001b[0m 6ms/step - accuracy: 0.8586 - loss: 0.4922 - val_accuracy: 0.9516 - val_loss: 0.1628\n",
            "Epoch 2/25\n",
            "\u001b[1m1500/1500\u001b[0m \u001b[32m━━━━━━━━━━━━━━━━━━━━\u001b[0m\u001b[37m\u001b[0m \u001b[1m8s\u001b[0m 5ms/step - accuracy: 0.9619 - loss: 0.1268 - val_accuracy: 0.9649 - val_loss: 0.1187\n",
            "Epoch 3/25\n",
            "\u001b[1m1500/1500\u001b[0m \u001b[32m━━━━━━━━━━━━━━━━━━━━\u001b[0m\u001b[37m\u001b[0m \u001b[1m9s\u001b[0m 5ms/step - accuracy: 0.9748 - loss: 0.0812 - val_accuracy: 0.9709 - val_loss: 0.0960\n",
            "Epoch 4/25\n",
            "\u001b[1m1500/1500\u001b[0m \u001b[32m━━━━━━━━━━━━━━━━━━━━\u001b[0m\u001b[37m\u001b[0m \u001b[1m6s\u001b[0m 4ms/step - accuracy: 0.9802 - loss: 0.0637 - val_accuracy: 0.9686 - val_loss: 0.1112\n",
            "Epoch 5/25\n",
            "\u001b[1m1500/1500\u001b[0m \u001b[32m━━━━━━━━━━━━━━━━━━━━\u001b[0m\u001b[37m\u001b[0m \u001b[1m11s\u001b[0m 5ms/step - accuracy: 0.9835 - loss: 0.0501 - val_accuracy: 0.9741 - val_loss: 0.0930\n",
            "Epoch 6/25\n",
            "\u001b[1m1500/1500\u001b[0m \u001b[32m━━━━━━━━━━━━━━━━━━━━\u001b[0m\u001b[37m\u001b[0m \u001b[1m6s\u001b[0m 4ms/step - accuracy: 0.9886 - loss: 0.0376 - val_accuracy: 0.9745 - val_loss: 0.0923\n",
            "Epoch 7/25\n",
            "\u001b[1m1500/1500\u001b[0m \u001b[32m━━━━━━━━━━━━━━━━━━━━\u001b[0m\u001b[37m\u001b[0m \u001b[1m10s\u001b[0m 4ms/step - accuracy: 0.9921 - loss: 0.0282 - val_accuracy: 0.9751 - val_loss: 0.0978\n",
            "Epoch 8/25\n",
            "\u001b[1m1500/1500\u001b[0m \u001b[32m━━━━━━━━━━━━━━━━━━━━\u001b[0m\u001b[37m\u001b[0m \u001b[1m7s\u001b[0m 5ms/step - accuracy: 0.9924 - loss: 0.0243 - val_accuracy: 0.9759 - val_loss: 0.0960\n",
            "Epoch 9/25\n",
            "\u001b[1m1500/1500\u001b[0m \u001b[32m━━━━━━━━━━━━━━━━━━━━\u001b[0m\u001b[37m\u001b[0m \u001b[1m6s\u001b[0m 4ms/step - accuracy: 0.9928 - loss: 0.0210 - val_accuracy: 0.9759 - val_loss: 0.1035\n",
            "Epoch 10/25\n",
            "\u001b[1m1500/1500\u001b[0m \u001b[32m━━━━━━━━━━━━━━━━━━━━\u001b[0m\u001b[37m\u001b[0m \u001b[1m8s\u001b[0m 5ms/step - accuracy: 0.9933 - loss: 0.0192 - val_accuracy: 0.9737 - val_loss: 0.1143\n",
            "Epoch 11/25\n",
            "\u001b[1m1500/1500\u001b[0m \u001b[32m━━━━━━━━━━━━━━━━━━━━\u001b[0m\u001b[37m\u001b[0m \u001b[1m6s\u001b[0m 4ms/step - accuracy: 0.9957 - loss: 0.0138 - val_accuracy: 0.9736 - val_loss: 0.1254\n",
            "Epoch 12/25\n",
            "\u001b[1m1500/1500\u001b[0m \u001b[32m━━━━━━━━━━━━━━━━━━━━\u001b[0m\u001b[37m\u001b[0m \u001b[1m10s\u001b[0m 4ms/step - accuracy: 0.9956 - loss: 0.0148 - val_accuracy: 0.9753 - val_loss: 0.1166\n",
            "Epoch 13/25\n",
            "\u001b[1m1500/1500\u001b[0m \u001b[32m━━━━━━━━━━━━━━━━━━━━\u001b[0m\u001b[37m\u001b[0m \u001b[1m10s\u001b[0m 4ms/step - accuracy: 0.9960 - loss: 0.0119 - val_accuracy: 0.9768 - val_loss: 0.1189\n",
            "Epoch 14/25\n",
            "\u001b[1m1500/1500\u001b[0m \u001b[32m━━━━━━━━━━━━━━━━━━━━\u001b[0m\u001b[37m\u001b[0m \u001b[1m8s\u001b[0m 5ms/step - accuracy: 0.9967 - loss: 0.0108 - val_accuracy: 0.9743 - val_loss: 0.1251\n",
            "Epoch 15/25\n",
            "\u001b[1m1500/1500\u001b[0m \u001b[32m━━━━━━━━━━━━━━━━━━━━\u001b[0m\u001b[37m\u001b[0m \u001b[1m9s\u001b[0m 4ms/step - accuracy: 0.9962 - loss: 0.0107 - val_accuracy: 0.9736 - val_loss: 0.1411\n",
            "Epoch 16/25\n",
            "\u001b[1m1500/1500\u001b[0m \u001b[32m━━━━━━━━━━━━━━━━━━━━\u001b[0m\u001b[37m\u001b[0m \u001b[1m10s\u001b[0m 4ms/step - accuracy: 0.9970 - loss: 0.0102 - val_accuracy: 0.9762 - val_loss: 0.1324\n",
            "Epoch 17/25\n",
            "\u001b[1m1500/1500\u001b[0m \u001b[32m━━━━━━━━━━━━━━━━━━━━\u001b[0m\u001b[37m\u001b[0m \u001b[1m7s\u001b[0m 5ms/step - accuracy: 0.9966 - loss: 0.0108 - val_accuracy: 0.9783 - val_loss: 0.1261\n",
            "Epoch 18/25\n",
            "\u001b[1m1500/1500\u001b[0m \u001b[32m━━━━━━━━━━━━━━━━━━━━\u001b[0m\u001b[37m\u001b[0m \u001b[1m6s\u001b[0m 4ms/step - accuracy: 0.9967 - loss: 0.0091 - val_accuracy: 0.9765 - val_loss: 0.1263\n",
            "Epoch 19/25\n",
            "\u001b[1m1500/1500\u001b[0m \u001b[32m━━━━━━━━━━━━━━━━━━━━\u001b[0m\u001b[37m\u001b[0m \u001b[1m7s\u001b[0m 5ms/step - accuracy: 0.9972 - loss: 0.0090 - val_accuracy: 0.9758 - val_loss: 0.1410\n",
            "Epoch 20/25\n",
            "\u001b[1m1500/1500\u001b[0m \u001b[32m━━━━━━━━━━━━━━━━━━━━\u001b[0m\u001b[37m\u001b[0m \u001b[1m12s\u001b[0m 6ms/step - accuracy: 0.9971 - loss: 0.0088 - val_accuracy: 0.9780 - val_loss: 0.1303\n",
            "Epoch 21/25\n",
            "\u001b[1m1500/1500\u001b[0m \u001b[32m━━━━━━━━━━━━━━━━━━━━\u001b[0m\u001b[37m\u001b[0m \u001b[1m9s\u001b[0m 5ms/step - accuracy: 0.9974 - loss: 0.0082 - val_accuracy: 0.9776 - val_loss: 0.1298\n",
            "Epoch 22/25\n",
            "\u001b[1m1500/1500\u001b[0m \u001b[32m━━━━━━━━━━━━━━━━━━━━\u001b[0m\u001b[37m\u001b[0m \u001b[1m10s\u001b[0m 5ms/step - accuracy: 0.9980 - loss: 0.0062 - val_accuracy: 0.9732 - val_loss: 0.1635\n",
            "Epoch 23/25\n",
            "\u001b[1m1500/1500\u001b[0m \u001b[32m━━━━━━━━━━━━━━━━━━━━\u001b[0m\u001b[37m\u001b[0m \u001b[1m8s\u001b[0m 5ms/step - accuracy: 0.9966 - loss: 0.0094 - val_accuracy: 0.9743 - val_loss: 0.1582\n",
            "Epoch 24/25\n",
            "\u001b[1m1500/1500\u001b[0m \u001b[32m━━━━━━━━━━━━━━━━━━━━\u001b[0m\u001b[37m\u001b[0m \u001b[1m7s\u001b[0m 5ms/step - accuracy: 0.9984 - loss: 0.0061 - val_accuracy: 0.9747 - val_loss: 0.1518\n",
            "Epoch 25/25\n",
            "\u001b[1m1500/1500\u001b[0m \u001b[32m━━━━━━━━━━━━━━━━━━━━\u001b[0m\u001b[37m\u001b[0m \u001b[1m10s\u001b[0m 4ms/step - accuracy: 0.9978 - loss: 0.0060 - val_accuracy: 0.9737 - val_loss: 0.1671\n",
            "\u001b[1m313/313\u001b[0m \u001b[32m━━━━━━━━━━━━━━━━━━━━\u001b[0m\u001b[37m\u001b[0m \u001b[1m1s\u001b[0m 2ms/step\n",
            "\u001b[1m1/1\u001b[0m \u001b[32m━━━━━━━━━━━━━━━━━━━━\u001b[0m\u001b[37m\u001b[0m \u001b[1m0s\u001b[0m 52ms/step\n"
          ]
        },
        {
          "data": {
            "text/plain": [
              "array([2])"
            ]
          },
          "execution_count": 1,
          "metadata": {},
          "output_type": "execute_result"
        },
        {
          "data": {
            "image/png": "[encoded data removed]",
            "text/plain": [
              "<Figure size 640x480 with 1 Axes>"
            ]
          },
          "metadata": {},
          "output_type": "display_data"
        }
      ],
      "source": [
        "import tensorflow\n",
        "from tensorflow import keras\n",
        "from tensorflow.keras import Sequential\n",
        "from tensorflow.keras.layers import Dense,Flatten\n",
        "(X_train,y_train),(X_test,y_test) = keras.datasets.mnist.load_data()\n",
        "X_test.shape\n",
        "X_train.shape\n",
        "y_train.shape\n",
        "y_test.shape\n",
        "y_train\n",
        "import matplotlib.pyplot as plt\n",
        "plt.imshow(X_train[2])\n",
        "X_train = X_train/255\n",
        "X_test = X_test/255\n",
        "X_train[0]\n",
        "model = Sequential()\n",
        "model.add(Flatten(input_shape=(28,28)))\n",
        "model.add(Dense(128,activation='relu'))\n",
        "model.add(Dense(32,activation='relu'))\n",
        "model.add(Dense(10,activation='softmax'))\n",
        "model.summary()\n",
        "model.compile(loss='sparse_categorical_crossentropy',optimizer='Adam',metrics=['accuracy'])\n",
        "history =model.fit(X_train,y_train,epochs=25,validation_split=0.2)\n",
        "y_prob = model.predict(X_test)\n",
        "y_pred = y_prob.argmax(axis=1)\n",
        "from sklearn.metrics import accuracy_score\n",
        "accuracy_score(y_test,y_pred)\n",
        "plt.plot(history.history['loss'])\n",
        "plt.plot(history.history['val_loss'])\n",
        "plt.plot(history.history['accuracy'])\n",
        "plt.plot(history.history['val_accuracy'])\n",
        "plt.imshow(X_test[1])\n",
        "model.predict(X_test[1].reshape(1,28,28)).argmax(axis=1)"
      ]
    },
    {
      "cell_type": "code",
      "execution_count": null,
      "metadata": {
        "colab": {
          "base_uri": "https://localhost:8080/",
          "height": 1000
        },
        "id": "R3C8ZuBfmDfE",
        "outputId": "9f38eff4-e201-40d7-c064-86cdb047d57a"
      },
      "outputs": [
        {
          "name": "stderr",
          "output_type": "stream",
          "text": [
            "/usr/local/lib/python3.11/dist-packages/keras/src/layers/reshaping/flatten.py:37: UserWarning: Do not pass an `input_shape`/`input_dim` argument to a layer. When using Sequential models, prefer using an `Input(shape)` object as the first layer in the model instead.\n",
            "  super().__init__(**kwargs)\n"
          ]
        },
        {
          "data": {
            "text/html": [
              "<pre style=\"white-space:pre;overflow-x:auto;line-height:normal;font-family:Menlo,'DejaVu Sans Mono',consolas,'Courier New',monospace\"><span style=\"font-weight: bold\">Model: \"sequential_1\"</span>\n",
              "</pre>\n"
            ],
            "text/plain": [
              "\u001b[1mModel: \"sequential_1\"\u001b[0m\n"
            ]
          },
          "metadata": {},
          "output_type": "display_data"
        },
        {
          "data": {
            "text/html": [
              "<pre style=\"white-space:pre;overflow-x:auto;line-height:normal;font-family:Menlo,'DejaVu Sans Mono',consolas,'Courier New',monospace\">┏━━━━━━━━━━━━━━━━━━━━━━━━━━━━━━━━━━━━━━┳━━━━━━━━━━━━━━━━━━━━━━━━━━━━━┳━━━━━━━━━━━━━━━━━┓\n",
              "┃<span style=\"font-weight: bold\"> Layer (type)                         </span>┃<span style=\"font-weight: bold\"> Output Shape                </span>┃<span style=\"font-weight: bold\">         Param # </span>┃\n",
              "┡━━━━━━━━━━━━━━━━━━━━━━━━━━━━━━━━━━━━━━╇━━━━━━━━━━━━━━━━━━━━━━━━━━━━━╇━━━━━━━━━━━━━━━━━┩\n",
              "│ flatten_1 (<span style=\"color: #0087ff; text-decoration-color: #0087ff\">Flatten</span>)                  │ (<span style=\"color: #00d7ff; text-decoration-color: #00d7ff\">None</span>, <span style=\"color: #00af00; text-decoration-color: #00af00\">784</span>)                 │               <span style=\"color: #00af00; text-decoration-color: #00af00\">0</span> │\n",
              "├──────────────────────────────────────┼─────────────────────────────┼─────────────────┤\n",
              "│ dense_3 (<span style=\"color: #0087ff; text-decoration-color: #0087ff\">Dense</span>)                      │ (<span style=\"color: #00d7ff; text-decoration-color: #00d7ff\">None</span>, <span style=\"color: #00af00; text-decoration-color: #00af00\">128</span>)                 │         <span style=\"color: #00af00; text-decoration-color: #00af00\">100,480</span> │\n",
              "├──────────────────────────────────────┼─────────────────────────────┼─────────────────┤\n",
              "│ dense_4 (<span style=\"color: #0087ff; text-decoration-color: #0087ff\">Dense</span>)                      │ (<span style=\"color: #00d7ff; text-decoration-color: #00d7ff\">None</span>, <span style=\"color: #00af00; text-decoration-color: #00af00\">32</span>)                  │           <span style=\"color: #00af00; text-decoration-color: #00af00\">4,128</span> │\n",
              "├──────────────────────────────────────┼─────────────────────────────┼─────────────────┤\n",
              "│ dense_5 (<span style=\"color: #0087ff; text-decoration-color: #0087ff\">Dense</span>)                      │ (<span style=\"color: #00d7ff; text-decoration-color: #00d7ff\">None</span>, <span style=\"color: #00af00; text-decoration-color: #00af00\">10</span>)                  │             <span style=\"color: #00af00; text-decoration-color: #00af00\">330</span> │\n",
              "└──────────────────────────────────────┴─────────────────────────────┴─────────────────┘\n",
              "</pre>\n"
            ],
            "text/plain": [
              "┏━━━━━━━━━━━━━━━━━━━━━━━━━━━━━━━━━━━━━━┳━━━━━━━━━━━━━━━━━━━━━━━━━━━━━┳━━━━━━━━━━━━━━━━━┓\n",
              "┃\u001b[1m \u001b[0m\u001b[1mLayer (type)                        \u001b[0m\u001b[1m \u001b[0m┃\u001b[1m \u001b[0m\u001b[1mOutput Shape               \u001b[0m\u001b[1m \u001b[0m┃\u001b[1m \u001b[0m\u001b[1m        Param #\u001b[0m\u001b[1m \u001b[0m┃\n",
              "┡━━━━━━━━━━━━━━━━━━━━━━━━━━━━━━━━━━━━━━╇━━━━━━━━━━━━━━━━━━━━━━━━━━━━━╇━━━━━━━━━━━━━━━━━┩\n",
              "│ flatten_1 (\u001b[38;5;33mFlatten\u001b[0m)                  │ (\u001b[38;5;45mNone\u001b[0m, \u001b[38;5;34m784\u001b[0m)                 │               \u001b[38;5;34m0\u001b[0m │\n",
              "├──────────────────────────────────────┼─────────────────────────────┼─────────────────┤\n",
              "│ dense_3 (\u001b[38;5;33mDense\u001b[0m)                      │ (\u001b[38;5;45mNone\u001b[0m, \u001b[38;5;34m128\u001b[0m)                 │         \u001b[38;5;34m100,480\u001b[0m │\n",
              "├──────────────────────────────────────┼─────────────────────────────┼─────────────────┤\n",
              "│ dense_4 (\u001b[38;5;33mDense\u001b[0m)                      │ (\u001b[38;5;45mNone\u001b[0m, \u001b[38;5;34m32\u001b[0m)                  │           \u001b[38;5;34m4,128\u001b[0m │\n",
              "├──────────────────────────────────────┼─────────────────────────────┼─────────────────┤\n",
              "│ dense_5 (\u001b[38;5;33mDense\u001b[0m)                      │ (\u001b[38;5;45mNone\u001b[0m, \u001b[38;5;34m10\u001b[0m)                  │             \u001b[38;5;34m330\u001b[0m │\n",
              "└──────────────────────────────────────┴─────────────────────────────┴─────────────────┘\n"
            ]
          },
          "metadata": {},
          "output_type": "display_data"
        },
        {
          "data": {
            "text/html": [
              "<pre style=\"white-space:pre;overflow-x:auto;line-height:normal;font-family:Menlo,'DejaVu Sans Mono',consolas,'Courier New',monospace\"><span style=\"font-weight: bold\"> Total params: </span><span style=\"color: #00af00; text-decoration-color: #00af00\">104,938</span> (409.91 KB)\n",
              "</pre>\n"
            ],
            "text/plain": [
              "\u001b[1m Total params: \u001b[0m\u001b[38;5;34m104,938\u001b[0m (409.91 KB)\n"
            ]
          },
          "metadata": {},
          "output_type": "display_data"
        },
        {
          "data": {
            "text/html": [
              "<pre style=\"white-space:pre;overflow-x:auto;line-height:normal;font-family:Menlo,'DejaVu Sans Mono',consolas,'Courier New',monospace\"><span style=\"font-weight: bold\"> Trainable params: </span><span style=\"color: #00af00; text-decoration-color: #00af00\">104,938</span> (409.91 KB)\n",
              "</pre>\n"
            ],
            "text/plain": [
              "\u001b[1m Trainable params: \u001b[0m\u001b[38;5;34m104,938\u001b[0m (409.91 KB)\n"
            ]
          },
          "metadata": {},
          "output_type": "display_data"
        },
        {
          "data": {
            "text/html": [
              "<pre style=\"white-space:pre;overflow-x:auto;line-height:normal;font-family:Menlo,'DejaVu Sans Mono',consolas,'Courier New',monospace\"><span style=\"font-weight: bold\"> Non-trainable params: </span><span style=\"color: #00af00; text-decoration-color: #00af00\">0</span> (0.00 B)\n",
              "</pre>\n"
            ],
            "text/plain": [
              "\u001b[1m Non-trainable params: \u001b[0m\u001b[38;5;34m0\u001b[0m (0.00 B)\n"
            ]
          },
          "metadata": {},
          "output_type": "display_data"
        },
        {
          "name": "stdout",
          "output_type": "stream",
          "text": [
            "Epoch 1/25\n",
            "\u001b[1m1500/1500\u001b[0m \u001b[32m━━━━━━━━━━━━━━━━━━━━\u001b[0m\u001b[37m\u001b[0m \u001b[1m8s\u001b[0m 4ms/step - accuracy: 0.8576 - loss: 0.4911 - val_accuracy: 0.9566 - val_loss: 0.1474\n",
            "Epoch 2/25\n",
            "\u001b[1m1500/1500\u001b[0m \u001b[32m━━━━━━━━━━━━━━━━━━━━\u001b[0m\u001b[37m\u001b[0m \u001b[1m10s\u001b[0m 4ms/step - accuracy: 0.9608 - loss: 0.1318 - val_accuracy: 0.9678 - val_loss: 0.1072\n",
            "Epoch 3/25\n",
            "\u001b[1m1500/1500\u001b[0m \u001b[32m━━━━━━━━━━━━━━━━━━━━\u001b[0m\u001b[37m\u001b[0m \u001b[1m10s\u001b[0m 4ms/step - accuracy: 0.9740 - loss: 0.0847 - val_accuracy: 0.9717 - val_loss: 0.0964\n",
            "Epoch 4/25\n",
            "\u001b[1m1500/1500\u001b[0m \u001b[32m━━━━━━━━━━━━━━━━━━━━\u001b[0m\u001b[37m\u001b[0m \u001b[1m7s\u001b[0m 5ms/step - accuracy: 0.9819 - loss: 0.0622 - val_accuracy: 0.9744 - val_loss: 0.0916\n",
            "Epoch 5/25\n",
            "\u001b[1m1500/1500\u001b[0m \u001b[32m━━━━━━━━━━━━━━━━━━━━\u001b[0m\u001b[37m\u001b[0m \u001b[1m6s\u001b[0m 4ms/step - accuracy: 0.9865 - loss: 0.0448 - val_accuracy: 0.9701 - val_loss: 0.1065\n",
            "Epoch 6/25\n",
            "\u001b[1m1500/1500\u001b[0m \u001b[32m━━━━━━━━━━━━━━━━━━━━\u001b[0m\u001b[37m\u001b[0m \u001b[1m7s\u001b[0m 5ms/step - accuracy: 0.9881 - loss: 0.0356 - val_accuracy: 0.9747 - val_loss: 0.0960\n",
            "Epoch 7/25\n",
            "\u001b[1m1500/1500\u001b[0m \u001b[32m━━━━━━━━━━━━━━━━━━━━\u001b[0m\u001b[37m\u001b[0m \u001b[1m11s\u001b[0m 5ms/step - accuracy: 0.9905 - loss: 0.0291 - val_accuracy: 0.9703 - val_loss: 0.1113\n",
            "Epoch 8/25\n",
            "\u001b[1m1500/1500\u001b[0m \u001b[32m━━━━━━━━━━━━━━━━━━━━\u001b[0m\u001b[37m\u001b[0m \u001b[1m6s\u001b[0m 4ms/step - accuracy: 0.9919 - loss: 0.0240 - val_accuracy: 0.9746 - val_loss: 0.1030\n",
            "Epoch 9/25\n",
            "\u001b[1m1500/1500\u001b[0m \u001b[32m━━━━━━━━━━━━━━━━━━━━\u001b[0m\u001b[37m\u001b[0m \u001b[1m11s\u001b[0m 4ms/step - accuracy: 0.9931 - loss: 0.0204 - val_accuracy: 0.9747 - val_loss: 0.1057\n",
            "Epoch 10/25\n",
            "\u001b[1m1500/1500\u001b[0m \u001b[32m━━━━━━━━━━━━━━━━━━━━\u001b[0m\u001b[37m\u001b[0m \u001b[1m7s\u001b[0m 5ms/step - accuracy: 0.9950 - loss: 0.0149 - val_accuracy: 0.9734 - val_loss: 0.1117\n",
            "Epoch 11/25\n",
            "\u001b[1m1500/1500\u001b[0m \u001b[32m━━━━━━━━━━━━━━━━━━━━\u001b[0m\u001b[37m\u001b[0m \u001b[1m6s\u001b[0m 4ms/step - accuracy: 0.9960 - loss: 0.0130 - val_accuracy: 0.9761 - val_loss: 0.1060\n",
            "Epoch 12/25\n",
            "\u001b[1m1500/1500\u001b[0m \u001b[32m━━━━━━━━━━━━━━━━━━━━\u001b[0m\u001b[37m\u001b[0m \u001b[1m10s\u001b[0m 4ms/step - accuracy: 0.9964 - loss: 0.0108 - val_accuracy: 0.9728 - val_loss: 0.1205\n",
            "Epoch 13/25\n",
            "\u001b[1m1500/1500\u001b[0m \u001b[32m━━━━━━━━━━━━━━━━━━━━\u001b[0m\u001b[37m\u001b[0m \u001b[1m11s\u001b[0m 5ms/step - accuracy: 0.9947 - loss: 0.0148 - val_accuracy: 0.9728 - val_loss: 0.1301\n",
            "Epoch 14/25\n",
            "\u001b[1m1500/1500\u001b[0m \u001b[32m━━━━━━━━━━━━━━━━━━━━\u001b[0m\u001b[37m\u001b[0m \u001b[1m10s\u001b[0m 5ms/step - accuracy: 0.9957 - loss: 0.0121 - val_accuracy: 0.9758 - val_loss: 0.1266\n",
            "Epoch 15/25\n",
            "\u001b[1m1500/1500\u001b[0m \u001b[32m━━━━━━━━━━━━━━━━━━━━\u001b[0m\u001b[37m\u001b[0m \u001b[1m9s\u001b[0m 4ms/step - accuracy: 0.9958 - loss: 0.0119 - val_accuracy: 0.9775 - val_loss: 0.1193\n",
            "Epoch 16/25\n",
            "\u001b[1m1500/1500\u001b[0m \u001b[32m━━━━━━━━━━━━━━━━━━━━\u001b[0m\u001b[37m\u001b[0m \u001b[1m7s\u001b[0m 4ms/step - accuracy: 0.9968 - loss: 0.0101 - val_accuracy: 0.9787 - val_loss: 0.1255\n",
            "Epoch 17/25\n",
            "\u001b[1m1500/1500\u001b[0m \u001b[32m━━━━━━━━━━━━━━━━━━━━\u001b[0m\u001b[37m\u001b[0m \u001b[1m6s\u001b[0m 4ms/step - accuracy: 0.9974 - loss: 0.0087 - val_accuracy: 0.9732 - val_loss: 0.1504\n",
            "Epoch 18/25\n",
            "\u001b[1m1500/1500\u001b[0m \u001b[32m━━━━━━━━━━━━━━━━━━━━\u001b[0m\u001b[37m\u001b[0m \u001b[1m10s\u001b[0m 4ms/step - accuracy: 0.9963 - loss: 0.0103 - val_accuracy: 0.9755 - val_loss: 0.1464\n",
            "Epoch 19/25\n",
            "\u001b[1m1500/1500\u001b[0m \u001b[32m━━━━━━━━━━━━━━━━━━━━\u001b[0m\u001b[37m\u001b[0m \u001b[1m10s\u001b[0m 4ms/step - accuracy: 0.9981 - loss: 0.0069 - val_accuracy: 0.9732 - val_loss: 0.1441\n",
            "Epoch 20/25\n",
            "\u001b[1m1500/1500\u001b[0m \u001b[32m━━━━━━━━━━━━━━━━━━━━\u001b[0m\u001b[37m\u001b[0m \u001b[1m11s\u001b[0m 4ms/step - accuracy: 0.9966 - loss: 0.0092 - val_accuracy: 0.9776 - val_loss: 0.1372\n",
            "Epoch 21/25\n",
            "\u001b[1m1500/1500\u001b[0m \u001b[32m━━━━━━━━━━━━━━━━━━━━\u001b[0m\u001b[37m\u001b[0m \u001b[1m10s\u001b[0m 4ms/step - accuracy: 0.9976 - loss: 0.0076 - val_accuracy: 0.9755 - val_loss: 0.1425\n",
            "Epoch 22/25\n",
            "\u001b[1m1500/1500\u001b[0m \u001b[32m━━━━━━━━━━━━━━━━━━━━\u001b[0m\u001b[37m\u001b[0m \u001b[1m6s\u001b[0m 4ms/step - accuracy: 0.9982 - loss: 0.0054 - val_accuracy: 0.9762 - val_loss: 0.1426\n",
            "Epoch 23/25\n",
            "\u001b[1m1500/1500\u001b[0m \u001b[32m━━━━━━━━━━━━━━━━━━━━\u001b[0m\u001b[37m\u001b[0m \u001b[1m10s\u001b[0m 4ms/step - accuracy: 0.9980 - loss: 0.0079 - val_accuracy: 0.9776 - val_loss: 0.1410\n",
            "Epoch 24/25\n",
            "\u001b[1m1500/1500\u001b[0m \u001b[32m━━━━━━━━━━━━━━━━━━━━\u001b[0m\u001b[37m\u001b[0m \u001b[1m7s\u001b[0m 5ms/step - accuracy: 0.9983 - loss: 0.0055 - val_accuracy: 0.9769 - val_loss: 0.1423\n",
            "Epoch 25/25\n",
            "\u001b[1m1500/1500\u001b[0m \u001b[32m━━━━━━━━━━━━━━━━━━━━\u001b[0m\u001b[37m\u001b[0m \u001b[1m11s\u001b[0m 5ms/step - accuracy: 0.9979 - loss: 0.0085 - val_accuracy: 0.9696 - val_loss: 0.1954\n",
            "\u001b[1m313/313\u001b[0m \u001b[32m━━━━━━━━━━━━━━━━━━━━\u001b[0m\u001b[37m\u001b[0m \u001b[1m1s\u001b[0m 2ms/step\n"
          ]
        },
        {
          "data": {
            "text/plain": [
              "[<matplotlib.lines.Line2D at 0x7e4961c863d0>]"
            ]
          },
          "execution_count": 2,
          "metadata": {},
          "output_type": "execute_result"
        },
        {
          "data": {
            "image/png": "[encoded data removed]",
            "text/plain": [
              "<Figure size 640x480 with 1 Axes>"
            ]
          },
          "metadata": {},
          "output_type": "display_data"
        }
      ],
      "source": [
        "import tensorflow\n",
        "from tensorflow import keras\n",
        "from tensorflow.keras import Sequential\n",
        "from tensorflow.keras.layers import Dense,Flatten\n",
        "(X_train,y_train),(X_test,y_test) = keras.datasets.mnist.load_data()\n",
        "X_test.shape\n",
        "X_train.shape\n",
        "y_train.shape\n",
        "y_test.shape\n",
        "y_train\n",
        "import matplotlib.pyplot as plt\n",
        "plt.imshow(X_train[2])\n",
        "X_train = X_train/255\n",
        "X_test = X_test/255\n",
        "X_train[0]\n",
        "model = Sequential()\n",
        "model.add(Flatten(input_shape=(28,28)))\n",
        "model.add(Dense(128,activation='relu'))\n",
        "model.add(Dense(32,activation='relu'))\n",
        "model.add(Dense(10,activation='softmax'))\n",
        "model.summary()\n",
        "model.compile(loss='sparse_categorical_crossentropy',optimizer='Adam',metrics=['accuracy'])\n",
        "history =model.fit(X_train,y_train,epochs=25,validation_split=0.2)\n",
        "y_prob = model.predict(X_test)\n",
        "y_pred = y_prob.argmax(axis=1)\n",
        "from sklearn.metrics import accuracy_score\n",
        "accuracy_score(y_test,y_pred)\n",
        "plt.plot(history.history['loss'])\n",
        "plt.plot(history.history['val_loss'])\n",
        "plt.plot(history.history['accuracy'])\n",
        "plt.plot(history.history['val_accuracy'])\n"
      ]
    },
    {
      "cell_type": "code",
      "execution_count": null,
      "metadata": {
        "colab": {
          "base_uri": "https://localhost:8080/",
          "height": 1000
        },
        "id": "-j9wru2JnFPU",
        "outputId": "9f179d4c-3e6c-475f-9c9f-809889013fe0"
      },
      "outputs": [
        {
          "name": "stderr",
          "output_type": "stream",
          "text": [
            "/usr/local/lib/python3.11/dist-packages/keras/src/layers/reshaping/flatten.py:37: UserWarning: Do not pass an `input_shape`/`input_dim` argument to a layer. When using Sequential models, prefer using an `Input(shape)` object as the first layer in the model instead.\n",
            "  super().__init__(**kwargs)\n"
          ]
        },
        {
          "data": {
            "text/html": [
              "<pre style=\"white-space:pre;overflow-x:auto;line-height:normal;font-family:Menlo,'DejaVu Sans Mono',consolas,'Courier New',monospace\"><span style=\"font-weight: bold\">Model: \"sequential_2\"</span>\n",
              "</pre>\n"
            ],
            "text/plain": [
              "\u001b[1mModel: \"sequential_2\"\u001b[0m\n"
            ]
          },
          "metadata": {},
          "output_type": "display_data"
        },
        {
          "data": {
            "text/html": [
              "<pre style=\"white-space:pre;overflow-x:auto;line-height:normal;font-family:Menlo,'DejaVu Sans Mono',consolas,'Courier New',monospace\">┏━━━━━━━━━━━━━━━━━━━━━━━━━━━━━━━━━━━━━━┳━━━━━━━━━━━━━━━━━━━━━━━━━━━━━┳━━━━━━━━━━━━━━━━━┓\n",
              "┃<span style=\"font-weight: bold\"> Layer (type)                         </span>┃<span style=\"font-weight: bold\"> Output Shape                </span>┃<span style=\"font-weight: bold\">         Param # </span>┃\n",
              "┡━━━━━━━━━━━━━━━━━━━━━━━━━━━━━━━━━━━━━━╇━━━━━━━━━━━━━━━━━━━━━━━━━━━━━╇━━━━━━━━━━━━━━━━━┩\n",
              "│ flatten_2 (<span style=\"color: #0087ff; text-decoration-color: #0087ff\">Flatten</span>)                  │ (<span style=\"color: #00d7ff; text-decoration-color: #00d7ff\">None</span>, <span style=\"color: #00af00; text-decoration-color: #00af00\">784</span>)                 │               <span style=\"color: #00af00; text-decoration-color: #00af00\">0</span> │\n",
              "├──────────────────────────────────────┼─────────────────────────────┼─────────────────┤\n",
              "│ dense_6 (<span style=\"color: #0087ff; text-decoration-color: #0087ff\">Dense</span>)                      │ (<span style=\"color: #00d7ff; text-decoration-color: #00d7ff\">None</span>, <span style=\"color: #00af00; text-decoration-color: #00af00\">128</span>)                 │         <span style=\"color: #00af00; text-decoration-color: #00af00\">100,480</span> │\n",
              "├──────────────────────────────────────┼─────────────────────────────┼─────────────────┤\n",
              "│ dense_7 (<span style=\"color: #0087ff; text-decoration-color: #0087ff\">Dense</span>)                      │ (<span style=\"color: #00d7ff; text-decoration-color: #00d7ff\">None</span>, <span style=\"color: #00af00; text-decoration-color: #00af00\">32</span>)                  │           <span style=\"color: #00af00; text-decoration-color: #00af00\">4,128</span> │\n",
              "├──────────────────────────────────────┼─────────────────────────────┼─────────────────┤\n",
              "│ dense_8 (<span style=\"color: #0087ff; text-decoration-color: #0087ff\">Dense</span>)                      │ (<span style=\"color: #00d7ff; text-decoration-color: #00d7ff\">None</span>, <span style=\"color: #00af00; text-decoration-color: #00af00\">10</span>)                  │             <span style=\"color: #00af00; text-decoration-color: #00af00\">330</span> │\n",
              "└──────────────────────────────────────┴─────────────────────────────┴─────────────────┘\n",
              "</pre>\n"
            ],
            "text/plain": [
              "┏━━━━━━━━━━━━━━━━━━━━━━━━━━━━━━━━━━━━━━┳━━━━━━━━━━━━━━━━━━━━━━━━━━━━━┳━━━━━━━━━━━━━━━━━┓\n",
              "┃\u001b[1m \u001b[0m\u001b[1mLayer (type)                        \u001b[0m\u001b[1m \u001b[0m┃\u001b[1m \u001b[0m\u001b[1mOutput Shape               \u001b[0m\u001b[1m \u001b[0m┃\u001b[1m \u001b[0m\u001b[1m        Param #\u001b[0m\u001b[1m \u001b[0m┃\n",
              "┡━━━━━━━━━━━━━━━━━━━━━━━━━━━━━━━━━━━━━━╇━━━━━━━━━━━━━━━━━━━━━━━━━━━━━╇━━━━━━━━━━━━━━━━━┩\n",
              "│ flatten_2 (\u001b[38;5;33mFlatten\u001b[0m)                  │ (\u001b[38;5;45mNone\u001b[0m, \u001b[38;5;34m784\u001b[0m)                 │               \u001b[38;5;34m0\u001b[0m │\n",
              "├──────────────────────────────────────┼─────────────────────────────┼─────────────────┤\n",
              "│ dense_6 (\u001b[38;5;33mDense\u001b[0m)                      │ (\u001b[38;5;45mNone\u001b[0m, \u001b[38;5;34m128\u001b[0m)                 │         \u001b[38;5;34m100,480\u001b[0m │\n",
              "├──────────────────────────────────────┼─────────────────────────────┼─────────────────┤\n",
              "│ dense_7 (\u001b[38;5;33mDense\u001b[0m)                      │ (\u001b[38;5;45mNone\u001b[0m, \u001b[38;5;34m32\u001b[0m)                  │           \u001b[38;5;34m4,128\u001b[0m │\n",
              "├──────────────────────────────────────┼─────────────────────────────┼─────────────────┤\n",
              "│ dense_8 (\u001b[38;5;33mDense\u001b[0m)                      │ (\u001b[38;5;45mNone\u001b[0m, \u001b[38;5;34m10\u001b[0m)                  │             \u001b[38;5;34m330\u001b[0m │\n",
              "└──────────────────────────────────────┴─────────────────────────────┴─────────────────┘\n"
            ]
          },
          "metadata": {},
          "output_type": "display_data"
        },
        {
          "data": {
            "text/html": [
              "<pre style=\"white-space:pre;overflow-x:auto;line-height:normal;font-family:Menlo,'DejaVu Sans Mono',consolas,'Courier New',monospace\"><span style=\"font-weight: bold\"> Total params: </span><span style=\"color: #00af00; text-decoration-color: #00af00\">104,938</span> (409.91 KB)\n",
              "</pre>\n"
            ],
            "text/plain": [
              "\u001b[1m Total params: \u001b[0m\u001b[38;5;34m104,938\u001b[0m (409.91 KB)\n"
            ]
          },
          "metadata": {},
          "output_type": "display_data"
        },
        {
          "data": {
            "text/html": [
              "<pre style=\"white-space:pre;overflow-x:auto;line-height:normal;font-family:Menlo,'DejaVu Sans Mono',consolas,'Courier New',monospace\"><span style=\"font-weight: bold\"> Trainable params: </span><span style=\"color: #00af00; text-decoration-color: #00af00\">104,938</span> (409.91 KB)\n",
              "</pre>\n"
            ],
            "text/plain": [
              "\u001b[1m Trainable params: \u001b[0m\u001b[38;5;34m104,938\u001b[0m (409.91 KB)\n"
            ]
          },
          "metadata": {},
          "output_type": "display_data"
        },
        {
          "data": {
            "text/html": [
              "<pre style=\"white-space:pre;overflow-x:auto;line-height:normal;font-family:Menlo,'DejaVu Sans Mono',consolas,'Courier New',monospace\"><span style=\"font-weight: bold\"> Non-trainable params: </span><span style=\"color: #00af00; text-decoration-color: #00af00\">0</span> (0.00 B)\n",
              "</pre>\n"
            ],
            "text/plain": [
              "\u001b[1m Non-trainable params: \u001b[0m\u001b[38;5;34m0\u001b[0m (0.00 B)\n"
            ]
          },
          "metadata": {},
          "output_type": "display_data"
        },
        {
          "name": "stdout",
          "output_type": "stream",
          "text": [
            "Epoch 1/25\n",
            "\u001b[1m1500/1500\u001b[0m \u001b[32m━━━━━━━━━━━━━━━━━━━━\u001b[0m\u001b[37m\u001b[0m \u001b[1m9s\u001b[0m 5ms/step - accuracy: 0.8593 - loss: 0.4899 - val_accuracy: 0.9563 - val_loss: 0.1468\n",
            "Epoch 2/25\n",
            "\u001b[1m1500/1500\u001b[0m \u001b[32m━━━━━━━━━━━━━━━━━━━━\u001b[0m\u001b[37m\u001b[0m \u001b[1m8s\u001b[0m 4ms/step - accuracy: 0.9605 - loss: 0.1344 - val_accuracy: 0.9685 - val_loss: 0.1092\n",
            "Epoch 3/25\n",
            "\u001b[1m1500/1500\u001b[0m \u001b[32m━━━━━━━━━━━━━━━━━━━━\u001b[0m\u001b[37m\u001b[0m \u001b[1m11s\u001b[0m 4ms/step - accuracy: 0.9721 - loss: 0.0908 - val_accuracy: 0.9684 - val_loss: 0.1034\n",
            "Epoch 4/25\n",
            "\u001b[1m1500/1500\u001b[0m \u001b[32m━━━━━━━━━━━━━━━━━━━━\u001b[0m\u001b[37m\u001b[0m \u001b[1m10s\u001b[0m 4ms/step - accuracy: 0.9803 - loss: 0.0646 - val_accuracy: 0.9732 - val_loss: 0.0954\n",
            "Epoch 5/25\n",
            "\u001b[1m1500/1500\u001b[0m \u001b[32m━━━━━━━━━━━━━━━━━━━━\u001b[0m\u001b[37m\u001b[0m \u001b[1m10s\u001b[0m 4ms/step - accuracy: 0.9858 - loss: 0.0460 - val_accuracy: 0.9732 - val_loss: 0.0949\n",
            "Epoch 6/25\n",
            "\u001b[1m1500/1500\u001b[0m \u001b[32m━━━━━━━━━━━━━━━━━━━━\u001b[0m\u001b[37m\u001b[0m \u001b[1m11s\u001b[0m 5ms/step - accuracy: 0.9884 - loss: 0.0365 - val_accuracy: 0.9761 - val_loss: 0.0861\n",
            "Epoch 7/25\n",
            "\u001b[1m1500/1500\u001b[0m \u001b[32m━━━━━━━━━━━━━━━━━━━━\u001b[0m\u001b[37m\u001b[0m \u001b[1m6s\u001b[0m 4ms/step - accuracy: 0.9903 - loss: 0.0300 - val_accuracy: 0.9729 - val_loss: 0.0977\n",
            "Epoch 8/25\n",
            "\u001b[1m1500/1500\u001b[0m \u001b[32m━━━━━━━━━━━━━━━━━━━━\u001b[0m\u001b[37m\u001b[0m \u001b[1m10s\u001b[0m 4ms/step - accuracy: 0.9926 - loss: 0.0235 - val_accuracy: 0.9742 - val_loss: 0.0998\n",
            "Epoch 9/25\n",
            "\u001b[1m1500/1500\u001b[0m \u001b[32m━━━━━━━━━━━━━━━━━━━━\u001b[0m\u001b[37m\u001b[0m \u001b[1m7s\u001b[0m 5ms/step - accuracy: 0.9931 - loss: 0.0207 - val_accuracy: 0.9747 - val_loss: 0.1111\n",
            "Epoch 10/25\n",
            "\u001b[1m1500/1500\u001b[0m \u001b[32m━━━━━━━━━━━━━━━━━━━━\u001b[0m\u001b[37m\u001b[0m \u001b[1m6s\u001b[0m 4ms/step - accuracy: 0.9944 - loss: 0.0188 - val_accuracy: 0.9753 - val_loss: 0.1048\n",
            "Epoch 11/25\n",
            "\u001b[1m1500/1500\u001b[0m \u001b[32m━━━━━━━━━━━━━━━━━━━━\u001b[0m\u001b[37m\u001b[0m \u001b[1m7s\u001b[0m 5ms/step - accuracy: 0.9951 - loss: 0.0147 - val_accuracy: 0.9732 - val_loss: 0.1113\n",
            "Epoch 12/25\n",
            "\u001b[1m1500/1500\u001b[0m \u001b[32m━━━━━━━━━━━━━━━━━━━━\u001b[0m\u001b[37m\u001b[0m \u001b[1m7s\u001b[0m 5ms/step - accuracy: 0.9958 - loss: 0.0127 - val_accuracy: 0.9728 - val_loss: 0.1215\n",
            "Epoch 13/25\n",
            "\u001b[1m1500/1500\u001b[0m \u001b[32m━━━━━━━━━━━━━━━━━━━━\u001b[0m\u001b[37m\u001b[0m \u001b[1m10s\u001b[0m 4ms/step - accuracy: 0.9956 - loss: 0.0131 - val_accuracy: 0.9752 - val_loss: 0.1089\n",
            "Epoch 14/25\n",
            "\u001b[1m1500/1500\u001b[0m \u001b[32m━━━━━━━━━━━━━━━━━━━━\u001b[0m\u001b[37m\u001b[0m \u001b[1m10s\u001b[0m 4ms/step - accuracy: 0.9959 - loss: 0.0117 - val_accuracy: 0.9728 - val_loss: 0.1284\n",
            "Epoch 15/25\n",
            "\u001b[1m1500/1500\u001b[0m \u001b[32m━━━━━━━━━━━━━━━━━━━━\u001b[0m\u001b[37m\u001b[0m \u001b[1m10s\u001b[0m 4ms/step - accuracy: 0.9967 - loss: 0.0099 - val_accuracy: 0.9733 - val_loss: 0.1313\n",
            "Epoch 16/25\n",
            "\u001b[1m1500/1500\u001b[0m \u001b[32m━━━━━━━━━━━━━━━━━━━━\u001b[0m\u001b[37m\u001b[0m \u001b[1m11s\u001b[0m 5ms/step - accuracy: 0.9958 - loss: 0.0141 - val_accuracy: 0.9753 - val_loss: 0.1182\n",
            "Epoch 17/25\n",
            "\u001b[1m1500/1500\u001b[0m \u001b[32m━━━━━━━━━━━━━━━━━━━━\u001b[0m\u001b[37m\u001b[0m \u001b[1m11s\u001b[0m 5ms/step - accuracy: 0.9969 - loss: 0.0086 - val_accuracy: 0.9728 - val_loss: 0.1367\n",
            "Epoch 18/25\n",
            "\u001b[1m1500/1500\u001b[0m \u001b[32m━━━━━━━━━━━━━━━━━━━━\u001b[0m\u001b[37m\u001b[0m \u001b[1m6s\u001b[0m 4ms/step - accuracy: 0.9978 - loss: 0.0069 - val_accuracy: 0.9747 - val_loss: 0.1268\n",
            "Epoch 19/25\n",
            "\u001b[1m1500/1500\u001b[0m \u001b[32m━━━━━━━━━━━━━━━━━━━━\u001b[0m\u001b[37m\u001b[0m \u001b[1m7s\u001b[0m 5ms/step - accuracy: 0.9968 - loss: 0.0104 - val_accuracy: 0.9747 - val_loss: 0.1321\n",
            "Epoch 20/25\n",
            "\u001b[1m1500/1500\u001b[0m \u001b[32m━━━━━━━━━━━━━━━━━━━━\u001b[0m\u001b[37m\u001b[0m \u001b[1m10s\u001b[0m 5ms/step - accuracy: 0.9972 - loss: 0.0090 - val_accuracy: 0.9753 - val_loss: 0.1448\n",
            "Epoch 21/25\n",
            "\u001b[1m1500/1500\u001b[0m \u001b[32m━━━━━━━━━━━━━━━━━━━━\u001b[0m\u001b[37m\u001b[0m \u001b[1m6s\u001b[0m 4ms/step - accuracy: 0.9965 - loss: 0.0104 - val_accuracy: 0.9762 - val_loss: 0.1391\n",
            "Epoch 22/25\n",
            "\u001b[1m1500/1500\u001b[0m \u001b[32m━━━━━━━━━━━━━━━━━━━━\u001b[0m\u001b[37m\u001b[0m \u001b[1m10s\u001b[0m 4ms/step - accuracy: 0.9982 - loss: 0.0056 - val_accuracy: 0.9767 - val_loss: 0.1418\n",
            "Epoch 23/25\n",
            "\u001b[1m1500/1500\u001b[0m \u001b[32m━━━━━━━━━━━━━━━━━━━━\u001b[0m\u001b[37m\u001b[0m \u001b[1m7s\u001b[0m 5ms/step - accuracy: 0.9976 - loss: 0.0069 - val_accuracy: 0.9735 - val_loss: 0.1686\n",
            "Epoch 24/25\n",
            "\u001b[1m1500/1500\u001b[0m \u001b[32m━━━━━━━━━━━━━━━━━━━━\u001b[0m\u001b[37m\u001b[0m \u001b[1m6s\u001b[0m 4ms/step - accuracy: 0.9982 - loss: 0.0051 - val_accuracy: 0.9732 - val_loss: 0.1458\n",
            "Epoch 25/25\n",
            "\u001b[1m1500/1500\u001b[0m \u001b[32m━━━━━━━━━━━━━━━━━━━━\u001b[0m\u001b[37m\u001b[0m \u001b[1m8s\u001b[0m 5ms/step - accuracy: 0.9976 - loss: 0.0079 - val_accuracy: 0.9728 - val_loss: 0.1710\n",
            "\u001b[1m313/313\u001b[0m \u001b[32m━━━━━━━━━━━━━━━━━━━━\u001b[0m\u001b[37m\u001b[0m \u001b[1m1s\u001b[0m 2ms/step\n",
            "\u001b[1m1/1\u001b[0m \u001b[32m━━━━━━━━━━━━━━━━━━━━\u001b[0m\u001b[37m\u001b[0m \u001b[1m0s\u001b[0m 39ms/step\n"
          ]
        },
        {
          "data": {
            "text/plain": [
              "array([2])"
            ]
          },
          "execution_count": 3,
          "metadata": {},
          "output_type": "execute_result"
        },
        {
          "data": {
            "image/png": "[encoded data removed]",
            "text/plain": [
              "<Figure size 640x480 with 1 Axes>"
            ]
          },
          "metadata": {},
          "output_type": "display_data"
        }
      ],
      "source": [
        "import tensorflow\n",
        "from tensorflow import keras\n",
        "from tensorflow.keras import Sequential\n",
        "from tensorflow.keras.layers import Dense,Flatten\n",
        "(X_train,y_train),(X_test,y_test) = keras.datasets.mnist.load_data()\n",
        "X_test.shape\n",
        "X_train.shape\n",
        "y_train.shape\n",
        "y_test.shape\n",
        "y_train\n",
        "import matplotlib.pyplot as plt\n",
        "plt.imshow(X_train[2])\n",
        "X_train = X_train/255\n",
        "X_test = X_test/255\n",
        "X_train[0]\n",
        "model = Sequential()\n",
        "model.add(Flatten(input_shape=(28,28)))\n",
        "model.add(Dense(128,activation='relu'))\n",
        "model.add(Dense(32,activation='relu'))\n",
        "model.add(Dense(10,activation='softmax'))\n",
        "model.summary()\n",
        "model.compile(loss='sparse_categorical_crossentropy',optimizer='Adam',metrics=['accuracy'])\n",
        "history =model.fit(X_train,y_train,epochs=25,validation_split=0.2)\n",
        "y_prob = model.predict(X_test)\n",
        "y_pred = y_prob.argmax(axis=1)\n",
        "from sklearn.metrics import accuracy_score\n",
        "accuracy_score(y_test,y_pred)\n",
        "\n",
        "plt.imshow(X_test[1])\n",
        "model.predict(X_test[1].reshape(1,28,28)).argmax(axis=1)"
      ]
    },
    {
      "cell_type": "code",
      "execution_count": null,
      "metadata": {
        "colab": {
          "base_uri": "https://localhost:8080/",
          "height": 1000
        },
        "id": "HmiAIJ6bn-y2",
        "outputId": "6f6c7724-7156-44f0-e509-15038f2a3539"
      },
      "outputs": [
        {
          "name": "stderr",
          "output_type": "stream",
          "text": [
            "/usr/local/lib/python3.11/dist-packages/keras/src/layers/reshaping/flatten.py:37: UserWarning: Do not pass an `input_shape`/`input_dim` argument to a layer. When using Sequential models, prefer using an `Input(shape)` object as the first layer in the model instead.\n",
            "  super().__init__(**kwargs)\n"
          ]
        },
        {
          "data": {
            "text/html": [
              "<pre style=\"white-space:pre;overflow-x:auto;line-height:normal;font-family:Menlo,'DejaVu Sans Mono',consolas,'Courier New',monospace\"><span style=\"font-weight: bold\">Model: \"sequential_3\"</span>\n",
              "</pre>\n"
            ],
            "text/plain": [
              "\u001b[1mModel: \"sequential_3\"\u001b[0m\n"
            ]
          },
          "metadata": {},
          "output_type": "display_data"
        },
        {
          "data": {
            "text/html": [
              "<pre style=\"white-space:pre;overflow-x:auto;line-height:normal;font-family:Menlo,'DejaVu Sans Mono',consolas,'Courier New',monospace\">┏━━━━━━━━━━━━━━━━━━━━━━━━━━━━━━━━━━━━━━┳━━━━━━━━━━━━━━━━━━━━━━━━━━━━━┳━━━━━━━━━━━━━━━━━┓\n",
              "┃<span style=\"font-weight: bold\"> Layer (type)                         </span>┃<span style=\"font-weight: bold\"> Output Shape                </span>┃<span style=\"font-weight: bold\">         Param # </span>┃\n",
              "┡━━━━━━━━━━━━━━━━━━━━━━━━━━━━━━━━━━━━━━╇━━━━━━━━━━━━━━━━━━━━━━━━━━━━━╇━━━━━━━━━━━━━━━━━┩\n",
              "│ flatten_3 (<span style=\"color: #0087ff; text-decoration-color: #0087ff\">Flatten</span>)                  │ (<span style=\"color: #00d7ff; text-decoration-color: #00d7ff\">None</span>, <span style=\"color: #00af00; text-decoration-color: #00af00\">784</span>)                 │               <span style=\"color: #00af00; text-decoration-color: #00af00\">0</span> │\n",
              "├──────────────────────────────────────┼─────────────────────────────┼─────────────────┤\n",
              "│ dense_9 (<span style=\"color: #0087ff; text-decoration-color: #0087ff\">Dense</span>)                      │ (<span style=\"color: #00d7ff; text-decoration-color: #00d7ff\">None</span>, <span style=\"color: #00af00; text-decoration-color: #00af00\">128</span>)                 │         <span style=\"color: #00af00; text-decoration-color: #00af00\">100,480</span> │\n",
              "├──────────────────────────────────────┼─────────────────────────────┼─────────────────┤\n",
              "│ dense_10 (<span style=\"color: #0087ff; text-decoration-color: #0087ff\">Dense</span>)                     │ (<span style=\"color: #00d7ff; text-decoration-color: #00d7ff\">None</span>, <span style=\"color: #00af00; text-decoration-color: #00af00\">32</span>)                  │           <span style=\"color: #00af00; text-decoration-color: #00af00\">4,128</span> │\n",
              "├──────────────────────────────────────┼─────────────────────────────┼─────────────────┤\n",
              "│ dense_11 (<span style=\"color: #0087ff; text-decoration-color: #0087ff\">Dense</span>)                     │ (<span style=\"color: #00d7ff; text-decoration-color: #00d7ff\">None</span>, <span style=\"color: #00af00; text-decoration-color: #00af00\">10</span>)                  │             <span style=\"color: #00af00; text-decoration-color: #00af00\">330</span> │\n",
              "└──────────────────────────────────────┴─────────────────────────────┴─────────────────┘\n",
              "</pre>\n"
            ],
            "text/plain": [
              "┏━━━━━━━━━━━━━━━━━━━━━━━━━━━━━━━━━━━━━━┳━━━━━━━━━━━━━━━━━━━━━━━━━━━━━┳━━━━━━━━━━━━━━━━━┓\n",
              "┃\u001b[1m \u001b[0m\u001b[1mLayer (type)                        \u001b[0m\u001b[1m \u001b[0m┃\u001b[1m \u001b[0m\u001b[1mOutput Shape               \u001b[0m\u001b[1m \u001b[0m┃\u001b[1m \u001b[0m\u001b[1m        Param #\u001b[0m\u001b[1m \u001b[0m┃\n",
              "┡━━━━━━━━━━━━━━━━━━━━━━━━━━━━━━━━━━━━━━╇━━━━━━━━━━━━━━━━━━━━━━━━━━━━━╇━━━━━━━━━━━━━━━━━┩\n",
              "│ flatten_3 (\u001b[38;5;33mFlatten\u001b[0m)                  │ (\u001b[38;5;45mNone\u001b[0m, \u001b[38;5;34m784\u001b[0m)                 │               \u001b[38;5;34m0\u001b[0m │\n",
              "├──────────────────────────────────────┼─────────────────────────────┼─────────────────┤\n",
              "│ dense_9 (\u001b[38;5;33mDense\u001b[0m)                      │ (\u001b[38;5;45mNone\u001b[0m, \u001b[38;5;34m128\u001b[0m)                 │         \u001b[38;5;34m100,480\u001b[0m │\n",
              "├──────────────────────────────────────┼─────────────────────────────┼─────────────────┤\n",
              "│ dense_10 (\u001b[38;5;33mDense\u001b[0m)                     │ (\u001b[38;5;45mNone\u001b[0m, \u001b[38;5;34m32\u001b[0m)                  │           \u001b[38;5;34m4,128\u001b[0m │\n",
              "├──────────────────────────────────────┼─────────────────────────────┼─────────────────┤\n",
              "│ dense_11 (\u001b[38;5;33mDense\u001b[0m)                     │ (\u001b[38;5;45mNone\u001b[0m, \u001b[38;5;34m10\u001b[0m)                  │             \u001b[38;5;34m330\u001b[0m │\n",
              "└──────────────────────────────────────┴─────────────────────────────┴─────────────────┘\n"
            ]
          },
          "metadata": {},
          "output_type": "display_data"
        },
        {
          "data": {
            "text/html": [
              "<pre style=\"white-space:pre;overflow-x:auto;line-height:normal;font-family:Menlo,'DejaVu Sans Mono',consolas,'Courier New',monospace\"><span style=\"font-weight: bold\"> Total params: </span><span style=\"color: #00af00; text-decoration-color: #00af00\">104,938</span> (409.91 KB)\n",
              "</pre>\n"
            ],
            "text/plain": [
              "\u001b[1m Total params: \u001b[0m\u001b[38;5;34m104,938\u001b[0m (409.91 KB)\n"
            ]
          },
          "metadata": {},
          "output_type": "display_data"
        },
        {
          "data": {
            "text/html": [
              "<pre style=\"white-space:pre;overflow-x:auto;line-height:normal;font-family:Menlo,'DejaVu Sans Mono',consolas,'Courier New',monospace\"><span style=\"font-weight: bold\"> Trainable params: </span><span style=\"color: #00af00; text-decoration-color: #00af00\">104,938</span> (409.91 KB)\n",
              "</pre>\n"
            ],
            "text/plain": [
              "\u001b[1m Trainable params: \u001b[0m\u001b[38;5;34m104,938\u001b[0m (409.91 KB)\n"
            ]
          },
          "metadata": {},
          "output_type": "display_data"
        },
        {
          "data": {
            "text/html": [
              "<pre style=\"white-space:pre;overflow-x:auto;line-height:normal;font-family:Menlo,'DejaVu Sans Mono',consolas,'Courier New',monospace\"><span style=\"font-weight: bold\"> Non-trainable params: </span><span style=\"color: #00af00; text-decoration-color: #00af00\">0</span> (0.00 B)\n",
              "</pre>\n"
            ],
            "text/plain": [
              "\u001b[1m Non-trainable params: \u001b[0m\u001b[38;5;34m0\u001b[0m (0.00 B)\n"
            ]
          },
          "metadata": {},
          "output_type": "display_data"
        },
        {
          "name": "stdout",
          "output_type": "stream",
          "text": [
            "Epoch 1/25\n",
            "\u001b[1m1500/1500\u001b[0m \u001b[32m━━━━━━━━━━━━━━━━━━━━\u001b[0m\u001b[37m\u001b[0m \u001b[1m7s\u001b[0m 4ms/step - accuracy: 0.4505 - loss: 1.8216 - val_accuracy: 0.8254 - val_loss: 0.8413\n",
            "Epoch 2/25\n",
            "\u001b[1m1500/1500\u001b[0m \u001b[32m━━━━━━━━━━━━━━━━━━━━\u001b[0m\u001b[37m\u001b[0m \u001b[1m10s\u001b[0m 4ms/step - accuracy: 0.8238 - loss: 0.7808 - val_accuracy: 0.8727 - val_loss: 0.5521\n",
            "Epoch 3/25\n",
            "\u001b[1m1500/1500\u001b[0m \u001b[32m━━━━━━━━━━━━━━━━━━━━\u001b[0m\u001b[37m\u001b[0m \u001b[1m6s\u001b[0m 4ms/step - accuracy: 0.8646 - loss: 0.5582 - val_accuracy: 0.8887 - val_loss: 0.4521\n",
            "Epoch 4/25\n",
            "\u001b[1m1500/1500\u001b[0m \u001b[32m━━━━━━━━━━━━━━━━━━━━\u001b[0m\u001b[37m\u001b[0m \u001b[1m7s\u001b[0m 5ms/step - accuracy: 0.8814 - loss: 0.4699 - val_accuracy: 0.8979 - val_loss: 0.4012\n",
            "Epoch 5/25\n",
            "\u001b[1m1500/1500\u001b[0m \u001b[32m━━━━━━━━━━━━━━━━━━━━\u001b[0m\u001b[37m\u001b[0m \u001b[1m9s\u001b[0m 4ms/step - accuracy: 0.8919 - loss: 0.4220 - val_accuracy: 0.9039 - val_loss: 0.3696\n",
            "Epoch 6/25\n",
            "\u001b[1m1500/1500\u001b[0m \u001b[32m━━━━━━━━━━━━━━━━━━━━\u001b[0m\u001b[37m\u001b[0m \u001b[1m6s\u001b[0m 4ms/step - accuracy: 0.9011 - loss: 0.3863 - val_accuracy: 0.9092 - val_loss: 0.3478\n",
            "Epoch 7/25\n",
            "\u001b[1m1500/1500\u001b[0m \u001b[32m━━━━━━━━━━━━━━━━━━━━\u001b[0m\u001b[37m\u001b[0m \u001b[1m11s\u001b[0m 5ms/step - accuracy: 0.9036 - loss: 0.3692 - val_accuracy: 0.9116 - val_loss: 0.3315\n",
            "Epoch 8/25\n",
            "\u001b[1m1500/1500\u001b[0m \u001b[32m━━━━━━━━━━━━━━━━━━━━\u001b[0m\u001b[37m\u001b[0m \u001b[1m9s\u001b[0m 4ms/step - accuracy: 0.9070 - loss: 0.3553 - val_accuracy: 0.9146 - val_loss: 0.3188\n",
            "Epoch 9/25\n",
            "\u001b[1m1500/1500\u001b[0m \u001b[32m━━━━━━━━━━━━━━━━━━━━\u001b[0m\u001b[37m\u001b[0m \u001b[1m6s\u001b[0m 4ms/step - accuracy: 0.9098 - loss: 0.3361 - val_accuracy: 0.9165 - val_loss: 0.3083\n",
            "Epoch 10/25\n",
            "\u001b[1m1500/1500\u001b[0m \u001b[32m━━━━━━━━━━━━━━━━━━━━\u001b[0m\u001b[37m\u001b[0m \u001b[1m11s\u001b[0m 5ms/step - accuracy: 0.9117 - loss: 0.3262 - val_accuracy: 0.9193 - val_loss: 0.2994\n",
            "Epoch 11/25\n",
            "\u001b[1m1500/1500\u001b[0m \u001b[32m━━━━━━━━━━━━━━━━━━━━\u001b[0m\u001b[37m\u001b[0m \u001b[1m6s\u001b[0m 4ms/step - accuracy: 0.9116 - loss: 0.3231 - val_accuracy: 0.9211 - val_loss: 0.2921\n",
            "Epoch 12/25\n",
            "\u001b[1m 466/1500\u001b[0m \u001b[32m━━━━━━\u001b[0m\u001b[37m━━━━━━━━━━━━━━\u001b[0m \u001b[1m8s\u001b[0m 8ms/step - accuracy: 0.9179 - loss: 0.3018"
          ]
        },
        {
          "ename": "KeyboardInterrupt",
          "evalue": "",
          "output_type": "error",
          "traceback": [
            "\u001b[0;31m---------------------------------------------------------------------------\u001b[0m",
            "\u001b[0;31mKeyboardInterrupt\u001b[0m                         Traceback (most recent call last)",
            "\u001b[0;32m<ipython-input-4-31b4791edb3f>\u001b[0m in \u001b[0;36m<cell line: 0>\u001b[0;34m()\u001b[0m\n\u001b[1;32m     21\u001b[0m \u001b[0mmodel\u001b[0m\u001b[0;34m.\u001b[0m\u001b[0msummary\u001b[0m\u001b[0;34m(\u001b[0m\u001b[0;34m)\u001b[0m\u001b[0;34m\u001b[0m\u001b[0;34m\u001b[0m\u001b[0m\n\u001b[1;32m     22\u001b[0m \u001b[0mmodel\u001b[0m\u001b[0;34m.\u001b[0m\u001b[0mcompile\u001b[0m\u001b[0;34m(\u001b[0m\u001b[0mloss\u001b[0m\u001b[0;34m=\u001b[0m\u001b[0;34m'sparse_categorical_crossentropy'\u001b[0m\u001b[0;34m,\u001b[0m\u001b[0moptimizer\u001b[0m\u001b[0;34m=\u001b[0m\u001b[0;34m'Adagrad'\u001b[0m\u001b[0;34m,\u001b[0m\u001b[0mmetrics\u001b[0m\u001b[0;34m=\u001b[0m\u001b[0;34m[\u001b[0m\u001b[0;34m'accuracy'\u001b[0m\u001b[0;34m]\u001b[0m\u001b[0;34m)\u001b[0m\u001b[0;34m\u001b[0m\u001b[0;34m\u001b[0m\u001b[0m\n\u001b[0;32m---> 23\u001b[0;31m \u001b[0mhistory\u001b[0m \u001b[0;34m=\u001b[0m\u001b[0mmodel\u001b[0m\u001b[0;34m.\u001b[0m\u001b[0mfit\u001b[0m\u001b[0;34m(\u001b[0m\u001b[0mX_train\u001b[0m\u001b[0;34m,\u001b[0m\u001b[0my_train\u001b[0m\u001b[0;34m,\u001b[0m\u001b[0mepochs\u001b[0m\u001b[0;34m=\u001b[0m\u001b[0;36m25\u001b[0m\u001b[0;34m,\u001b[0m\u001b[0mvalidation_split\u001b[0m\u001b[0;34m=\u001b[0m\u001b[0;36m0.2\u001b[0m\u001b[0;34m)\u001b[0m\u001b[0;34m\u001b[0m\u001b[0;34m\u001b[0m\u001b[0m\n\u001b[0m\u001b[1;32m     24\u001b[0m \u001b[0my_prob\u001b[0m \u001b[0;34m=\u001b[0m \u001b[0mmodel\u001b[0m\u001b[0;34m.\u001b[0m\u001b[0mpredict\u001b[0m\u001b[0;34m(\u001b[0m\u001b[0mX_test\u001b[0m\u001b[0;34m)\u001b[0m\u001b[0;34m\u001b[0m\u001b[0;34m\u001b[0m\u001b[0m\n\u001b[1;32m     25\u001b[0m \u001b[0my_pred\u001b[0m \u001b[0;34m=\u001b[0m \u001b[0my_prob\u001b[0m\u001b[0;34m.\u001b[0m\u001b[0margmax\u001b[0m\u001b[0;34m(\u001b[0m\u001b[0maxis\u001b[0m\u001b[0;34m=\u001b[0m\u001b[0;36m1\u001b[0m\u001b[0;34m)\u001b[0m\u001b[0;34m\u001b[0m\u001b[0;34m\u001b[0m\u001b[0m\n",
            "\u001b[0;32m/usr/local/lib/python3.11/dist-packages/keras/src/utils/traceback_utils.py\u001b[0m in \u001b[0;36merror_handler\u001b[0;34m(*args, **kwargs)\u001b[0m\n\u001b[1;32m    115\u001b[0m         \u001b[0mfiltered_tb\u001b[0m \u001b[0;34m=\u001b[0m \u001b[0;32mNone\u001b[0m\u001b[0;34m\u001b[0m\u001b[0;34m\u001b[0m\u001b[0m\n\u001b[1;32m    116\u001b[0m         \u001b[0;32mtry\u001b[0m\u001b[0;34m:\u001b[0m\u001b[0;34m\u001b[0m\u001b[0;34m\u001b[0m\u001b[0m\n\u001b[0;32m--> 117\u001b[0;31m             \u001b[0;32mreturn\u001b[0m \u001b[0mfn\u001b[0m\u001b[0;34m(\u001b[0m\u001b[0;34m*\u001b[0m\u001b[0margs\u001b[0m\u001b[0;34m,\u001b[0m \u001b[0;34m**\u001b[0m\u001b[0mkwargs\u001b[0m\u001b[0;34m)\u001b[0m\u001b[0;34m\u001b[0m\u001b[0;34m\u001b[0m\u001b[0m\n\u001b[0m\u001b[1;32m    118\u001b[0m         \u001b[0;32mexcept\u001b[0m \u001b[0mException\u001b[0m \u001b[0;32mas\u001b[0m \u001b[0me\u001b[0m\u001b[0;34m:\u001b[0m\u001b[0;34m\u001b[0m\u001b[0;34m\u001b[0m\u001b[0m\n\u001b[1;32m    119\u001b[0m             \u001b[0mfiltered_tb\u001b[0m \u001b[0;34m=\u001b[0m \u001b[0m_process_traceback_frames\u001b[0m\u001b[0;34m(\u001b[0m\u001b[0me\u001b[0m\u001b[0;34m.\u001b[0m\u001b[0m__traceback__\u001b[0m\u001b[0;34m)\u001b[0m\u001b[0;34m\u001b[0m\u001b[0;34m\u001b[0m\u001b[0m\n",
            "\u001b[0;32m/usr/local/lib/python3.11/dist-packages/keras/src/backend/tensorflow/trainer.py\u001b[0m in \u001b[0;36mfit\u001b[0;34m(self, x, y, batch_size, epochs, verbose, callbacks, validation_split, validation_data, shuffle, class_weight, sample_weight, initial_epoch, steps_per_epoch, validation_steps, validation_batch_size, validation_freq)\u001b[0m\n\u001b[1;32m    369\u001b[0m                 \u001b[0;32mfor\u001b[0m \u001b[0mstep\u001b[0m\u001b[0;34m,\u001b[0m \u001b[0miterator\u001b[0m \u001b[0;32min\u001b[0m \u001b[0mepoch_iterator\u001b[0m\u001b[0;34m:\u001b[0m\u001b[0;34m\u001b[0m\u001b[0;34m\u001b[0m\u001b[0m\n\u001b[1;32m    370\u001b[0m                     \u001b[0mcallbacks\u001b[0m\u001b[0;34m.\u001b[0m\u001b[0mon_train_batch_begin\u001b[0m\u001b[0;34m(\u001b[0m\u001b[0mstep\u001b[0m\u001b[0;34m)\u001b[0m\u001b[0;34m\u001b[0m\u001b[0;34m\u001b[0m\u001b[0m\n\u001b[0;32m--> 371\u001b[0;31m                     \u001b[0mlogs\u001b[0m \u001b[0;34m=\u001b[0m \u001b[0mself\u001b[0m\u001b[0;34m.\u001b[0m\u001b[0mtrain_function\u001b[0m\u001b[0;34m(\u001b[0m\u001b[0miterator\u001b[0m\u001b[0;34m)\u001b[0m\u001b[0;34m\u001b[0m\u001b[0;34m\u001b[0m\u001b[0m\n\u001b[0m\u001b[1;32m    372\u001b[0m                     \u001b[0mcallbacks\u001b[0m\u001b[0;34m.\u001b[0m\u001b[0mon_train_batch_end\u001b[0m\u001b[0;34m(\u001b[0m\u001b[0mstep\u001b[0m\u001b[0;34m,\u001b[0m \u001b[0mlogs\u001b[0m\u001b[0;34m)\u001b[0m\u001b[0;34m\u001b[0m\u001b[0;34m\u001b[0m\u001b[0m\n\u001b[1;32m    373\u001b[0m                     \u001b[0;32mif\u001b[0m \u001b[0mself\u001b[0m\u001b[0;34m.\u001b[0m\u001b[0mstop_training\u001b[0m\u001b[0;34m:\u001b[0m\u001b[0;34m\u001b[0m\u001b[0;34m\u001b[0m\u001b[0m\n",
            "\u001b[0;32m/usr/local/lib/python3.11/dist-packages/keras/src/backend/tensorflow/trainer.py\u001b[0m in \u001b[0;36mfunction\u001b[0;34m(iterator)\u001b[0m\n\u001b[1;32m    217\u001b[0m                 \u001b[0miterator\u001b[0m\u001b[0;34m,\u001b[0m \u001b[0;34m(\u001b[0m\u001b[0mtf\u001b[0m\u001b[0;34m.\u001b[0m\u001b[0mdata\u001b[0m\u001b[0;34m.\u001b[0m\u001b[0mIterator\u001b[0m\u001b[0;34m,\u001b[0m \u001b[0mtf\u001b[0m\u001b[0;34m.\u001b[0m\u001b[0mdistribute\u001b[0m\u001b[0;34m.\u001b[0m\u001b[0mDistributedIterator\u001b[0m\u001b[0;34m)\u001b[0m\u001b[0;34m\u001b[0m\u001b[0;34m\u001b[0m\u001b[0m\n\u001b[1;32m    218\u001b[0m             ):\n\u001b[0;32m--> 219\u001b[0;31m                 \u001b[0mopt_outputs\u001b[0m \u001b[0;34m=\u001b[0m \u001b[0mmulti_step_on_iterator\u001b[0m\u001b[0;34m(\u001b[0m\u001b[0miterator\u001b[0m\u001b[0;34m)\u001b[0m\u001b[0;34m\u001b[0m\u001b[0;34m\u001b[0m\u001b[0m\n\u001b[0m\u001b[1;32m    220\u001b[0m                 \u001b[0;32mif\u001b[0m \u001b[0;32mnot\u001b[0m \u001b[0mopt_outputs\u001b[0m\u001b[0;34m.\u001b[0m\u001b[0mhas_value\u001b[0m\u001b[0;34m(\u001b[0m\u001b[0;34m)\u001b[0m\u001b[0;34m:\u001b[0m\u001b[0;34m\u001b[0m\u001b[0;34m\u001b[0m\u001b[0m\n\u001b[1;32m    221\u001b[0m                     \u001b[0;32mraise\u001b[0m \u001b[0mStopIteration\u001b[0m\u001b[0;34m\u001b[0m\u001b[0;34m\u001b[0m\u001b[0m\n",
            "\u001b[0;32m/usr/local/lib/python3.11/dist-packages/tensorflow/python/util/traceback_utils.py\u001b[0m in \u001b[0;36merror_handler\u001b[0;34m(*args, **kwargs)\u001b[0m\n\u001b[1;32m    148\u001b[0m     \u001b[0mfiltered_tb\u001b[0m \u001b[0;34m=\u001b[0m \u001b[0;32mNone\u001b[0m\u001b[0;34m\u001b[0m\u001b[0;34m\u001b[0m\u001b[0m\n\u001b[1;32m    149\u001b[0m     \u001b[0;32mtry\u001b[0m\u001b[0;34m:\u001b[0m\u001b[0;34m\u001b[0m\u001b[0;34m\u001b[0m\u001b[0m\n\u001b[0;32m--> 150\u001b[0;31m       \u001b[0;32mreturn\u001b[0m \u001b[0mfn\u001b[0m\u001b[0;34m(\u001b[0m\u001b[0;34m*\u001b[0m\u001b[0margs\u001b[0m\u001b[0;34m,\u001b[0m \u001b[0;34m**\u001b[0m\u001b[0mkwargs\u001b[0m\u001b[0;34m)\u001b[0m\u001b[0;34m\u001b[0m\u001b[0;34m\u001b[0m\u001b[0m\n\u001b[0m\u001b[1;32m    151\u001b[0m     \u001b[0;32mexcept\u001b[0m \u001b[0mException\u001b[0m \u001b[0;32mas\u001b[0m \u001b[0me\u001b[0m\u001b[0;34m:\u001b[0m\u001b[0;34m\u001b[0m\u001b[0;34m\u001b[0m\u001b[0m\n\u001b[1;32m    152\u001b[0m       \u001b[0mfiltered_tb\u001b[0m \u001b[0;34m=\u001b[0m \u001b[0m_process_traceback_frames\u001b[0m\u001b[0;34m(\u001b[0m\u001b[0me\u001b[0m\u001b[0;34m.\u001b[0m\u001b[0m__traceback__\u001b[0m\u001b[0;34m)\u001b[0m\u001b[0;34m\u001b[0m\u001b[0;34m\u001b[0m\u001b[0m\n",
            "\u001b[0;32m/usr/local/lib/python3.11/dist-packages/tensorflow/python/eager/polymorphic_function/polymorphic_function.py\u001b[0m in \u001b[0;36m__call__\u001b[0;34m(self, *args, **kwds)\u001b[0m\n\u001b[1;32m    831\u001b[0m \u001b[0;34m\u001b[0m\u001b[0m\n\u001b[1;32m    832\u001b[0m       \u001b[0;32mwith\u001b[0m \u001b[0mOptionalXlaContext\u001b[0m\u001b[0;34m(\u001b[0m\u001b[0mself\u001b[0m\u001b[0;34m.\u001b[0m\u001b[0m_jit_compile\u001b[0m\u001b[0;34m)\u001b[0m\u001b[0;34m:\u001b[0m\u001b[0;34m\u001b[0m\u001b[0;34m\u001b[0m\u001b[0m\n\u001b[0;32m--> 833\u001b[0;31m         \u001b[0mresult\u001b[0m \u001b[0;34m=\u001b[0m \u001b[0mself\u001b[0m\u001b[0;34m.\u001b[0m\u001b[0m_call\u001b[0m\u001b[0;34m(\u001b[0m\u001b[0;34m*\u001b[0m\u001b[0margs\u001b[0m\u001b[0;34m,\u001b[0m \u001b[0;34m**\u001b[0m\u001b[0mkwds\u001b[0m\u001b[0;34m)\u001b[0m\u001b[0;34m\u001b[0m\u001b[0;34m\u001b[0m\u001b[0m\n\u001b[0m\u001b[1;32m    834\u001b[0m \u001b[0;34m\u001b[0m\u001b[0m\n\u001b[1;32m    835\u001b[0m       \u001b[0mnew_tracing_count\u001b[0m \u001b[0;34m=\u001b[0m \u001b[0mself\u001b[0m\u001b[0;34m.\u001b[0m\u001b[0mexperimental_get_tracing_count\u001b[0m\u001b[0;34m(\u001b[0m\u001b[0;34m)\u001b[0m\u001b[0;34m\u001b[0m\u001b[0;34m\u001b[0m\u001b[0m\n",
            "\u001b[0;32m/usr/local/lib/python3.11/dist-packages/tensorflow/python/eager/polymorphic_function/polymorphic_function.py\u001b[0m in \u001b[0;36m_call\u001b[0;34m(self, *args, **kwds)\u001b[0m\n\u001b[1;32m    876\u001b[0m       \u001b[0;31m# In this case we have not created variables on the first call. So we can\u001b[0m\u001b[0;34m\u001b[0m\u001b[0;34m\u001b[0m\u001b[0m\n\u001b[1;32m    877\u001b[0m       \u001b[0;31m# run the first trace but we should fail if variables are created.\u001b[0m\u001b[0;34m\u001b[0m\u001b[0;34m\u001b[0m\u001b[0m\n\u001b[0;32m--> 878\u001b[0;31m       results = tracing_compilation.call_function(\n\u001b[0m\u001b[1;32m    879\u001b[0m           \u001b[0margs\u001b[0m\u001b[0;34m,\u001b[0m \u001b[0mkwds\u001b[0m\u001b[0;34m,\u001b[0m \u001b[0mself\u001b[0m\u001b[0;34m.\u001b[0m\u001b[0m_variable_creation_config\u001b[0m\u001b[0;34m\u001b[0m\u001b[0;34m\u001b[0m\u001b[0m\n\u001b[1;32m    880\u001b[0m       )\n",
            "\u001b[0;32m/usr/local/lib/python3.11/dist-packages/tensorflow/python/eager/polymorphic_function/tracing_compilation.py\u001b[0m in \u001b[0;36mcall_function\u001b[0;34m(args, kwargs, tracing_options)\u001b[0m\n\u001b[1;32m    137\u001b[0m   \u001b[0mbound_args\u001b[0m \u001b[0;34m=\u001b[0m \u001b[0mfunction\u001b[0m\u001b[0;34m.\u001b[0m\u001b[0mfunction_type\u001b[0m\u001b[0;34m.\u001b[0m\u001b[0mbind\u001b[0m\u001b[0;34m(\u001b[0m\u001b[0;34m*\u001b[0m\u001b[0margs\u001b[0m\u001b[0;34m,\u001b[0m \u001b[0;34m**\u001b[0m\u001b[0mkwargs\u001b[0m\u001b[0;34m)\u001b[0m\u001b[0;34m\u001b[0m\u001b[0;34m\u001b[0m\u001b[0m\n\u001b[1;32m    138\u001b[0m   \u001b[0mflat_inputs\u001b[0m \u001b[0;34m=\u001b[0m \u001b[0mfunction\u001b[0m\u001b[0;34m.\u001b[0m\u001b[0mfunction_type\u001b[0m\u001b[0;34m.\u001b[0m\u001b[0munpack_inputs\u001b[0m\u001b[0;34m(\u001b[0m\u001b[0mbound_args\u001b[0m\u001b[0;34m)\u001b[0m\u001b[0;34m\u001b[0m\u001b[0;34m\u001b[0m\u001b[0m\n\u001b[0;32m--> 139\u001b[0;31m   return function._call_flat(  # pylint: disable=protected-access\n\u001b[0m\u001b[1;32m    140\u001b[0m       \u001b[0mflat_inputs\u001b[0m\u001b[0;34m,\u001b[0m \u001b[0mcaptured_inputs\u001b[0m\u001b[0;34m=\u001b[0m\u001b[0mfunction\u001b[0m\u001b[0;34m.\u001b[0m\u001b[0mcaptured_inputs\u001b[0m\u001b[0;34m\u001b[0m\u001b[0;34m\u001b[0m\u001b[0m\n\u001b[1;32m    141\u001b[0m   )\n",
            "\u001b[0;32m/usr/local/lib/python3.11/dist-packages/tensorflow/python/eager/polymorphic_function/concrete_function.py\u001b[0m in \u001b[0;36m_call_flat\u001b[0;34m(self, tensor_inputs, captured_inputs)\u001b[0m\n\u001b[1;32m   1320\u001b[0m         and executing_eagerly):\n\u001b[1;32m   1321\u001b[0m       \u001b[0;31m# No tape is watching; skip to running the function.\u001b[0m\u001b[0;34m\u001b[0m\u001b[0;34m\u001b[0m\u001b[0m\n\u001b[0;32m-> 1322\u001b[0;31m       \u001b[0;32mreturn\u001b[0m \u001b[0mself\u001b[0m\u001b[0;34m.\u001b[0m\u001b[0m_inference_function\u001b[0m\u001b[0;34m.\u001b[0m\u001b[0mcall_preflattened\u001b[0m\u001b[0;34m(\u001b[0m\u001b[0margs\u001b[0m\u001b[0;34m)\u001b[0m\u001b[0;34m\u001b[0m\u001b[0;34m\u001b[0m\u001b[0m\n\u001b[0m\u001b[1;32m   1323\u001b[0m     forward_backward = self._select_forward_and_backward_functions(\n\u001b[1;32m   1324\u001b[0m         \u001b[0margs\u001b[0m\u001b[0;34m,\u001b[0m\u001b[0;34m\u001b[0m\u001b[0;34m\u001b[0m\u001b[0m\n",
            "\u001b[0;32m/usr/local/lib/python3.11/dist-packages/tensorflow/python/eager/polymorphic_function/atomic_function.py\u001b[0m in \u001b[0;36mcall_preflattened\u001b[0;34m(self, args)\u001b[0m\n\u001b[1;32m    214\u001b[0m   \u001b[0;32mdef\u001b[0m \u001b[0mcall_preflattened\u001b[0m\u001b[0;34m(\u001b[0m\u001b[0mself\u001b[0m\u001b[0;34m,\u001b[0m \u001b[0margs\u001b[0m\u001b[0;34m:\u001b[0m \u001b[0mSequence\u001b[0m\u001b[0;34m[\u001b[0m\u001b[0mcore\u001b[0m\u001b[0;34m.\u001b[0m\u001b[0mTensor\u001b[0m\u001b[0;34m]\u001b[0m\u001b[0;34m)\u001b[0m \u001b[0;34m->\u001b[0m \u001b[0mAny\u001b[0m\u001b[0;34m:\u001b[0m\u001b[0;34m\u001b[0m\u001b[0;34m\u001b[0m\u001b[0m\n\u001b[1;32m    215\u001b[0m     \u001b[0;34m\"\"\"Calls with flattened tensor inputs and returns the structured output.\"\"\"\u001b[0m\u001b[0;34m\u001b[0m\u001b[0;34m\u001b[0m\u001b[0m\n\u001b[0;32m--> 216\u001b[0;31m     \u001b[0mflat_outputs\u001b[0m \u001b[0;34m=\u001b[0m \u001b[0mself\u001b[0m\u001b[0;34m.\u001b[0m\u001b[0mcall_flat\u001b[0m\u001b[0;34m(\u001b[0m\u001b[0;34m*\u001b[0m\u001b[0margs\u001b[0m\u001b[0;34m)\u001b[0m\u001b[0;34m\u001b[0m\u001b[0;34m\u001b[0m\u001b[0m\n\u001b[0m\u001b[1;32m    217\u001b[0m     \u001b[0;32mreturn\u001b[0m \u001b[0mself\u001b[0m\u001b[0;34m.\u001b[0m\u001b[0mfunction_type\u001b[0m\u001b[0;34m.\u001b[0m\u001b[0mpack_output\u001b[0m\u001b[0;34m(\u001b[0m\u001b[0mflat_outputs\u001b[0m\u001b[0;34m)\u001b[0m\u001b[0;34m\u001b[0m\u001b[0;34m\u001b[0m\u001b[0m\n\u001b[1;32m    218\u001b[0m \u001b[0;34m\u001b[0m\u001b[0m\n",
            "\u001b[0;32m/usr/local/lib/python3.11/dist-packages/tensorflow/python/eager/polymorphic_function/atomic_function.py\u001b[0m in \u001b[0;36mcall_flat\u001b[0;34m(self, *args)\u001b[0m\n\u001b[1;32m    249\u001b[0m         \u001b[0;32mwith\u001b[0m \u001b[0mrecord\u001b[0m\u001b[0;34m.\u001b[0m\u001b[0mstop_recording\u001b[0m\u001b[0;34m(\u001b[0m\u001b[0;34m)\u001b[0m\u001b[0;34m:\u001b[0m\u001b[0;34m\u001b[0m\u001b[0;34m\u001b[0m\u001b[0m\n\u001b[1;32m    250\u001b[0m           \u001b[0;32mif\u001b[0m \u001b[0mself\u001b[0m\u001b[0;34m.\u001b[0m\u001b[0m_bound_context\u001b[0m\u001b[0;34m.\u001b[0m\u001b[0mexecuting_eagerly\u001b[0m\u001b[0;34m(\u001b[0m\u001b[0;34m)\u001b[0m\u001b[0;34m:\u001b[0m\u001b[0;34m\u001b[0m\u001b[0;34m\u001b[0m\u001b[0m\n\u001b[0;32m--> 251\u001b[0;31m             outputs = self._bound_context.call_function(\n\u001b[0m\u001b[1;32m    252\u001b[0m                 \u001b[0mself\u001b[0m\u001b[0;34m.\u001b[0m\u001b[0mname\u001b[0m\u001b[0;34m,\u001b[0m\u001b[0;34m\u001b[0m\u001b[0;34m\u001b[0m\u001b[0m\n\u001b[1;32m    253\u001b[0m                 \u001b[0mlist\u001b[0m\u001b[0;34m(\u001b[0m\u001b[0margs\u001b[0m\u001b[0;34m)\u001b[0m\u001b[0;34m,\u001b[0m\u001b[0;34m\u001b[0m\u001b[0;34m\u001b[0m\u001b[0m\n",
            "\u001b[0;32m/usr/local/lib/python3.11/dist-packages/tensorflow/python/eager/context.py\u001b[0m in \u001b[0;36mcall_function\u001b[0;34m(self, name, tensor_inputs, num_outputs)\u001b[0m\n\u001b[1;32m   1681\u001b[0m     \u001b[0mcancellation_context\u001b[0m \u001b[0;34m=\u001b[0m \u001b[0mcancellation\u001b[0m\u001b[0;34m.\u001b[0m\u001b[0mcontext\u001b[0m\u001b[0;34m(\u001b[0m\u001b[0;34m)\u001b[0m\u001b[0;34m\u001b[0m\u001b[0;34m\u001b[0m\u001b[0m\n\u001b[1;32m   1682\u001b[0m     \u001b[0;32mif\u001b[0m \u001b[0mcancellation_context\u001b[0m \u001b[0;32mis\u001b[0m \u001b[0;32mNone\u001b[0m\u001b[0;34m:\u001b[0m\u001b[0;34m\u001b[0m\u001b[0;34m\u001b[0m\u001b[0m\n\u001b[0;32m-> 1683\u001b[0;31m       outputs = execute.execute(\n\u001b[0m\u001b[1;32m   1684\u001b[0m           \u001b[0mname\u001b[0m\u001b[0;34m.\u001b[0m\u001b[0mdecode\u001b[0m\u001b[0;34m(\u001b[0m\u001b[0;34m\"utf-8\"\u001b[0m\u001b[0;34m)\u001b[0m\u001b[0;34m,\u001b[0m\u001b[0;34m\u001b[0m\u001b[0;34m\u001b[0m\u001b[0m\n\u001b[1;32m   1685\u001b[0m           \u001b[0mnum_outputs\u001b[0m\u001b[0;34m=\u001b[0m\u001b[0mnum_outputs\u001b[0m\u001b[0;34m,\u001b[0m\u001b[0;34m\u001b[0m\u001b[0;34m\u001b[0m\u001b[0m\n",
            "\u001b[0;32m/usr/local/lib/python3.11/dist-packages/tensorflow/python/eager/execute.py\u001b[0m in \u001b[0;36mquick_execute\u001b[0;34m(op_name, num_outputs, inputs, attrs, ctx, name)\u001b[0m\n\u001b[1;32m     51\u001b[0m   \u001b[0;32mtry\u001b[0m\u001b[0;34m:\u001b[0m\u001b[0;34m\u001b[0m\u001b[0;34m\u001b[0m\u001b[0m\n\u001b[1;32m     52\u001b[0m     \u001b[0mctx\u001b[0m\u001b[0;34m.\u001b[0m\u001b[0mensure_initialized\u001b[0m\u001b[0;34m(\u001b[0m\u001b[0;34m)\u001b[0m\u001b[0;34m\u001b[0m\u001b[0;34m\u001b[0m\u001b[0m\n\u001b[0;32m---> 53\u001b[0;31m     tensors = pywrap_tfe.TFE_Py_Execute(ctx._handle, device_name, op_name,\n\u001b[0m\u001b[1;32m     54\u001b[0m                                         inputs, attrs, num_outputs)\n\u001b[1;32m     55\u001b[0m   \u001b[0;32mexcept\u001b[0m \u001b[0mcore\u001b[0m\u001b[0;34m.\u001b[0m\u001b[0m_NotOkStatusException\u001b[0m \u001b[0;32mas\u001b[0m \u001b[0me\u001b[0m\u001b[0;34m:\u001b[0m\u001b[0;34m\u001b[0m\u001b[0;34m\u001b[0m\u001b[0m\n",
            "\u001b[0;31mKeyboardInterrupt\u001b[0m: "
          ]
        },
        {
          "data": {
            "image/png": "[encoded data removed]",
            "text/plain": [
              "<Figure size 640x480 with 1 Axes>"
            ]
          },
          "metadata": {},
          "output_type": "display_data"
        }
      ],
      "source": [
        "import tensorflow\n",
        "from tensorflow import keras\n",
        "from tensorflow.keras import Sequential\n",
        "from tensorflow.keras.layers import Dense,Flatten\n",
        "(X_train,y_train),(X_test,y_test) =keras.datasets.mnist.load_data()\n",
        "X_test.shape\n",
        "X_train.shape\n",
        "y_train.shape\n",
        "y_test.shape\n",
        "y_train\n",
        "import matplotlib.pyplot as plt\n",
        "plt.imshow(X_train[2])\n",
        "X_train = X_train/255\n",
        "X_test = X_test/255\n",
        "X_train[0]\n",
        "model = Sequential()\n",
        "model.add(Flatten(input_shape=(28,28)))\n",
        "model.add(Dense(128,activation='relu'))\n",
        "model.add(Dense(32,activation='relu'))\n",
        "model.add(Dense(10,activation='softmax'))\n",
        "model.summary()\n",
        "model.compile(loss='sparse_categorical_crossentropy',optimizer='Adagrad',metrics=['accuracy'])\n",
        "history =model.fit(X_train,y_train,epochs=25,validation_split=0.2)\n",
        "y_prob = model.predict(X_test)\n",
        "y_pred = y_prob.argmax(axis=1)\n",
        "from sklearn.metrics import accuracy_score\n",
        "accuracy_score(y_test,y_pred)\n",
        "plt.plot(history.history['loss'])\n",
        "plt.plot(history.history['val_loss'])\n",
        "plt.plot(history.history['accuracy'])\n",
        "plt.plot(history.history['val_accuracy'])\n",
        "plt.imshow(X_test[11])\n",
        "model.predict(X_test[1].reshape(1,28,28)).argmax(axis=1)\n"
      ]
    },
    {
      "cell_type": "code",
      "execution_count": null,
      "metadata": {
        "colab": {
          "base_uri": "https://localhost:8080/",
          "height": 447
        },
        "id": "hAp9hfH8oWuk",
        "outputId": "df03400d-6c44-42a1-9d87-a74cc2114a5c"
      },
      "outputs": [
        {
          "data": {
            "text/plain": [
              "[<matplotlib.lines.Line2D at 0x7e4961a89310>]"
            ]
          },
          "execution_count": 5,
          "metadata": {},
          "output_type": "execute_result"
        },
        {
          "data": {
            "image/png": "[encoded data removed]",
            "text/plain": [
              "<Figure size 640x480 with 1 Axes>"
            ]
          },
          "metadata": {},
          "output_type": "display_data"
        }
      ],
      "source": [
        "plt.plot(history.history['loss'])\n",
        "plt.plot(history.history['val_loss'])\n",
        "plt.plot(history.history['accuracy'])\n",
        "plt.plot(history.history['val_accuracy'])"
      ]
    },
    {
      "cell_type": "code",
      "execution_count": null,
      "metadata": {
        "colab": {
          "base_uri": "https://localhost:8080/",
          "height": 1000
        },
        "id": "JqrPaBM1eqWe",
        "outputId": "c485d242-2886-4529-804b-63c624e9687d"
      },
      "outputs": [
        {
          "name": "stderr",
          "output_type": "stream",
          "text": [
            "/usr/local/lib/python3.11/dist-packages/keras/src/layers/core/dense.py:87: UserWarning: Do not pass an `input_shape`/`input_dim` argument to a layer. When using Sequential models, prefer using an `Input(shape)` object as the first layer in the model instead.\n",
            "  super().__init__(activity_regularizer=activity_regularizer, **kwargs)\n"
          ]
        },
        {
          "data": {
            "text/html": [
              "<pre style=\"white-space:pre;overflow-x:auto;line-height:normal;font-family:Menlo,'DejaVu Sans Mono',consolas,'Courier New',monospace\"><span style=\"font-weight: bold\">Model: \"sequential_1\"</span>\n",
              "</pre>\n"
            ],
            "text/plain": [
              "\u001b[1mModel: \"sequential_1\"\u001b[0m\n"
            ]
          },
          "metadata": {},
          "output_type": "display_data"
        },
        {
          "data": {
            "text/html": [
              "<pre style=\"white-space:pre;overflow-x:auto;line-height:normal;font-family:Menlo,'DejaVu Sans Mono',consolas,'Courier New',monospace\">┏━━━━━━━━━━━━━━━━━━━━━━━━━━━━━━━━━┳━━━━━━━━━━━━━━━━━━━━━━━━┳━━━━━━━━━━━━━━━┓\n",
              "┃<span style=\"font-weight: bold\"> Layer (type)                    </span>┃<span style=\"font-weight: bold\"> Output Shape           </span>┃<span style=\"font-weight: bold\">       Param # </span>┃\n",
              "┡━━━━━━━━━━━━━━━━━━━━━━━━━━━━━━━━━╇━━━━━━━━━━━━━━━━━━━━━━━━╇━━━━━━━━━━━━━━━┩\n",
              "│ dense_3 (<span style=\"color: #0087ff; text-decoration-color: #0087ff\">Dense</span>)                 │ (<span style=\"color: #00d7ff; text-decoration-color: #00d7ff\">None</span>, <span style=\"color: #00af00; text-decoration-color: #00af00\">64</span>)             │           <span style=\"color: #00af00; text-decoration-color: #00af00\">896</span> │\n",
              "├─────────────────────────────────┼────────────────────────┼───────────────┤\n",
              "│ dense_4 (<span style=\"color: #0087ff; text-decoration-color: #0087ff\">Dense</span>)                 │ (<span style=\"color: #00d7ff; text-decoration-color: #00d7ff\">None</span>, <span style=\"color: #00af00; text-decoration-color: #00af00\">64</span>)             │         <span style=\"color: #00af00; text-decoration-color: #00af00\">4,160</span> │\n",
              "├─────────────────────────────────┼────────────────────────┼───────────────┤\n",
              "│ dense_5 (<span style=\"color: #0087ff; text-decoration-color: #0087ff\">Dense</span>)                 │ (<span style=\"color: #00d7ff; text-decoration-color: #00d7ff\">None</span>, <span style=\"color: #00af00; text-decoration-color: #00af00\">1</span>)              │            <span style=\"color: #00af00; text-decoration-color: #00af00\">65</span> │\n",
              "└─────────────────────────────────┴────────────────────────┴───────────────┘\n",
              "</pre>\n"
            ],
            "text/plain": [
              "┏━━━━━━━━━━━━━━━━━━━━━━━━━━━━━━━━━┳━━━━━━━━━━━━━━━━━━━━━━━━┳━━━━━━━━━━━━━━━┓\n",
              "┃\u001b[1m \u001b[0m\u001b[1mLayer (type)                   \u001b[0m\u001b[1m \u001b[0m┃\u001b[1m \u001b[0m\u001b[1mOutput Shape          \u001b[0m\u001b[1m \u001b[0m┃\u001b[1m \u001b[0m\u001b[1m      Param #\u001b[0m\u001b[1m \u001b[0m┃\n",
              "┡━━━━━━━━━━━━━━━━━━━━━━━━━━━━━━━━━╇━━━━━━━━━━━━━━━━━━━━━━━━╇━━━━━━━━━━━━━━━┩\n",
              "│ dense_3 (\u001b[38;5;33mDense\u001b[0m)                 │ (\u001b[38;5;45mNone\u001b[0m, \u001b[38;5;34m64\u001b[0m)             │           \u001b[38;5;34m896\u001b[0m │\n",
              "├─────────────────────────────────┼────────────────────────┼───────────────┤\n",
              "│ dense_4 (\u001b[38;5;33mDense\u001b[0m)                 │ (\u001b[38;5;45mNone\u001b[0m, \u001b[38;5;34m64\u001b[0m)             │         \u001b[38;5;34m4,160\u001b[0m │\n",
              "├─────────────────────────────────┼────────────────────────┼───────────────┤\n",
              "│ dense_5 (\u001b[38;5;33mDense\u001b[0m)                 │ (\u001b[38;5;45mNone\u001b[0m, \u001b[38;5;34m1\u001b[0m)              │            \u001b[38;5;34m65\u001b[0m │\n",
              "└─────────────────────────────────┴────────────────────────┴───────────────┘\n"
            ]
          },
          "metadata": {},
          "output_type": "display_data"
        },
        {
          "data": {
            "text/html": [
              "<pre style=\"white-space:pre;overflow-x:auto;line-height:normal;font-family:Menlo,'DejaVu Sans Mono',consolas,'Courier New',monospace\"><span style=\"font-weight: bold\"> Total params: </span><span style=\"color: #00af00; text-decoration-color: #00af00\">5,121</span> (20.00 KB)\n",
              "</pre>\n"
            ],
            "text/plain": [
              "\u001b[1m Total params: \u001b[0m\u001b[38;5;34m5,121\u001b[0m (20.00 KB)\n"
            ]
          },
          "metadata": {},
          "output_type": "display_data"
        },
        {
          "data": {
            "text/html": [
              "<pre style=\"white-space:pre;overflow-x:auto;line-height:normal;font-family:Menlo,'DejaVu Sans Mono',consolas,'Courier New',monospace\"><span style=\"font-weight: bold\"> Trainable params: </span><span style=\"color: #00af00; text-decoration-color: #00af00\">5,121</span> (20.00 KB)\n",
              "</pre>\n"
            ],
            "text/plain": [
              "\u001b[1m Trainable params: \u001b[0m\u001b[38;5;34m5,121\u001b[0m (20.00 KB)\n"
            ]
          },
          "metadata": {},
          "output_type": "display_data"
        },
        {
          "data": {
            "text/html": [
              "<pre style=\"white-space:pre;overflow-x:auto;line-height:normal;font-family:Menlo,'DejaVu Sans Mono',consolas,'Courier New',monospace\"><span style=\"font-weight: bold\"> Non-trainable params: </span><span style=\"color: #00af00; text-decoration-color: #00af00\">0</span> (0.00 B)\n",
              "</pre>\n"
            ],
            "text/plain": [
              "\u001b[1m Non-trainable params: \u001b[0m\u001b[38;5;34m0\u001b[0m (0.00 B)\n"
            ]
          },
          "metadata": {},
          "output_type": "display_data"
        },
        {
          "name": "stdout",
          "output_type": "stream",
          "text": [
            "Epoch 1/500\n",
            "26/26 - 1s - 57ms/step - loss: 542.0103 - mean_absolute_error: 21.3061 - val_loss: 498.9167 - val_mean_absolute_error: 20.3257\n",
            "Epoch 2/500\n",
            "26/26 - 0s - 6ms/step - loss: 402.2511 - mean_absolute_error: 17.8545 - val_loss: 323.8513 - val_mean_absolute_error: 15.7947\n",
            "Epoch 3/500\n",
            "26/26 - 0s - 11ms/step - loss: 221.4505 - mean_absolute_error: 12.4144 - val_loss: 139.1979 - val_mean_absolute_error: 9.9247\n",
            "Epoch 4/500\n",
            "26/26 - 0s - 10ms/step - loss: 93.9715 - mean_absolute_error: 7.4496 - val_loss: 70.4656 - val_mean_absolute_error: 6.5738\n",
            "Epoch 5/500\n",
            "26/26 - 0s - 5ms/step - loss: 53.1693 - mean_absolute_error: 5.5175 - val_loss: 47.0203 - val_mean_absolute_error: 5.4098\n",
            "Epoch 6/500\n",
            "26/26 - 0s - 6ms/step - loss: 35.5342 - mean_absolute_error: 4.3244 - val_loss: 35.6454 - val_mean_absolute_error: 4.6740\n",
            "Epoch 7/500\n",
            "26/26 - 0s - 5ms/step - loss: 27.9216 - mean_absolute_error: 3.8135 - val_loss: 30.9337 - val_mean_absolute_error: 4.3636\n",
            "Epoch 8/500\n",
            "26/26 - 0s - 5ms/step - loss: 24.0911 - mean_absolute_error: 3.5108 - val_loss: 28.3578 - val_mean_absolute_error: 4.1582\n",
            "Epoch 9/500\n",
            "26/26 - 0s - 6ms/step - loss: 21.8705 - mean_absolute_error: 3.3440 - val_loss: 26.5549 - val_mean_absolute_error: 3.9979\n",
            "Epoch 10/500\n",
            "26/26 - 0s - 10ms/step - loss: 19.9945 - mean_absolute_error: 3.1598 - val_loss: 25.2848 - val_mean_absolute_error: 3.8874\n",
            "Epoch 11/500\n",
            "26/26 - 0s - 5ms/step - loss: 18.3542 - mean_absolute_error: 3.0774 - val_loss: 25.7144 - val_mean_absolute_error: 3.8918\n",
            "Epoch 12/500\n",
            "26/26 - 0s - 6ms/step - loss: 17.3826 - mean_absolute_error: 2.9892 - val_loss: 24.2631 - val_mean_absolute_error: 3.7306\n",
            "Epoch 13/500\n",
            "26/26 - 0s - 11ms/step - loss: 15.9672 - mean_absolute_error: 2.8192 - val_loss: 23.7470 - val_mean_absolute_error: 3.7017\n",
            "Epoch 14/500\n",
            "26/26 - 0s - 6ms/step - loss: 15.2178 - mean_absolute_error: 2.7510 - val_loss: 22.8075 - val_mean_absolute_error: 3.6080\n",
            "Epoch 15/500\n",
            "26/26 - 0s - 10ms/step - loss: 14.5078 - mean_absolute_error: 2.6783 - val_loss: 23.0627 - val_mean_absolute_error: 3.5975\n",
            "Epoch 16/500\n",
            "26/26 - 0s - 5ms/step - loss: 13.8290 - mean_absolute_error: 2.6453 - val_loss: 22.9546 - val_mean_absolute_error: 3.5602\n",
            "Epoch 17/500\n",
            "26/26 - 0s - 6ms/step - loss: 13.1873 - mean_absolute_error: 2.5629 - val_loss: 22.8720 - val_mean_absolute_error: 3.5217\n",
            "Epoch 18/500\n",
            "26/26 - 0s - 11ms/step - loss: 12.7773 - mean_absolute_error: 2.5570 - val_loss: 22.5058 - val_mean_absolute_error: 3.4549\n",
            "Epoch 19/500\n",
            "26/26 - 0s - 5ms/step - loss: 12.2927 - mean_absolute_error: 2.5113 - val_loss: 22.7084 - val_mean_absolute_error: 3.4364\n",
            "Epoch 20/500\n",
            "26/26 - 0s - 5ms/step - loss: 11.9816 - mean_absolute_error: 2.4676 - val_loss: 22.3525 - val_mean_absolute_error: 3.4081\n",
            "Epoch 21/500\n",
            "26/26 - 0s - 5ms/step - loss: 11.5642 - mean_absolute_error: 2.4385 - val_loss: 22.5266 - val_mean_absolute_error: 3.3952\n",
            "Epoch 22/500\n",
            "26/26 - 0s - 5ms/step - loss: 11.3916 - mean_absolute_error: 2.4170 - val_loss: 22.4836 - val_mean_absolute_error: 3.3525\n",
            "Epoch 23/500\n",
            "26/26 - 0s - 6ms/step - loss: 11.2664 - mean_absolute_error: 2.4017 - val_loss: 22.7291 - val_mean_absolute_error: 3.3680\n",
            "Epoch 24/500\n",
            "26/26 - 0s - 11ms/step - loss: 10.8851 - mean_absolute_error: 2.3638 - val_loss: 22.3341 - val_mean_absolute_error: 3.3015\n",
            "Epoch 25/500\n",
            "26/26 - 0s - 5ms/step - loss: 10.7486 - mean_absolute_error: 2.3596 - val_loss: 22.0650 - val_mean_absolute_error: 3.2621\n",
            "Epoch 26/500\n",
            "26/26 - 0s - 6ms/step - loss: 10.5306 - mean_absolute_error: 2.3350 - val_loss: 22.2396 - val_mean_absolute_error: 3.2631\n",
            "Epoch 27/500\n",
            "26/26 - 0s - 7ms/step - loss: 10.4860 - mean_absolute_error: 2.3360 - val_loss: 23.6508 - val_mean_absolute_error: 3.3545\n",
            "Epoch 28/500\n",
            "26/26 - 0s - 5ms/step - loss: 10.3550 - mean_absolute_error: 2.3089 - val_loss: 21.5395 - val_mean_absolute_error: 3.1884\n",
            "Epoch 29/500\n",
            "26/26 - 0s - 6ms/step - loss: 10.2885 - mean_absolute_error: 2.3130 - val_loss: 21.6518 - val_mean_absolute_error: 3.1631\n",
            "Epoch 30/500\n",
            "26/26 - 0s - 5ms/step - loss: 9.9460 - mean_absolute_error: 2.2766 - val_loss: 22.5080 - val_mean_absolute_error: 3.2340\n",
            "Epoch 31/500\n",
            "26/26 - 0s - 5ms/step - loss: 9.7367 - mean_absolute_error: 2.2472 - val_loss: 21.6596 - val_mean_absolute_error: 3.1428\n",
            "Epoch 32/500\n",
            "26/26 - 0s - 5ms/step - loss: 9.7323 - mean_absolute_error: 2.2370 - val_loss: 22.5168 - val_mean_absolute_error: 3.2097\n",
            "Epoch 33/500\n",
            "26/26 - 0s - 5ms/step - loss: 9.6675 - mean_absolute_error: 2.2525 - val_loss: 21.7443 - val_mean_absolute_error: 3.1357\n",
            "Epoch 34/500\n",
            "26/26 - 0s - 5ms/step - loss: 9.4736 - mean_absolute_error: 2.2203 - val_loss: 22.2212 - val_mean_absolute_error: 3.1562\n",
            "Epoch 35/500\n",
            "26/26 - 0s - 5ms/step - loss: 9.4498 - mean_absolute_error: 2.2158 - val_loss: 21.6983 - val_mean_absolute_error: 3.1201\n",
            "Epoch 36/500\n",
            "26/26 - 0s - 6ms/step - loss: 9.3631 - mean_absolute_error: 2.2281 - val_loss: 21.0184 - val_mean_absolute_error: 3.0638\n",
            "Epoch 37/500\n",
            "26/26 - 0s - 5ms/step - loss: 9.3850 - mean_absolute_error: 2.2118 - val_loss: 21.7889 - val_mean_absolute_error: 3.1298\n",
            "Epoch 38/500\n",
            "26/26 - 0s - 5ms/step - loss: 9.0320 - mean_absolute_error: 2.1875 - val_loss: 20.9808 - val_mean_absolute_error: 3.0658\n",
            "Epoch 39/500\n",
            "26/26 - 0s - 5ms/step - loss: 9.1231 - mean_absolute_error: 2.1584 - val_loss: 21.1890 - val_mean_absolute_error: 3.0639\n",
            "Epoch 40/500\n",
            "26/26 - 0s - 5ms/step - loss: 9.0040 - mean_absolute_error: 2.1687 - val_loss: 21.6023 - val_mean_absolute_error: 3.1082\n",
            "Epoch 41/500\n",
            "26/26 - 0s - 7ms/step - loss: 8.9030 - mean_absolute_error: 2.1366 - val_loss: 20.8352 - val_mean_absolute_error: 3.0337\n",
            "Epoch 42/500\n",
            "26/26 - 0s - 11ms/step - loss: 8.8604 - mean_absolute_error: 2.1528 - val_loss: 20.3671 - val_mean_absolute_error: 2.9819\n",
            "Epoch 43/500\n",
            "26/26 - 0s - 16ms/step - loss: 8.8031 - mean_absolute_error: 2.1172 - val_loss: 20.3064 - val_mean_absolute_error: 2.9697\n",
            "Epoch 44/500\n",
            "26/26 - 0s - 12ms/step - loss: 8.7637 - mean_absolute_error: 2.1483 - val_loss: 20.1293 - val_mean_absolute_error: 2.9975\n",
            "Epoch 45/500\n",
            "26/26 - 0s - 12ms/step - loss: 8.6610 - mean_absolute_error: 2.1127 - val_loss: 20.9740 - val_mean_absolute_error: 3.0345\n",
            "Epoch 46/500\n",
            "26/26 - 1s - 22ms/step - loss: 8.4260 - mean_absolute_error: 2.0959 - val_loss: 20.7850 - val_mean_absolute_error: 3.0080\n",
            "Epoch 47/500\n",
            "26/26 - 0s - 14ms/step - loss: 8.3873 - mean_absolute_error: 2.0994 - val_loss: 19.9114 - val_mean_absolute_error: 2.9461\n",
            "Epoch 48/500\n",
            "26/26 - 1s - 35ms/step - loss: 8.2338 - mean_absolute_error: 2.0504 - val_loss: 20.2665 - val_mean_absolute_error: 2.9682\n",
            "Epoch 49/500\n",
            "26/26 - 1s - 38ms/step - loss: 8.2193 - mean_absolute_error: 2.0539 - val_loss: 19.9748 - val_mean_absolute_error: 2.9170\n",
            "Epoch 50/500\n",
            "26/26 - 0s - 19ms/step - loss: 8.1428 - mean_absolute_error: 2.0672 - val_loss: 20.6693 - val_mean_absolute_error: 2.9734\n",
            "Epoch 51/500\n",
            "26/26 - 0s - 12ms/step - loss: 8.2325 - mean_absolute_error: 2.0319 - val_loss: 20.6336 - val_mean_absolute_error: 2.9764\n",
            "Epoch 52/500\n",
            "26/26 - 0s - 11ms/step - loss: 7.9607 - mean_absolute_error: 2.0246 - val_loss: 19.7771 - val_mean_absolute_error: 2.9283\n",
            "Epoch 53/500\n",
            "26/26 - 0s - 13ms/step - loss: 7.9421 - mean_absolute_error: 2.0217 - val_loss: 19.9582 - val_mean_absolute_error: 2.9256\n",
            "Epoch 54/500\n",
            "26/26 - 0s - 10ms/step - loss: 7.8290 - mean_absolute_error: 2.0004 - val_loss: 19.2794 - val_mean_absolute_error: 2.8487\n",
            "Epoch 55/500\n",
            "26/26 - 0s - 8ms/step - loss: 7.6804 - mean_absolute_error: 1.9829 - val_loss: 19.7304 - val_mean_absolute_error: 2.9460\n",
            "Epoch 56/500\n",
            "26/26 - 0s - 5ms/step - loss: 7.8920 - mean_absolute_error: 2.0167 - val_loss: 18.5917 - val_mean_absolute_error: 2.8147\n",
            "Epoch 57/500\n",
            "26/26 - 0s - 5ms/step - loss: 7.8580 - mean_absolute_error: 2.0275 - val_loss: 20.2013 - val_mean_absolute_error: 2.9869\n",
            "Epoch 58/500\n",
            "26/26 - 0s - 6ms/step - loss: 7.6845 - mean_absolute_error: 2.0106 - val_loss: 19.6795 - val_mean_absolute_error: 2.8802\n",
            "Epoch 59/500\n",
            "26/26 - 0s - 5ms/step - loss: 7.7690 - mean_absolute_error: 1.9952 - val_loss: 19.0153 - val_mean_absolute_error: 2.8228\n",
            "Epoch 60/500\n",
            "26/26 - 0s - 5ms/step - loss: 7.5513 - mean_absolute_error: 1.9756 - val_loss: 19.1575 - val_mean_absolute_error: 2.8487\n",
            "Epoch 61/500\n",
            "26/26 - 0s - 5ms/step - loss: 7.3632 - mean_absolute_error: 1.9424 - val_loss: 18.4048 - val_mean_absolute_error: 2.8322\n",
            "Epoch 62/500\n",
            "26/26 - 0s - 5ms/step - loss: 7.1433 - mean_absolute_error: 1.8904 - val_loss: 20.1590 - val_mean_absolute_error: 2.9833\n",
            "Epoch 63/500\n",
            "26/26 - 0s - 5ms/step - loss: 7.2440 - mean_absolute_error: 1.9360 - val_loss: 18.7130 - val_mean_absolute_error: 2.8061\n",
            "Epoch 64/500\n",
            "26/26 - 0s - 5ms/step - loss: 7.1530 - mean_absolute_error: 1.9057 - val_loss: 19.0833 - val_mean_absolute_error: 2.8457\n",
            "Epoch 65/500\n",
            "26/26 - 0s - 6ms/step - loss: 7.0647 - mean_absolute_error: 1.8877 - val_loss: 17.8174 - val_mean_absolute_error: 2.7588\n",
            "Epoch 66/500\n",
            "26/26 - 0s - 6ms/step - loss: 7.0553 - mean_absolute_error: 1.9259 - val_loss: 17.9606 - val_mean_absolute_error: 2.7542\n",
            "Epoch 67/500\n",
            "26/26 - 0s - 10ms/step - loss: 7.1528 - mean_absolute_error: 1.8798 - val_loss: 19.2643 - val_mean_absolute_error: 2.8974\n",
            "Epoch 68/500\n",
            "26/26 - 0s - 5ms/step - loss: 6.9306 - mean_absolute_error: 1.8841 - val_loss: 17.5867 - val_mean_absolute_error: 2.7045\n",
            "Epoch 69/500\n",
            "26/26 - 0s - 5ms/step - loss: 6.9807 - mean_absolute_error: 1.8985 - val_loss: 18.5123 - val_mean_absolute_error: 2.8476\n",
            "Epoch 70/500\n",
            "26/26 - 0s - 5ms/step - loss: 6.8513 - mean_absolute_error: 1.8838 - val_loss: 18.7275 - val_mean_absolute_error: 2.8129\n",
            "Epoch 71/500\n",
            "26/26 - 0s - 7ms/step - loss: 6.6322 - mean_absolute_error: 1.8463 - val_loss: 17.8501 - val_mean_absolute_error: 2.7584\n",
            "Epoch 72/500\n",
            "26/26 - 0s - 10ms/step - loss: 6.7672 - mean_absolute_error: 1.8747 - val_loss: 18.2048 - val_mean_absolute_error: 2.8022\n",
            "Epoch 73/500\n",
            "26/26 - 0s - 5ms/step - loss: 6.5725 - mean_absolute_error: 1.8427 - val_loss: 17.5651 - val_mean_absolute_error: 2.7337\n",
            "Epoch 74/500\n",
            "26/26 - 0s - 11ms/step - loss: 6.4974 - mean_absolute_error: 1.8061 - val_loss: 17.9613 - val_mean_absolute_error: 2.7407\n",
            "Epoch 75/500\n",
            "26/26 - 0s - 5ms/step - loss: 6.4447 - mean_absolute_error: 1.8294 - val_loss: 17.0687 - val_mean_absolute_error: 2.6641\n",
            "Epoch 76/500\n",
            "26/26 - 0s - 6ms/step - loss: 6.3879 - mean_absolute_error: 1.8216 - val_loss: 18.7803 - val_mean_absolute_error: 2.9208\n",
            "Epoch 77/500\n",
            "26/26 - 0s - 11ms/step - loss: 6.2871 - mean_absolute_error: 1.7596 - val_loss: 18.3057 - val_mean_absolute_error: 2.7517\n",
            "Epoch 78/500\n",
            "26/26 - 0s - 5ms/step - loss: 6.3864 - mean_absolute_error: 1.8243 - val_loss: 17.8506 - val_mean_absolute_error: 2.7860\n",
            "Epoch 79/500\n",
            "26/26 - 0s - 5ms/step - loss: 6.2709 - mean_absolute_error: 1.8080 - val_loss: 16.8422 - val_mean_absolute_error: 2.6681\n",
            "Epoch 80/500\n",
            "26/26 - 0s - 5ms/step - loss: 6.3179 - mean_absolute_error: 1.8107 - val_loss: 17.3787 - val_mean_absolute_error: 2.7527\n",
            "Epoch 81/500\n",
            "26/26 - 0s - 5ms/step - loss: 6.2069 - mean_absolute_error: 1.7981 - val_loss: 16.9486 - val_mean_absolute_error: 2.6636\n",
            "Epoch 82/500\n",
            "26/26 - 0s - 5ms/step - loss: 6.0481 - mean_absolute_error: 1.7661 - val_loss: 17.2438 - val_mean_absolute_error: 2.7090\n",
            "Epoch 83/500\n",
            "26/26 - 0s - 12ms/step - loss: 5.9252 - mean_absolute_error: 1.7331 - val_loss: 17.4669 - val_mean_absolute_error: 2.7214\n",
            "Epoch 84/500\n",
            "26/26 - 0s - 6ms/step - loss: 5.9274 - mean_absolute_error: 1.7447 - val_loss: 16.9735 - val_mean_absolute_error: 2.6722\n",
            "Epoch 85/500\n",
            "26/26 - 0s - 5ms/step - loss: 5.8328 - mean_absolute_error: 1.7402 - val_loss: 17.4528 - val_mean_absolute_error: 2.7302\n",
            "Epoch 86/500\n",
            "26/26 - 0s - 5ms/step - loss: 5.8451 - mean_absolute_error: 1.7326 - val_loss: 17.5098 - val_mean_absolute_error: 2.7367\n",
            "Epoch 87/500\n",
            "26/26 - 0s - 5ms/step - loss: 6.0746 - mean_absolute_error: 1.7979 - val_loss: 17.6291 - val_mean_absolute_error: 2.7392\n",
            "Epoch 88/500\n",
            "26/26 - 0s - 6ms/step - loss: 6.6920 - mean_absolute_error: 1.8646 - val_loss: 17.0085 - val_mean_absolute_error: 2.6633\n",
            "Epoch 89/500\n",
            "26/26 - 0s - 5ms/step - loss: 5.8623 - mean_absolute_error: 1.7592 - val_loss: 15.6105 - val_mean_absolute_error: 2.5809\n",
            "Epoch 90/500\n",
            "26/26 - 0s - 5ms/step - loss: 5.6915 - mean_absolute_error: 1.7259 - val_loss: 16.8289 - val_mean_absolute_error: 2.7252\n",
            "Epoch 91/500\n",
            "26/26 - 0s - 5ms/step - loss: 5.5063 - mean_absolute_error: 1.6806 - val_loss: 16.6660 - val_mean_absolute_error: 2.7192\n",
            "Epoch 92/500\n",
            "26/26 - 0s - 5ms/step - loss: 5.5965 - mean_absolute_error: 1.7150 - val_loss: 16.1265 - val_mean_absolute_error: 2.6596\n",
            "Epoch 93/500\n",
            "26/26 - 0s - 5ms/step - loss: 5.4843 - mean_absolute_error: 1.6987 - val_loss: 16.2288 - val_mean_absolute_error: 2.6658\n",
            "Epoch 94/500\n",
            "26/26 - 0s - 5ms/step - loss: 5.5048 - mean_absolute_error: 1.6658 - val_loss: 16.8879 - val_mean_absolute_error: 2.7315\n",
            "Epoch 95/500\n",
            "26/26 - 0s - 6ms/step - loss: 5.6132 - mean_absolute_error: 1.7104 - val_loss: 16.6994 - val_mean_absolute_error: 2.6932\n",
            "Epoch 96/500\n",
            "26/26 - 0s - 10ms/step - loss: 5.3846 - mean_absolute_error: 1.6410 - val_loss: 16.0266 - val_mean_absolute_error: 2.6478\n",
            "Epoch 97/500\n",
            "26/26 - 0s - 5ms/step - loss: 5.4541 - mean_absolute_error: 1.6957 - val_loss: 15.4257 - val_mean_absolute_error: 2.6278\n",
            "Epoch 98/500\n",
            "26/26 - 0s - 5ms/step - loss: 5.5055 - mean_absolute_error: 1.7021 - val_loss: 15.5394 - val_mean_absolute_error: 2.6074\n",
            "Epoch 99/500\n",
            "26/26 - 0s - 5ms/step - loss: 5.0927 - mean_absolute_error: 1.5932 - val_loss: 15.4524 - val_mean_absolute_error: 2.6100\n",
            "Epoch 100/500\n",
            "26/26 - 0s - 5ms/step - loss: 5.2271 - mean_absolute_error: 1.6321 - val_loss: 16.4423 - val_mean_absolute_error: 2.7369\n",
            "Epoch 101/500\n",
            "26/26 - 0s - 6ms/step - loss: 5.2150 - mean_absolute_error: 1.6414 - val_loss: 14.4948 - val_mean_absolute_error: 2.5645\n",
            "Epoch 102/500\n",
            "26/26 - 0s - 6ms/step - loss: 5.0557 - mean_absolute_error: 1.6086 - val_loss: 14.6886 - val_mean_absolute_error: 2.5588\n",
            "Epoch 103/500\n",
            "26/26 - 0s - 5ms/step - loss: 4.9903 - mean_absolute_error: 1.5935 - val_loss: 14.2236 - val_mean_absolute_error: 2.5174\n",
            "Epoch 104/500\n",
            "26/26 - 0s - 5ms/step - loss: 5.1095 - mean_absolute_error: 1.6209 - val_loss: 14.7207 - val_mean_absolute_error: 2.5696\n",
            "Epoch 105/500\n",
            "26/26 - 0s - 7ms/step - loss: 4.9178 - mean_absolute_error: 1.5857 - val_loss: 15.1693 - val_mean_absolute_error: 2.6584\n",
            "Epoch 106/500\n",
            "26/26 - 0s - 11ms/step - loss: 4.8468 - mean_absolute_error: 1.5807 - val_loss: 15.5934 - val_mean_absolute_error: 2.6630\n",
            "Epoch 107/500\n",
            "26/26 - 0s - 12ms/step - loss: 4.7916 - mean_absolute_error: 1.5532 - val_loss: 14.8518 - val_mean_absolute_error: 2.5882\n",
            "Epoch 108/500\n",
            "26/26 - 0s - 11ms/step - loss: 4.7008 - mean_absolute_error: 1.5489 - val_loss: 14.4957 - val_mean_absolute_error: 2.5847\n",
            "Epoch 109/500\n",
            "26/26 - 0s - 11ms/step - loss: 4.8458 - mean_absolute_error: 1.5703 - val_loss: 14.6586 - val_mean_absolute_error: 2.5813\n",
            "Epoch 110/500\n",
            "26/26 - 0s - 8ms/step - loss: 4.7888 - mean_absolute_error: 1.5643 - val_loss: 13.9058 - val_mean_absolute_error: 2.5249\n",
            "Epoch 111/500\n",
            "26/26 - 0s - 11ms/step - loss: 4.7420 - mean_absolute_error: 1.5332 - val_loss: 14.3940 - val_mean_absolute_error: 2.5669\n",
            "Epoch 112/500\n",
            "26/26 - 0s - 12ms/step - loss: 4.9610 - mean_absolute_error: 1.6216 - val_loss: 14.5926 - val_mean_absolute_error: 2.5851\n",
            "Epoch 113/500\n",
            "26/26 - 0s - 5ms/step - loss: 4.6427 - mean_absolute_error: 1.5394 - val_loss: 14.1856 - val_mean_absolute_error: 2.5367\n",
            "Epoch 114/500\n",
            "26/26 - 0s - 5ms/step - loss: 5.1998 - mean_absolute_error: 1.6256 - val_loss: 14.4930 - val_mean_absolute_error: 2.5972\n",
            "Epoch 115/500\n",
            "26/26 - 0s - 6ms/step - loss: 4.4790 - mean_absolute_error: 1.5303 - val_loss: 14.0670 - val_mean_absolute_error: 2.5466\n",
            "Epoch 116/500\n",
            "26/26 - 0s - 10ms/step - loss: 4.5265 - mean_absolute_error: 1.5063 - val_loss: 14.8376 - val_mean_absolute_error: 2.6356\n",
            "Epoch 117/500\n",
            "26/26 - 0s - 5ms/step - loss: 4.4522 - mean_absolute_error: 1.5011 - val_loss: 14.4057 - val_mean_absolute_error: 2.5785\n",
            "Epoch 118/500\n",
            "26/26 - 0s - 5ms/step - loss: 4.3986 - mean_absolute_error: 1.5088 - val_loss: 13.4346 - val_mean_absolute_error: 2.5029\n",
            "Epoch 119/500\n",
            "26/26 - 0s - 5ms/step - loss: 4.2910 - mean_absolute_error: 1.4787 - val_loss: 14.1820 - val_mean_absolute_error: 2.5682\n",
            "Epoch 120/500\n",
            "26/26 - 0s - 5ms/step - loss: 4.3153 - mean_absolute_error: 1.5049 - val_loss: 13.9900 - val_mean_absolute_error: 2.5585\n",
            "Epoch 121/500\n",
            "26/26 - 0s - 6ms/step - loss: 4.2080 - mean_absolute_error: 1.4530 - val_loss: 13.1204 - val_mean_absolute_error: 2.4748\n",
            "Epoch 122/500\n",
            "26/26 - 0s - 10ms/step - loss: 4.2477 - mean_absolute_error: 1.4583 - val_loss: 13.0737 - val_mean_absolute_error: 2.4535\n",
            "Epoch 123/500\n",
            "26/26 - 0s - 5ms/step - loss: 4.1656 - mean_absolute_error: 1.4410 - val_loss: 13.4283 - val_mean_absolute_error: 2.5220\n",
            "Epoch 124/500\n",
            "26/26 - 0s - 5ms/step - loss: 4.3339 - mean_absolute_error: 1.5287 - val_loss: 13.6746 - val_mean_absolute_error: 2.5266\n",
            "Epoch 125/500\n",
            "26/26 - 0s - 5ms/step - loss: 4.2721 - mean_absolute_error: 1.4978 - val_loss: 13.5997 - val_mean_absolute_error: 2.5454\n",
            "Epoch 126/500\n",
            "26/26 - 0s - 5ms/step - loss: 4.0456 - mean_absolute_error: 1.4449 - val_loss: 13.3622 - val_mean_absolute_error: 2.5162\n",
            "Epoch 127/500\n",
            "26/26 - 0s - 5ms/step - loss: 4.3012 - mean_absolute_error: 1.4785 - val_loss: 13.5647 - val_mean_absolute_error: 2.5904\n",
            "Epoch 128/500\n",
            "26/26 - 0s - 13ms/step - loss: 4.2615 - mean_absolute_error: 1.4994 - val_loss: 14.0540 - val_mean_absolute_error: 2.5939\n",
            "Epoch 129/500\n",
            "26/26 - 0s - 11ms/step - loss: 3.9632 - mean_absolute_error: 1.4282 - val_loss: 12.5916 - val_mean_absolute_error: 2.4662\n",
            "Epoch 130/500\n",
            "26/26 - 0s - 5ms/step - loss: 4.1570 - mean_absolute_error: 1.4687 - val_loss: 13.3308 - val_mean_absolute_error: 2.5370\n",
            "Epoch 131/500\n",
            "26/26 - 0s - 6ms/step - loss: 4.0283 - mean_absolute_error: 1.4305 - val_loss: 12.8517 - val_mean_absolute_error: 2.4705\n",
            "Epoch 132/500\n",
            "26/26 - 0s - 10ms/step - loss: 3.7919 - mean_absolute_error: 1.3972 - val_loss: 13.1676 - val_mean_absolute_error: 2.5341\n",
            "Epoch 133/500\n",
            "26/26 - 0s - 5ms/step - loss: 3.8555 - mean_absolute_error: 1.4251 - val_loss: 13.2514 - val_mean_absolute_error: 2.5508\n",
            "Epoch 134/500\n",
            "26/26 - 0s - 5ms/step - loss: 3.8878 - mean_absolute_error: 1.3947 - val_loss: 13.0365 - val_mean_absolute_error: 2.4547\n",
            "Epoch 135/500\n",
            "26/26 - 0s - 5ms/step - loss: 3.8356 - mean_absolute_error: 1.4076 - val_loss: 12.5942 - val_mean_absolute_error: 2.4574\n",
            "Epoch 136/500\n",
            "26/26 - 0s - 5ms/step - loss: 3.8467 - mean_absolute_error: 1.3997 - val_loss: 12.9344 - val_mean_absolute_error: 2.5144\n",
            "Epoch 137/500\n",
            "26/26 - 0s - 5ms/step - loss: 3.8719 - mean_absolute_error: 1.4095 - val_loss: 12.9190 - val_mean_absolute_error: 2.5147\n",
            "Epoch 138/500\n",
            "26/26 - 0s - 5ms/step - loss: 3.9918 - mean_absolute_error: 1.4103 - val_loss: 12.2195 - val_mean_absolute_error: 2.4846\n",
            "Epoch 139/500\n",
            "26/26 - 0s - 6ms/step - loss: 3.7837 - mean_absolute_error: 1.4070 - val_loss: 12.2509 - val_mean_absolute_error: 2.4615\n",
            "Epoch 140/500\n",
            "26/26 - 0s - 11ms/step - loss: 3.6045 - mean_absolute_error: 1.3621 - val_loss: 12.6560 - val_mean_absolute_error: 2.4638\n",
            "Epoch 141/500\n",
            "26/26 - 0s - 5ms/step - loss: 3.6615 - mean_absolute_error: 1.3519 - val_loss: 12.5326 - val_mean_absolute_error: 2.4377\n",
            "Epoch 142/500\n",
            "26/26 - 0s - 5ms/step - loss: 3.9373 - mean_absolute_error: 1.4017 - val_loss: 12.5506 - val_mean_absolute_error: 2.5277\n",
            "Epoch 143/500\n",
            "26/26 - 0s - 5ms/step - loss: 3.7017 - mean_absolute_error: 1.3997 - val_loss: 12.6200 - val_mean_absolute_error: 2.4368\n",
            "Epoch 144/500\n",
            "26/26 - 0s - 5ms/step - loss: 3.6343 - mean_absolute_error: 1.3896 - val_loss: 12.0146 - val_mean_absolute_error: 2.4330\n",
            "Epoch 145/500\n",
            "26/26 - 0s - 6ms/step - loss: 3.6008 - mean_absolute_error: 1.3588 - val_loss: 12.2416 - val_mean_absolute_error: 2.4085\n",
            "Epoch 146/500\n",
            "26/26 - 0s - 11ms/step - loss: 3.4513 - mean_absolute_error: 1.3373 - val_loss: 12.5448 - val_mean_absolute_error: 2.4675\n",
            "Epoch 147/500\n",
            "26/26 - 0s - 5ms/step - loss: 3.5784 - mean_absolute_error: 1.3752 - val_loss: 12.3023 - val_mean_absolute_error: 2.4783\n",
            "Epoch 148/500\n",
            "26/26 - 0s - 5ms/step - loss: 3.4406 - mean_absolute_error: 1.3253 - val_loss: 12.8913 - val_mean_absolute_error: 2.5257\n",
            "Epoch 149/500\n",
            "26/26 - 0s - 6ms/step - loss: 3.9009 - mean_absolute_error: 1.4371 - val_loss: 12.5670 - val_mean_absolute_error: 2.4987\n",
            "Epoch 150/500\n",
            "26/26 - 0s - 5ms/step - loss: 3.4354 - mean_absolute_error: 1.3409 - val_loss: 12.1233 - val_mean_absolute_error: 2.4349\n",
            "Epoch 151/500\n",
            "26/26 - 0s - 6ms/step - loss: 3.2807 - mean_absolute_error: 1.3022 - val_loss: 11.7803 - val_mean_absolute_error: 2.3926\n",
            "Epoch 152/500\n",
            "26/26 - 0s - 11ms/step - loss: 3.2640 - mean_absolute_error: 1.3117 - val_loss: 13.5812 - val_mean_absolute_error: 2.6634\n",
            "Epoch 153/500\n",
            "26/26 - 0s - 5ms/step - loss: 3.5079 - mean_absolute_error: 1.3691 - val_loss: 12.9640 - val_mean_absolute_error: 2.5677\n",
            "Epoch 154/500\n",
            "26/26 - 0s - 7ms/step - loss: 3.3751 - mean_absolute_error: 1.3159 - val_loss: 12.0511 - val_mean_absolute_error: 2.4740\n",
            "Epoch 155/500\n",
            "26/26 - 0s - 10ms/step - loss: 3.2949 - mean_absolute_error: 1.3143 - val_loss: 11.7524 - val_mean_absolute_error: 2.4081\n",
            "Epoch 156/500\n",
            "26/26 - 0s - 7ms/step - loss: 3.1955 - mean_absolute_error: 1.2713 - val_loss: 11.4169 - val_mean_absolute_error: 2.3897\n",
            "Epoch 157/500\n",
            "26/26 - 0s - 10ms/step - loss: 3.3464 - mean_absolute_error: 1.3141 - val_loss: 12.1142 - val_mean_absolute_error: 2.4798\n",
            "Epoch 158/500\n",
            "26/26 - 0s - 5ms/step - loss: 3.2412 - mean_absolute_error: 1.2779 - val_loss: 11.7470 - val_mean_absolute_error: 2.4287\n",
            "Epoch 159/500\n",
            "26/26 - 0s - 5ms/step - loss: 3.1231 - mean_absolute_error: 1.2587 - val_loss: 11.6389 - val_mean_absolute_error: 2.4212\n",
            "Epoch 160/500\n",
            "26/26 - 0s - 5ms/step - loss: 3.1882 - mean_absolute_error: 1.2790 - val_loss: 11.4011 - val_mean_absolute_error: 2.3820\n",
            "Epoch 161/500\n",
            "26/26 - 0s - 5ms/step - loss: 3.1085 - mean_absolute_error: 1.2505 - val_loss: 11.8521 - val_mean_absolute_error: 2.4575\n",
            "Epoch 162/500\n",
            "26/26 - 0s - 6ms/step - loss: 3.2339 - mean_absolute_error: 1.3072 - val_loss: 11.5809 - val_mean_absolute_error: 2.4202\n",
            "Epoch 163/500\n",
            "26/26 - 0s - 5ms/step - loss: 3.1579 - mean_absolute_error: 1.2789 - val_loss: 11.4654 - val_mean_absolute_error: 2.3959\n",
            "Epoch 164/500\n",
            "26/26 - 0s - 7ms/step - loss: 3.1356 - mean_absolute_error: 1.2705 - val_loss: 11.5480 - val_mean_absolute_error: 2.3981\n",
            "Epoch 165/500\n",
            "26/26 - 0s - 5ms/step - loss: 3.1109 - mean_absolute_error: 1.2840 - val_loss: 11.6406 - val_mean_absolute_error: 2.4279\n",
            "Epoch 166/500\n",
            "26/26 - 0s - 5ms/step - loss: 3.0500 - mean_absolute_error: 1.2388 - val_loss: 11.2218 - val_mean_absolute_error: 2.3571\n",
            "Epoch 167/500\n",
            "26/26 - 0s - 5ms/step - loss: 3.1858 - mean_absolute_error: 1.3117 - val_loss: 11.1573 - val_mean_absolute_error: 2.3720\n",
            "Epoch 168/500\n",
            "26/26 - 0s - 5ms/step - loss: 2.9908 - mean_absolute_error: 1.2464 - val_loss: 11.4050 - val_mean_absolute_error: 2.4091\n",
            "Epoch 169/500\n",
            "26/26 - 0s - 6ms/step - loss: 2.9227 - mean_absolute_error: 1.2358 - val_loss: 11.3603 - val_mean_absolute_error: 2.3441\n",
            "Epoch 170/500\n",
            "26/26 - 0s - 5ms/step - loss: 2.9426 - mean_absolute_error: 1.2429 - val_loss: 11.0655 - val_mean_absolute_error: 2.3570\n",
            "Epoch 171/500\n",
            "26/26 - 0s - 6ms/step - loss: 2.8830 - mean_absolute_error: 1.2329 - val_loss: 11.1410 - val_mean_absolute_error: 2.3979\n",
            "Epoch 172/500\n",
            "26/26 - 0s - 8ms/step - loss: 2.9119 - mean_absolute_error: 1.2027 - val_loss: 11.4511 - val_mean_absolute_error: 2.3702\n",
            "Epoch 173/500\n",
            "26/26 - 0s - 12ms/step - loss: 2.8274 - mean_absolute_error: 1.2216 - val_loss: 11.3880 - val_mean_absolute_error: 2.3845\n",
            "Epoch 174/500\n",
            "26/26 - 0s - 12ms/step - loss: 2.8687 - mean_absolute_error: 1.2069 - val_loss: 11.1767 - val_mean_absolute_error: 2.3585\n",
            "Epoch 175/500\n",
            "26/26 - 0s - 11ms/step - loss: 2.7728 - mean_absolute_error: 1.1877 - val_loss: 11.2202 - val_mean_absolute_error: 2.3408\n",
            "Epoch 176/500\n",
            "26/26 - 0s - 11ms/step - loss: 2.7008 - mean_absolute_error: 1.1892 - val_loss: 11.0704 - val_mean_absolute_error: 2.3539\n",
            "Epoch 177/500\n",
            "26/26 - 0s - 9ms/step - loss: 2.7523 - mean_absolute_error: 1.1847 - val_loss: 11.2445 - val_mean_absolute_error: 2.3565\n",
            "Epoch 178/500\n",
            "26/26 - 0s - 12ms/step - loss: 2.7448 - mean_absolute_error: 1.1855 - val_loss: 10.8723 - val_mean_absolute_error: 2.3209\n",
            "Epoch 179/500\n",
            "26/26 - 0s - 9ms/step - loss: 2.6411 - mean_absolute_error: 1.1600 - val_loss: 11.0244 - val_mean_absolute_error: 2.3496\n",
            "Epoch 180/500\n",
            "26/26 - 0s - 10ms/step - loss: 2.6320 - mean_absolute_error: 1.1766 - val_loss: 11.1010 - val_mean_absolute_error: 2.3892\n",
            "Epoch 181/500\n",
            "26/26 - 0s - 5ms/step - loss: 2.7379 - mean_absolute_error: 1.1910 - val_loss: 11.4454 - val_mean_absolute_error: 2.4272\n",
            "Epoch 182/500\n",
            "26/26 - 0s - 5ms/step - loss: 2.6670 - mean_absolute_error: 1.1727 - val_loss: 10.8913 - val_mean_absolute_error: 2.3530\n",
            "Epoch 183/500\n",
            "26/26 - 0s - 11ms/step - loss: 2.6007 - mean_absolute_error: 1.1638 - val_loss: 11.1552 - val_mean_absolute_error: 2.3804\n",
            "Epoch 184/500\n",
            "26/26 - 0s - 5ms/step - loss: 2.8144 - mean_absolute_error: 1.2056 - val_loss: 10.7049 - val_mean_absolute_error: 2.3191\n",
            "Epoch 185/500\n",
            "26/26 - 0s - 6ms/step - loss: 2.7045 - mean_absolute_error: 1.2338 - val_loss: 10.7347 - val_mean_absolute_error: 2.3373\n",
            "Epoch 186/500\n",
            "26/26 - 0s - 10ms/step - loss: 2.5873 - mean_absolute_error: 1.1633 - val_loss: 11.1761 - val_mean_absolute_error: 2.3518\n",
            "Epoch 187/500\n",
            "26/26 - 0s - 12ms/step - loss: 2.5039 - mean_absolute_error: 1.1393 - val_loss: 11.3080 - val_mean_absolute_error: 2.4171\n",
            "Epoch 188/500\n",
            "26/26 - 0s - 17ms/step - loss: 2.6445 - mean_absolute_error: 1.1705 - val_loss: 10.8790 - val_mean_absolute_error: 2.3521\n",
            "Epoch 189/500\n",
            "26/26 - 0s - 19ms/step - loss: 2.6862 - mean_absolute_error: 1.1860 - val_loss: 10.9067 - val_mean_absolute_error: 2.3395\n",
            "Epoch 190/500\n",
            "26/26 - 0s - 17ms/step - loss: 2.6136 - mean_absolute_error: 1.1533 - val_loss: 11.1419 - val_mean_absolute_error: 2.3855\n",
            "Epoch 191/500\n",
            "26/26 - 0s - 16ms/step - loss: 2.6504 - mean_absolute_error: 1.1859 - val_loss: 11.2356 - val_mean_absolute_error: 2.4205\n",
            "Epoch 192/500\n",
            "26/26 - 0s - 13ms/step - loss: 2.4079 - mean_absolute_error: 1.1202 - val_loss: 10.9233 - val_mean_absolute_error: 2.3696\n",
            "Epoch 193/500\n",
            "26/26 - 0s - 5ms/step - loss: 2.6672 - mean_absolute_error: 1.1688 - val_loss: 11.1549 - val_mean_absolute_error: 2.3374\n",
            "Epoch 194/500\n",
            "26/26 - 0s - 5ms/step - loss: 2.5668 - mean_absolute_error: 1.1915 - val_loss: 11.4251 - val_mean_absolute_error: 2.4948\n",
            "Epoch 195/500\n",
            "26/26 - 0s - 5ms/step - loss: 2.4269 - mean_absolute_error: 1.1330 - val_loss: 11.1841 - val_mean_absolute_error: 2.4022\n",
            "Epoch 196/500\n",
            "26/26 - 0s - 5ms/step - loss: 2.5060 - mean_absolute_error: 1.1360 - val_loss: 11.3451 - val_mean_absolute_error: 2.4006\n",
            "Epoch 197/500\n",
            "26/26 - 0s - 5ms/step - loss: 2.3770 - mean_absolute_error: 1.1067 - val_loss: 11.0097 - val_mean_absolute_error: 2.3581\n",
            "Epoch 198/500\n",
            "26/26 - 0s - 6ms/step - loss: 2.3709 - mean_absolute_error: 1.1118 - val_loss: 11.2070 - val_mean_absolute_error: 2.3854\n",
            "Epoch 199/500\n",
            "26/26 - 0s - 11ms/step - loss: 2.5422 - mean_absolute_error: 1.1695 - val_loss: 11.2540 - val_mean_absolute_error: 2.3957\n",
            "Epoch 200/500\n",
            "26/26 - 0s - 5ms/step - loss: 2.3686 - mean_absolute_error: 1.1186 - val_loss: 10.8535 - val_mean_absolute_error: 2.3653\n",
            "Epoch 201/500\n",
            "26/26 - 0s - 5ms/step - loss: 2.4312 - mean_absolute_error: 1.1206 - val_loss: 10.8384 - val_mean_absolute_error: 2.3464\n",
            "Epoch 202/500\n",
            "26/26 - 0s - 5ms/step - loss: 2.2625 - mean_absolute_error: 1.0798 - val_loss: 10.6707 - val_mean_absolute_error: 2.2858\n",
            "Epoch 203/500\n",
            "26/26 - 0s - 5ms/step - loss: 2.2840 - mean_absolute_error: 1.0739 - val_loss: 10.9607 - val_mean_absolute_error: 2.3651\n",
            "Epoch 204/500\n",
            "26/26 - 0s - 7ms/step - loss: 2.2990 - mean_absolute_error: 1.0739 - val_loss: 11.0809 - val_mean_absolute_error: 2.3715\n",
            "Epoch 205/500\n",
            "26/26 - 0s - 5ms/step - loss: 2.2366 - mean_absolute_error: 1.0795 - val_loss: 10.7629 - val_mean_absolute_error: 2.3121\n",
            "Epoch 206/500\n",
            "26/26 - 0s - 5ms/step - loss: 2.2793 - mean_absolute_error: 1.0827 - val_loss: 11.6239 - val_mean_absolute_error: 2.4761\n",
            "Epoch 207/500\n",
            "26/26 - 0s - 5ms/step - loss: 2.3937 - mean_absolute_error: 1.1435 - val_loss: 10.4704 - val_mean_absolute_error: 2.2997\n",
            "Epoch 208/500\n",
            "26/26 - 0s - 5ms/step - loss: 2.3271 - mean_absolute_error: 1.1049 - val_loss: 11.1606 - val_mean_absolute_error: 2.3884\n",
            "Epoch 209/500\n",
            "26/26 - 0s - 5ms/step - loss: 2.1487 - mean_absolute_error: 1.0569 - val_loss: 10.8374 - val_mean_absolute_error: 2.3311\n",
            "Epoch 210/500\n",
            "26/26 - 0s - 6ms/step - loss: 2.1860 - mean_absolute_error: 1.0757 - val_loss: 10.8441 - val_mean_absolute_error: 2.3268\n",
            "Epoch 211/500\n",
            "26/26 - 0s - 7ms/step - loss: 2.1675 - mean_absolute_error: 1.0736 - val_loss: 10.7090 - val_mean_absolute_error: 2.3285\n",
            "Epoch 212/500\n",
            "26/26 - 0s - 10ms/step - loss: 2.1763 - mean_absolute_error: 1.0786 - val_loss: 10.9511 - val_mean_absolute_error: 2.3429\n",
            "Epoch 213/500\n",
            "26/26 - 0s - 7ms/step - loss: 2.1086 - mean_absolute_error: 1.0447 - val_loss: 10.5000 - val_mean_absolute_error: 2.3073\n",
            "Epoch 214/500\n",
            "26/26 - 0s - 10ms/step - loss: 2.0840 - mean_absolute_error: 1.0613 - val_loss: 10.7528 - val_mean_absolute_error: 2.3009\n",
            "Epoch 215/500\n",
            "26/26 - 0s - 5ms/step - loss: 2.0634 - mean_absolute_error: 1.0500 - val_loss: 10.6624 - val_mean_absolute_error: 2.3320\n",
            "Epoch 216/500\n",
            "26/26 - 0s - 6ms/step - loss: 2.1357 - mean_absolute_error: 1.0783 - val_loss: 11.0970 - val_mean_absolute_error: 2.3595\n",
            "Epoch 217/500\n",
            "26/26 - 0s - 11ms/step - loss: 2.0411 - mean_absolute_error: 1.0474 - val_loss: 10.7270 - val_mean_absolute_error: 2.3384\n",
            "Epoch 218/500\n",
            "26/26 - 0s - 5ms/step - loss: 2.0814 - mean_absolute_error: 1.0348 - val_loss: 11.3459 - val_mean_absolute_error: 2.4023\n",
            "Epoch 219/500\n",
            "26/26 - 0s - 5ms/step - loss: 2.2923 - mean_absolute_error: 1.1100 - val_loss: 11.2902 - val_mean_absolute_error: 2.3970\n",
            "Epoch 220/500\n",
            "26/26 - 0s - 5ms/step - loss: 2.0022 - mean_absolute_error: 1.0135 - val_loss: 10.7541 - val_mean_absolute_error: 2.3296\n",
            "Epoch 221/500\n",
            "26/26 - 0s - 6ms/step - loss: 2.1046 - mean_absolute_error: 1.0349 - val_loss: 11.0757 - val_mean_absolute_error: 2.3516\n",
            "Epoch 222/500\n",
            "26/26 - 0s - 10ms/step - loss: 2.0483 - mean_absolute_error: 1.0385 - val_loss: 10.8937 - val_mean_absolute_error: 2.3524\n",
            "Epoch 223/500\n",
            "26/26 - 0s - 5ms/step - loss: 1.9688 - mean_absolute_error: 1.0138 - val_loss: 10.9699 - val_mean_absolute_error: 2.2950\n",
            "Epoch 224/500\n",
            "26/26 - 0s - 7ms/step - loss: 2.1081 - mean_absolute_error: 1.0700 - val_loss: 11.4948 - val_mean_absolute_error: 2.4237\n",
            "Epoch 225/500\n",
            "26/26 - 0s - 10ms/step - loss: 2.4019 - mean_absolute_error: 1.1334 - val_loss: 11.2259 - val_mean_absolute_error: 2.4047\n",
            "Epoch 226/500\n",
            "26/26 - 0s - 5ms/step - loss: 2.1036 - mean_absolute_error: 1.0520 - val_loss: 10.5651 - val_mean_absolute_error: 2.3110\n",
            "Epoch 227/500\n",
            "26/26 - 0s - 6ms/step - loss: 2.0325 - mean_absolute_error: 1.0361 - val_loss: 11.7536 - val_mean_absolute_error: 2.4326\n",
            "Epoch 228/500\n",
            "26/26 - 0s - 14ms/step - loss: 1.9829 - mean_absolute_error: 1.0148 - val_loss: 10.7702 - val_mean_absolute_error: 2.3220\n",
            "Epoch 229/500\n",
            "26/26 - 0s - 11ms/step - loss: 2.0521 - mean_absolute_error: 1.0567 - val_loss: 11.2711 - val_mean_absolute_error: 2.4145\n",
            "Epoch 230/500\n",
            "26/26 - 0s - 11ms/step - loss: 2.0272 - mean_absolute_error: 1.0422 - val_loss: 10.9752 - val_mean_absolute_error: 2.3700\n",
            "Epoch 231/500\n",
            "26/26 - 0s - 12ms/step - loss: 1.9744 - mean_absolute_error: 1.0341 - val_loss: 10.6767 - val_mean_absolute_error: 2.2713\n",
            "Epoch 232/500\n",
            "26/26 - 0s - 12ms/step - loss: 1.9033 - mean_absolute_error: 1.0057 - val_loss: 11.1395 - val_mean_absolute_error: 2.3607\n",
            "Epoch 233/500\n",
            "26/26 - 0s - 11ms/step - loss: 1.9391 - mean_absolute_error: 1.0228 - val_loss: 10.8653 - val_mean_absolute_error: 2.3633\n",
            "Epoch 234/500\n",
            "26/26 - 0s - 11ms/step - loss: 1.9623 - mean_absolute_error: 1.0090 - val_loss: 10.9783 - val_mean_absolute_error: 2.3488\n",
            "Epoch 235/500\n",
            "26/26 - 0s - 10ms/step - loss: 1.9027 - mean_absolute_error: 0.9919 - val_loss: 11.0016 - val_mean_absolute_error: 2.3675\n",
            "Epoch 236/500\n",
            "26/26 - 0s - 6ms/step - loss: 1.9331 - mean_absolute_error: 1.0042 - val_loss: 10.9044 - val_mean_absolute_error: 2.3440\n",
            "Epoch 237/500\n",
            "26/26 - 0s - 10ms/step - loss: 1.9126 - mean_absolute_error: 1.0045 - val_loss: 10.8573 - val_mean_absolute_error: 2.3307\n",
            "Epoch 238/500\n",
            "26/26 - 0s - 5ms/step - loss: 1.6944 - mean_absolute_error: 0.9249 - val_loss: 10.8779 - val_mean_absolute_error: 2.3092\n",
            "Epoch 239/500\n",
            "26/26 - 0s - 6ms/step - loss: 1.7500 - mean_absolute_error: 0.9404 - val_loss: 10.8948 - val_mean_absolute_error: 2.3378\n",
            "Epoch 240/500\n",
            "26/26 - 0s - 6ms/step - loss: 1.7874 - mean_absolute_error: 0.9600 - val_loss: 10.9668 - val_mean_absolute_error: 2.3389\n",
            "Epoch 241/500\n",
            "26/26 - 0s - 5ms/step - loss: 2.0626 - mean_absolute_error: 1.0651 - val_loss: 10.6809 - val_mean_absolute_error: 2.3016\n",
            "Epoch 242/500\n",
            "26/26 - 0s - 5ms/step - loss: 1.7617 - mean_absolute_error: 0.9541 - val_loss: 10.7881 - val_mean_absolute_error: 2.3323\n",
            "Epoch 243/500\n",
            "26/26 - 0s - 5ms/step - loss: 1.7683 - mean_absolute_error: 0.9672 - val_loss: 11.3096 - val_mean_absolute_error: 2.4186\n",
            "Epoch 244/500\n",
            "26/26 - 0s - 6ms/step - loss: 1.9308 - mean_absolute_error: 1.0493 - val_loss: 11.5131 - val_mean_absolute_error: 2.4364\n",
            "Epoch 245/500\n",
            "26/26 - 0s - 5ms/step - loss: 1.9088 - mean_absolute_error: 1.0301 - val_loss: 11.1202 - val_mean_absolute_error: 2.3359\n",
            "Epoch 246/500\n",
            "26/26 - 0s - 6ms/step - loss: 1.8172 - mean_absolute_error: 0.9667 - val_loss: 11.3303 - val_mean_absolute_error: 2.3892\n",
            "Epoch 247/500\n",
            "26/26 - 0s - 5ms/step - loss: 1.7577 - mean_absolute_error: 0.9544 - val_loss: 10.8830 - val_mean_absolute_error: 2.3380\n",
            "Epoch 248/500\n",
            "26/26 - 0s - 5ms/step - loss: 1.8313 - mean_absolute_error: 0.9855 - val_loss: 11.2262 - val_mean_absolute_error: 2.3595\n",
            "Epoch 249/500\n",
            "26/26 - 0s - 5ms/step - loss: 1.7705 - mean_absolute_error: 0.9637 - val_loss: 11.2717 - val_mean_absolute_error: 2.4106\n",
            "Epoch 250/500\n",
            "26/26 - 0s - 7ms/step - loss: 1.7341 - mean_absolute_error: 0.9534 - val_loss: 11.1749 - val_mean_absolute_error: 2.3623\n",
            "Epoch 251/500\n",
            "26/26 - 0s - 5ms/step - loss: 1.7431 - mean_absolute_error: 0.9662 - val_loss: 10.8745 - val_mean_absolute_error: 2.3001\n",
            "Epoch 252/500\n",
            "26/26 - 0s - 5ms/step - loss: 1.7159 - mean_absolute_error: 0.9626 - val_loss: 10.9440 - val_mean_absolute_error: 2.2967\n",
            "Epoch 253/500\n",
            "26/26 - 0s - 6ms/step - loss: 1.7439 - mean_absolute_error: 0.9496 - val_loss: 11.3863 - val_mean_absolute_error: 2.4475\n",
            "Epoch 254/500\n",
            "26/26 - 0s - 5ms/step - loss: 1.8287 - mean_absolute_error: 0.9700 - val_loss: 10.9409 - val_mean_absolute_error: 2.3191\n",
            "Epoch 255/500\n",
            "26/26 - 0s - 5ms/step - loss: 1.6546 - mean_absolute_error: 0.9213 - val_loss: 11.3411 - val_mean_absolute_error: 2.3869\n",
            "Epoch 256/500\n",
            "26/26 - 0s - 5ms/step - loss: 1.8068 - mean_absolute_error: 0.9787 - val_loss: 11.0026 - val_mean_absolute_error: 2.2998\n",
            "Epoch 257/500\n",
            "26/26 - 0s - 6ms/step - loss: 1.6675 - mean_absolute_error: 0.9429 - val_loss: 11.0028 - val_mean_absolute_error: 2.3345\n",
            "Epoch 258/500\n",
            "26/26 - 0s - 5ms/step - loss: 1.8119 - mean_absolute_error: 0.9656 - val_loss: 11.2572 - val_mean_absolute_error: 2.3642\n",
            "Epoch 259/500\n",
            "26/26 - 0s - 5ms/step - loss: 1.6414 - mean_absolute_error: 0.9310 - val_loss: 11.1083 - val_mean_absolute_error: 2.3516\n",
            "Epoch 260/500\n",
            "26/26 - 0s - 12ms/step - loss: 1.6556 - mean_absolute_error: 0.9176 - val_loss: 10.8884 - val_mean_absolute_error: 2.2967\n",
            "Epoch 261/500\n",
            "26/26 - 0s - 5ms/step - loss: 1.6115 - mean_absolute_error: 0.8980 - val_loss: 11.2184 - val_mean_absolute_error: 2.3884\n",
            "Epoch 262/500\n",
            "26/26 - 0s - 5ms/step - loss: 1.6331 - mean_absolute_error: 0.9066 - val_loss: 11.1188 - val_mean_absolute_error: 2.3159\n",
            "Epoch 263/500\n",
            "26/26 - 0s - 6ms/step - loss: 1.6090 - mean_absolute_error: 0.9272 - val_loss: 11.1762 - val_mean_absolute_error: 2.3712\n",
            "Epoch 264/500\n",
            "26/26 - 0s - 10ms/step - loss: 1.6127 - mean_absolute_error: 0.9385 - val_loss: 11.1178 - val_mean_absolute_error: 2.3336\n",
            "Epoch 265/500\n",
            "26/26 - 0s - 6ms/step - loss: 1.6080 - mean_absolute_error: 0.9070 - val_loss: 11.2054 - val_mean_absolute_error: 2.3482\n",
            "Epoch 266/500\n",
            "26/26 - 0s - 6ms/step - loss: 1.5981 - mean_absolute_error: 0.8959 - val_loss: 11.0141 - val_mean_absolute_error: 2.3097\n",
            "Epoch 267/500\n",
            "26/26 - 0s - 11ms/step - loss: 1.5369 - mean_absolute_error: 0.8914 - val_loss: 11.2154 - val_mean_absolute_error: 2.3750\n",
            "Epoch 268/500\n",
            "26/26 - 0s - 10ms/step - loss: 1.5941 - mean_absolute_error: 0.9215 - val_loss: 11.3031 - val_mean_absolute_error: 2.3680\n",
            "Epoch 269/500\n",
            "26/26 - 0s - 5ms/step - loss: 1.5690 - mean_absolute_error: 0.9114 - val_loss: 11.3328 - val_mean_absolute_error: 2.3607\n",
            "Epoch 270/500\n",
            "26/26 - 0s - 6ms/step - loss: 1.6504 - mean_absolute_error: 0.9181 - val_loss: 11.2836 - val_mean_absolute_error: 2.4122\n",
            "Epoch 271/500\n",
            "26/26 - 0s - 11ms/step - loss: 1.7487 - mean_absolute_error: 0.9702 - val_loss: 11.5052 - val_mean_absolute_error: 2.3717\n",
            "Epoch 272/500\n",
            "26/26 - 0s - 5ms/step - loss: 1.8534 - mean_absolute_error: 0.9861 - val_loss: 11.2766 - val_mean_absolute_error: 2.4247\n",
            "Epoch 273/500\n",
            "26/26 - 0s - 5ms/step - loss: 1.8152 - mean_absolute_error: 0.9851 - val_loss: 11.3027 - val_mean_absolute_error: 2.3617\n",
            "Epoch 274/500\n",
            "26/26 - 0s - 5ms/step - loss: 1.4900 - mean_absolute_error: 0.8833 - val_loss: 11.1568 - val_mean_absolute_error: 2.3450\n",
            "Epoch 275/500\n",
            "26/26 - 0s - 5ms/step - loss: 1.4516 - mean_absolute_error: 0.8520 - val_loss: 11.1677 - val_mean_absolute_error: 2.3392\n",
            "Epoch 276/500\n",
            "26/26 - 0s - 7ms/step - loss: 1.5111 - mean_absolute_error: 0.8727 - val_loss: 11.6676 - val_mean_absolute_error: 2.3852\n",
            "Epoch 277/500\n",
            "26/26 - 0s - 10ms/step - loss: 1.6067 - mean_absolute_error: 0.9332 - val_loss: 11.1941 - val_mean_absolute_error: 2.3608\n",
            "Epoch 278/500\n",
            "26/26 - 0s - 5ms/step - loss: 1.7130 - mean_absolute_error: 0.9435 - val_loss: 11.0457 - val_mean_absolute_error: 2.3676\n",
            "Epoch 279/500\n",
            "26/26 - 0s - 5ms/step - loss: 1.6036 - mean_absolute_error: 0.9259 - val_loss: 11.1453 - val_mean_absolute_error: 2.3281\n",
            "Epoch 280/500\n",
            "26/26 - 0s - 11ms/step - loss: 1.5853 - mean_absolute_error: 0.9092 - val_loss: 11.5444 - val_mean_absolute_error: 2.3879\n",
            "Epoch 281/500\n",
            "26/26 - 0s - 7ms/step - loss: 1.4401 - mean_absolute_error: 0.8621 - val_loss: 11.3184 - val_mean_absolute_error: 2.3318\n",
            "Epoch 282/500\n",
            "26/26 - 0s - 5ms/step - loss: 1.3989 - mean_absolute_error: 0.8452 - val_loss: 10.8959 - val_mean_absolute_error: 2.3010\n",
            "Epoch 283/500\n",
            "26/26 - 0s - 5ms/step - loss: 1.5470 - mean_absolute_error: 0.9034 - val_loss: 11.5625 - val_mean_absolute_error: 2.3734\n",
            "Epoch 284/500\n",
            "26/26 - 0s - 7ms/step - loss: 1.4935 - mean_absolute_error: 0.8760 - val_loss: 11.1360 - val_mean_absolute_error: 2.3530\n",
            "Epoch 285/500\n",
            "26/26 - 0s - 10ms/step - loss: 1.4698 - mean_absolute_error: 0.8623 - val_loss: 11.1148 - val_mean_absolute_error: 2.3281\n",
            "Epoch 286/500\n",
            "26/26 - 0s - 5ms/step - loss: 1.4922 - mean_absolute_error: 0.8839 - val_loss: 11.7441 - val_mean_absolute_error: 2.4212\n",
            "Epoch 287/500\n",
            "26/26 - 0s - 6ms/step - loss: 1.6169 - mean_absolute_error: 0.9204 - val_loss: 11.2878 - val_mean_absolute_error: 2.3349\n",
            "Epoch 288/500\n",
            "26/26 - 0s - 5ms/step - loss: 1.6073 - mean_absolute_error: 0.9130 - val_loss: 11.3713 - val_mean_absolute_error: 2.3411\n",
            "Epoch 289/500\n",
            "26/26 - 0s - 5ms/step - loss: 1.6348 - mean_absolute_error: 0.9319 - val_loss: 11.6072 - val_mean_absolute_error: 2.3945\n",
            "Epoch 290/500\n",
            "26/26 - 0s - 5ms/step - loss: 1.4191 - mean_absolute_error: 0.8477 - val_loss: 11.1526 - val_mean_absolute_error: 2.3282\n",
            "Epoch 291/500\n",
            "26/26 - 0s - 5ms/step - loss: 1.6174 - mean_absolute_error: 0.9137 - val_loss: 11.2446 - val_mean_absolute_error: 2.3700\n",
            "Epoch 292/500\n",
            "26/26 - 0s - 7ms/step - loss: 1.4020 - mean_absolute_error: 0.8372 - val_loss: 11.2926 - val_mean_absolute_error: 2.3266\n",
            "Epoch 293/500\n",
            "26/26 - 0s - 14ms/step - loss: 1.3836 - mean_absolute_error: 0.8409 - val_loss: 11.3584 - val_mean_absolute_error: 2.3591\n",
            "Epoch 294/500\n",
            "26/26 - 0s - 10ms/step - loss: 1.4449 - mean_absolute_error: 0.8683 - val_loss: 11.1367 - val_mean_absolute_error: 2.3322\n",
            "Epoch 295/500\n",
            "26/26 - 0s - 12ms/step - loss: 1.4406 - mean_absolute_error: 0.8727 - val_loss: 11.4091 - val_mean_absolute_error: 2.3575\n",
            "Epoch 296/500\n",
            "26/26 - 0s - 11ms/step - loss: 1.4769 - mean_absolute_error: 0.8770 - val_loss: 11.2365 - val_mean_absolute_error: 2.3880\n",
            "Epoch 297/500\n",
            "26/26 - 1s - 26ms/step - loss: 1.4821 - mean_absolute_error: 0.8810 - val_loss: 11.3958 - val_mean_absolute_error: 2.3928\n",
            "Epoch 298/500\n",
            "26/26 - 1s - 31ms/step - loss: 1.4124 - mean_absolute_error: 0.8622 - val_loss: 11.6590 - val_mean_absolute_error: 2.3822\n",
            "Epoch 299/500\n",
            "26/26 - 0s - 5ms/step - loss: 1.3853 - mean_absolute_error: 0.8262 - val_loss: 11.3549 - val_mean_absolute_error: 2.3500\n",
            "Epoch 300/500\n",
            "26/26 - 0s - 5ms/step - loss: 1.4921 - mean_absolute_error: 0.8860 - val_loss: 11.3549 - val_mean_absolute_error: 2.3688\n",
            "Epoch 301/500\n",
            "26/26 - 0s - 5ms/step - loss: 1.3002 - mean_absolute_error: 0.8090 - val_loss: 11.4945 - val_mean_absolute_error: 2.3895\n",
            "Epoch 302/500\n",
            "26/26 - 0s - 5ms/step - loss: 1.4427 - mean_absolute_error: 0.8691 - val_loss: 11.6791 - val_mean_absolute_error: 2.3557\n",
            "Epoch 303/500\n",
            "26/26 - 0s - 11ms/step - loss: 1.4296 - mean_absolute_error: 0.8848 - val_loss: 10.8796 - val_mean_absolute_error: 2.3246\n",
            "Epoch 304/500\n",
            "26/26 - 0s - 5ms/step - loss: 1.4256 - mean_absolute_error: 0.8644 - val_loss: 11.3630 - val_mean_absolute_error: 2.3939\n",
            "Epoch 305/500\n",
            "26/26 - 0s - 5ms/step - loss: 1.3460 - mean_absolute_error: 0.8379 - val_loss: 11.1022 - val_mean_absolute_error: 2.3665\n",
            "Epoch 306/500\n",
            "26/26 - 0s - 5ms/step - loss: 1.4439 - mean_absolute_error: 0.8717 - val_loss: 11.3817 - val_mean_absolute_error: 2.3245\n",
            "Epoch 307/500\n",
            "26/26 - 0s - 5ms/step - loss: 1.3797 - mean_absolute_error: 0.8450 - val_loss: 11.3270 - val_mean_absolute_error: 2.4041\n",
            "Epoch 308/500\n",
            "26/26 - 0s - 5ms/step - loss: 1.5704 - mean_absolute_error: 0.9055 - val_loss: 11.5117 - val_mean_absolute_error: 2.3614\n",
            "Epoch 309/500\n",
            "26/26 - 0s - 7ms/step - loss: 1.3047 - mean_absolute_error: 0.8314 - val_loss: 11.4365 - val_mean_absolute_error: 2.3743\n",
            "Epoch 310/500\n",
            "26/26 - 0s - 10ms/step - loss: 1.4549 - mean_absolute_error: 0.8962 - val_loss: 11.3008 - val_mean_absolute_error: 2.3577\n",
            "Epoch 311/500\n",
            "26/26 - 0s - 5ms/step - loss: 1.3213 - mean_absolute_error: 0.8229 - val_loss: 11.2283 - val_mean_absolute_error: 2.3553\n",
            "Epoch 312/500\n",
            "26/26 - 0s - 5ms/step - loss: 1.2839 - mean_absolute_error: 0.8195 - val_loss: 11.4915 - val_mean_absolute_error: 2.3202\n",
            "Epoch 313/500\n",
            "26/26 - 0s - 6ms/step - loss: 1.3043 - mean_absolute_error: 0.8213 - val_loss: 11.0955 - val_mean_absolute_error: 2.3567\n",
            "Epoch 314/500\n",
            "26/26 - 0s - 5ms/step - loss: 1.7530 - mean_absolute_error: 0.9696 - val_loss: 11.4326 - val_mean_absolute_error: 2.3132\n",
            "Epoch 315/500\n",
            "26/26 - 0s - 6ms/step - loss: 1.2325 - mean_absolute_error: 0.7877 - val_loss: 11.6532 - val_mean_absolute_error: 2.3617\n",
            "Epoch 316/500\n",
            "26/26 - 0s - 11ms/step - loss: 1.3164 - mean_absolute_error: 0.8366 - val_loss: 11.5608 - val_mean_absolute_error: 2.3604\n",
            "Epoch 317/500\n",
            "26/26 - 0s - 5ms/step - loss: 1.3463 - mean_absolute_error: 0.8456 - val_loss: 12.0234 - val_mean_absolute_error: 2.4140\n",
            "Epoch 318/500\n",
            "26/26 - 0s - 5ms/step - loss: 1.3273 - mean_absolute_error: 0.8194 - val_loss: 11.2026 - val_mean_absolute_error: 2.3395\n",
            "Epoch 319/500\n",
            "26/26 - 0s - 5ms/step - loss: 1.2186 - mean_absolute_error: 0.7944 - val_loss: 11.2831 - val_mean_absolute_error: 2.3434\n",
            "Epoch 320/500\n",
            "26/26 - 0s - 5ms/step - loss: 1.1842 - mean_absolute_error: 0.7616 - val_loss: 11.2692 - val_mean_absolute_error: 2.3411\n",
            "Epoch 321/500\n",
            "26/26 - 0s - 6ms/step - loss: 1.2618 - mean_absolute_error: 0.8190 - val_loss: 11.9814 - val_mean_absolute_error: 2.3831\n",
            "Epoch 322/500\n",
            "26/26 - 0s - 5ms/step - loss: 1.5973 - mean_absolute_error: 0.9362 - val_loss: 11.2385 - val_mean_absolute_error: 2.3648\n",
            "Epoch 323/500\n",
            "26/26 - 0s - 5ms/step - loss: 1.3507 - mean_absolute_error: 0.8339 - val_loss: 11.4525 - val_mean_absolute_error: 2.3411\n",
            "Epoch 324/500\n",
            "26/26 - 0s - 5ms/step - loss: 1.2292 - mean_absolute_error: 0.7802 - val_loss: 11.5784 - val_mean_absolute_error: 2.3800\n",
            "Epoch 325/500\n",
            "26/26 - 0s - 5ms/step - loss: 1.2575 - mean_absolute_error: 0.8029 - val_loss: 11.2945 - val_mean_absolute_error: 2.3695\n",
            "Epoch 326/500\n",
            "26/26 - 0s - 5ms/step - loss: 1.3954 - mean_absolute_error: 0.8823 - val_loss: 11.2957 - val_mean_absolute_error: 2.3649\n",
            "Epoch 327/500\n",
            "26/26 - 0s - 5ms/step - loss: 1.3149 - mean_absolute_error: 0.8329 - val_loss: 11.3113 - val_mean_absolute_error: 2.3164\n",
            "Epoch 328/500\n",
            "26/26 - 0s - 6ms/step - loss: 1.1928 - mean_absolute_error: 0.7898 - val_loss: 11.1194 - val_mean_absolute_error: 2.3429\n",
            "Epoch 329/500\n",
            "26/26 - 0s - 11ms/step - loss: 1.1218 - mean_absolute_error: 0.7549 - val_loss: 12.1479 - val_mean_absolute_error: 2.4282\n",
            "Epoch 330/500\n",
            "26/26 - 0s - 5ms/step - loss: 1.4569 - mean_absolute_error: 0.8860 - val_loss: 11.4397 - val_mean_absolute_error: 2.4093\n",
            "Epoch 331/500\n",
            "26/26 - 0s - 5ms/step - loss: 1.2594 - mean_absolute_error: 0.8113 - val_loss: 11.6018 - val_mean_absolute_error: 2.3545\n",
            "Epoch 332/500\n",
            "26/26 - 0s - 7ms/step - loss: 1.3061 - mean_absolute_error: 0.8265 - val_loss: 11.4169 - val_mean_absolute_error: 2.3537\n",
            "Epoch 333/500\n",
            "26/26 - 0s - 11ms/step - loss: 1.3537 - mean_absolute_error: 0.8393 - val_loss: 11.5344 - val_mean_absolute_error: 2.3761\n",
            "Epoch 334/500\n",
            "26/26 - 0s - 11ms/step - loss: 1.1837 - mean_absolute_error: 0.7947 - val_loss: 11.6206 - val_mean_absolute_error: 2.3582\n",
            "Epoch 335/500\n",
            "26/26 - 0s - 5ms/step - loss: 1.3395 - mean_absolute_error: 0.8539 - val_loss: 11.3417 - val_mean_absolute_error: 2.3991\n",
            "Epoch 336/500\n",
            "26/26 - 0s - 7ms/step - loss: 1.3455 - mean_absolute_error: 0.8523 - val_loss: 11.4525 - val_mean_absolute_error: 2.3779\n",
            "Epoch 337/500\n",
            "26/26 - 0s - 5ms/step - loss: 1.2243 - mean_absolute_error: 0.7888 - val_loss: 11.4686 - val_mean_absolute_error: 2.3485\n",
            "Epoch 338/500\n",
            "26/26 - 0s - 6ms/step - loss: 1.2323 - mean_absolute_error: 0.8083 - val_loss: 11.5766 - val_mean_absolute_error: 2.4013\n",
            "Epoch 339/500\n",
            "26/26 - 0s - 11ms/step - loss: 1.1953 - mean_absolute_error: 0.7769 - val_loss: 11.4459 - val_mean_absolute_error: 2.4066\n",
            "Epoch 340/500\n",
            "26/26 - 0s - 5ms/step - loss: 1.2729 - mean_absolute_error: 0.8119 - val_loss: 11.5309 - val_mean_absolute_error: 2.3289\n",
            "Epoch 341/500\n",
            "26/26 - 0s - 5ms/step - loss: 1.1891 - mean_absolute_error: 0.8022 - val_loss: 11.3196 - val_mean_absolute_error: 2.3949\n",
            "Epoch 342/500\n",
            "26/26 - 0s - 6ms/step - loss: 1.2403 - mean_absolute_error: 0.8112 - val_loss: 11.2479 - val_mean_absolute_error: 2.3617\n",
            "Epoch 343/500\n",
            "26/26 - 0s - 5ms/step - loss: 1.2196 - mean_absolute_error: 0.7894 - val_loss: 11.6862 - val_mean_absolute_error: 2.3748\n",
            "Epoch 344/500\n",
            "26/26 - 0s - 12ms/step - loss: 1.1775 - mean_absolute_error: 0.7861 - val_loss: 11.3965 - val_mean_absolute_error: 2.3560\n",
            "Epoch 345/500\n",
            "26/26 - 0s - 5ms/step - loss: 1.1571 - mean_absolute_error: 0.7711 - val_loss: 11.4199 - val_mean_absolute_error: 2.3342\n",
            "Epoch 346/500\n",
            "26/26 - 0s - 5ms/step - loss: 1.0856 - mean_absolute_error: 0.7660 - val_loss: 11.4910 - val_mean_absolute_error: 2.3804\n",
            "Epoch 347/500\n",
            "26/26 - 0s - 5ms/step - loss: 1.3256 - mean_absolute_error: 0.8241 - val_loss: 11.6418 - val_mean_absolute_error: 2.4348\n",
            "Epoch 348/500\n",
            "26/26 - 0s - 6ms/step - loss: 1.2274 - mean_absolute_error: 0.8028 - val_loss: 11.9560 - val_mean_absolute_error: 2.3772\n",
            "Epoch 349/500\n",
            "26/26 - 0s - 5ms/step - loss: 1.1420 - mean_absolute_error: 0.7829 - val_loss: 11.3307 - val_mean_absolute_error: 2.3540\n",
            "Epoch 350/500\n",
            "26/26 - 0s - 5ms/step - loss: 1.1467 - mean_absolute_error: 0.7731 - val_loss: 11.6925 - val_mean_absolute_error: 2.3320\n",
            "Epoch 351/500\n",
            "26/26 - 0s - 6ms/step - loss: 1.1074 - mean_absolute_error: 0.7572 - val_loss: 11.6339 - val_mean_absolute_error: 2.3723\n",
            "Epoch 352/500\n",
            "26/26 - 0s - 5ms/step - loss: 1.1916 - mean_absolute_error: 0.8020 - val_loss: 11.3921 - val_mean_absolute_error: 2.3267\n",
            "Epoch 353/500\n",
            "26/26 - 0s - 5ms/step - loss: 1.1246 - mean_absolute_error: 0.7747 - val_loss: 11.3683 - val_mean_absolute_error: 2.3763\n",
            "Epoch 354/500\n",
            "26/26 - 0s - 6ms/step - loss: 1.1029 - mean_absolute_error: 0.7491 - val_loss: 11.6774 - val_mean_absolute_error: 2.3618\n",
            "Epoch 355/500\n",
            "26/26 - 0s - 7ms/step - loss: 1.0975 - mean_absolute_error: 0.7404 - val_loss: 11.4758 - val_mean_absolute_error: 2.3466\n",
            "Epoch 356/500\n",
            "26/26 - 0s - 12ms/step - loss: 1.0717 - mean_absolute_error: 0.7368 - val_loss: 11.6199 - val_mean_absolute_error: 2.3485\n",
            "Epoch 357/500\n",
            "26/26 - 0s - 8ms/step - loss: 1.2023 - mean_absolute_error: 0.8098 - val_loss: 12.1152 - val_mean_absolute_error: 2.4683\n",
            "Epoch 358/500\n",
            "26/26 - 0s - 13ms/step - loss: 1.3358 - mean_absolute_error: 0.8583 - val_loss: 12.6226 - val_mean_absolute_error: 2.4556\n",
            "Epoch 359/500\n",
            "26/26 - 0s - 11ms/step - loss: 1.2297 - mean_absolute_error: 0.8011 - val_loss: 11.4216 - val_mean_absolute_error: 2.3580\n",
            "Epoch 360/500\n",
            "26/26 - 0s - 12ms/step - loss: 1.1285 - mean_absolute_error: 0.7594 - val_loss: 11.8088 - val_mean_absolute_error: 2.3117\n",
            "Epoch 361/500\n",
            "26/26 - 0s - 9ms/step - loss: 1.1276 - mean_absolute_error: 0.7609 - val_loss: 11.9003 - val_mean_absolute_error: 2.4020\n",
            "Epoch 362/500\n",
            "26/26 - 0s - 12ms/step - loss: 1.0739 - mean_absolute_error: 0.7514 - val_loss: 11.5205 - val_mean_absolute_error: 2.3929\n",
            "Epoch 363/500\n",
            "26/26 - 0s - 8ms/step - loss: 1.2393 - mean_absolute_error: 0.8080 - val_loss: 12.0179 - val_mean_absolute_error: 2.3896\n",
            "Epoch 364/500\n",
            "26/26 - 0s - 5ms/step - loss: 1.1574 - mean_absolute_error: 0.7821 - val_loss: 11.8311 - val_mean_absolute_error: 2.4566\n",
            "Epoch 365/500\n",
            "26/26 - 0s - 8ms/step - loss: 1.2055 - mean_absolute_error: 0.8190 - val_loss: 11.6331 - val_mean_absolute_error: 2.3771\n",
            "Epoch 366/500\n",
            "26/26 - 0s - 9ms/step - loss: 1.1726 - mean_absolute_error: 0.7960 - val_loss: 12.7086 - val_mean_absolute_error: 2.4628\n",
            "Epoch 367/500\n",
            "26/26 - 0s - 5ms/step - loss: 1.3105 - mean_absolute_error: 0.8272 - val_loss: 11.6466 - val_mean_absolute_error: 2.3786\n",
            "Epoch 368/500\n",
            "26/26 - 0s - 5ms/step - loss: 1.1179 - mean_absolute_error: 0.7681 - val_loss: 11.7418 - val_mean_absolute_error: 2.3850\n",
            "Epoch 369/500\n",
            "26/26 - 0s - 5ms/step - loss: 1.1715 - mean_absolute_error: 0.7693 - val_loss: 11.5722 - val_mean_absolute_error: 2.3642\n",
            "Epoch 370/500\n",
            "26/26 - 0s - 6ms/step - loss: 1.0368 - mean_absolute_error: 0.7257 - val_loss: 11.7264 - val_mean_absolute_error: 2.3535\n",
            "Epoch 371/500\n",
            "26/26 - 0s - 13ms/step - loss: 1.0661 - mean_absolute_error: 0.7138 - val_loss: 11.5228 - val_mean_absolute_error: 2.3112\n",
            "Epoch 372/500\n",
            "26/26 - 0s - 5ms/step - loss: 1.0201 - mean_absolute_error: 0.7285 - val_loss: 11.9826 - val_mean_absolute_error: 2.4172\n",
            "Epoch 373/500\n",
            "26/26 - 0s - 5ms/step - loss: 1.0314 - mean_absolute_error: 0.7154 - val_loss: 11.4997 - val_mean_absolute_error: 2.3590\n",
            "Epoch 374/500\n",
            "26/26 - 0s - 5ms/step - loss: 1.0151 - mean_absolute_error: 0.7097 - val_loss: 11.7950 - val_mean_absolute_error: 2.3296\n",
            "Epoch 375/500\n",
            "26/26 - 0s - 7ms/step - loss: 1.1004 - mean_absolute_error: 0.7449 - val_loss: 12.0316 - val_mean_absolute_error: 2.3937\n",
            "Epoch 376/500\n",
            "26/26 - 0s - 10ms/step - loss: 1.1432 - mean_absolute_error: 0.7886 - val_loss: 11.6801 - val_mean_absolute_error: 2.3778\n",
            "Epoch 377/500\n",
            "26/26 - 0s - 5ms/step - loss: 1.0027 - mean_absolute_error: 0.7215 - val_loss: 11.5300 - val_mean_absolute_error: 2.3317\n",
            "Epoch 378/500\n",
            "26/26 - 0s - 5ms/step - loss: 1.0235 - mean_absolute_error: 0.7146 - val_loss: 11.9048 - val_mean_absolute_error: 2.3733\n",
            "Epoch 379/500\n",
            "26/26 - 0s - 5ms/step - loss: 0.9962 - mean_absolute_error: 0.6953 - val_loss: 11.4578 - val_mean_absolute_error: 2.3492\n",
            "Epoch 380/500\n",
            "26/26 - 0s - 11ms/step - loss: 0.9991 - mean_absolute_error: 0.7254 - val_loss: 11.6363 - val_mean_absolute_error: 2.3370\n",
            "Epoch 381/500\n",
            "26/26 - 0s - 5ms/step - loss: 1.0764 - mean_absolute_error: 0.7376 - val_loss: 11.4230 - val_mean_absolute_error: 2.3792\n",
            "Epoch 382/500\n",
            "26/26 - 0s - 12ms/step - loss: 1.0148 - mean_absolute_error: 0.7219 - val_loss: 11.4881 - val_mean_absolute_error: 2.3381\n",
            "Epoch 383/500\n",
            "26/26 - 0s - 5ms/step - loss: 1.0674 - mean_absolute_error: 0.7312 - val_loss: 11.6002 - val_mean_absolute_error: 2.3877\n",
            "Epoch 384/500\n",
            "26/26 - 0s - 5ms/step - loss: 1.3416 - mean_absolute_error: 0.8566 - val_loss: 12.1380 - val_mean_absolute_error: 2.4064\n",
            "Epoch 385/500\n",
            "26/26 - 0s - 5ms/step - loss: 1.1465 - mean_absolute_error: 0.7785 - val_loss: 11.7610 - val_mean_absolute_error: 2.3833\n",
            "Epoch 386/500\n",
            "26/26 - 0s - 5ms/step - loss: 1.0681 - mean_absolute_error: 0.7517 - val_loss: 11.9321 - val_mean_absolute_error: 2.3889\n",
            "Epoch 387/500\n",
            "26/26 - 0s - 5ms/step - loss: 1.1218 - mean_absolute_error: 0.7713 - val_loss: 12.0880 - val_mean_absolute_error: 2.3929\n",
            "Epoch 388/500\n",
            "26/26 - 0s - 7ms/step - loss: 1.0117 - mean_absolute_error: 0.7260 - val_loss: 11.7188 - val_mean_absolute_error: 2.3380\n",
            "Epoch 389/500\n",
            "26/26 - 0s - 10ms/step - loss: 1.0558 - mean_absolute_error: 0.7459 - val_loss: 11.5456 - val_mean_absolute_error: 2.3896\n",
            "Epoch 390/500\n",
            "26/26 - 0s - 5ms/step - loss: 1.2191 - mean_absolute_error: 0.7983 - val_loss: 12.0573 - val_mean_absolute_error: 2.3924\n",
            "Epoch 391/500\n",
            "26/26 - 0s - 6ms/step - loss: 1.0243 - mean_absolute_error: 0.7320 - val_loss: 12.1320 - val_mean_absolute_error: 2.3983\n",
            "Epoch 392/500\n",
            "26/26 - 0s - 10ms/step - loss: 1.0977 - mean_absolute_error: 0.7603 - val_loss: 11.4653 - val_mean_absolute_error: 2.3695\n",
            "Epoch 393/500\n",
            "26/26 - 0s - 12ms/step - loss: 1.0736 - mean_absolute_error: 0.7589 - val_loss: 12.0937 - val_mean_absolute_error: 2.4007\n",
            "Epoch 394/500\n",
            "26/26 - 0s - 5ms/step - loss: 1.0225 - mean_absolute_error: 0.7206 - val_loss: 11.6620 - val_mean_absolute_error: 2.3267\n",
            "Epoch 395/500\n",
            "26/26 - 0s - 6ms/step - loss: 0.9924 - mean_absolute_error: 0.6934 - val_loss: 11.7237 - val_mean_absolute_error: 2.3570\n",
            "Epoch 396/500\n",
            "26/26 - 0s - 10ms/step - loss: 1.0378 - mean_absolute_error: 0.7537 - val_loss: 11.3186 - val_mean_absolute_error: 2.3670\n",
            "Epoch 397/500\n",
            "26/26 - 0s - 5ms/step - loss: 1.1233 - mean_absolute_error: 0.7574 - val_loss: 12.0475 - val_mean_absolute_error: 2.3924\n",
            "Epoch 398/500\n",
            "26/26 - 0s - 12ms/step - loss: 1.0028 - mean_absolute_error: 0.6862 - val_loss: 11.8891 - val_mean_absolute_error: 2.3771\n",
            "Epoch 399/500\n",
            "26/26 - 0s - 5ms/step - loss: 0.9344 - mean_absolute_error: 0.6961 - val_loss: 11.4786 - val_mean_absolute_error: 2.3783\n",
            "Epoch 400/500\n",
            "26/26 - 0s - 6ms/step - loss: 0.9785 - mean_absolute_error: 0.7120 - val_loss: 12.0479 - val_mean_absolute_error: 2.3559\n",
            "Epoch 401/500\n",
            "26/26 - 0s - 12ms/step - loss: 0.9828 - mean_absolute_error: 0.7206 - val_loss: 11.9410 - val_mean_absolute_error: 2.3617\n",
            "Epoch 402/500\n",
            "26/26 - 0s - 11ms/step - loss: 0.9819 - mean_absolute_error: 0.7274 - val_loss: 11.7816 - val_mean_absolute_error: 2.3853\n",
            "Epoch 403/500\n",
            "26/26 - 0s - 10ms/step - loss: 1.0316 - mean_absolute_error: 0.7386 - val_loss: 12.2134 - val_mean_absolute_error: 2.3699\n",
            "Epoch 404/500\n",
            "26/26 - 0s - 5ms/step - loss: 1.0830 - mean_absolute_error: 0.7521 - val_loss: 11.7613 - val_mean_absolute_error: 2.3644\n",
            "Epoch 405/500\n",
            "26/26 - 0s - 7ms/step - loss: 0.9404 - mean_absolute_error: 0.6989 - val_loss: 11.8939 - val_mean_absolute_error: 2.3899\n",
            "Epoch 406/500\n",
            "26/26 - 0s - 12ms/step - loss: 0.9769 - mean_absolute_error: 0.6979 - val_loss: 11.5991 - val_mean_absolute_error: 2.3414\n",
            "Epoch 407/500\n",
            "26/26 - 0s - 10ms/step - loss: 1.0107 - mean_absolute_error: 0.7214 - val_loss: 11.7880 - val_mean_absolute_error: 2.3649\n",
            "Epoch 408/500\n",
            "26/26 - 0s - 6ms/step - loss: 0.9020 - mean_absolute_error: 0.6845 - val_loss: 12.1449 - val_mean_absolute_error: 2.3901\n",
            "Epoch 409/500\n",
            "26/26 - 0s - 5ms/step - loss: 0.9237 - mean_absolute_error: 0.6804 - val_loss: 11.7979 - val_mean_absolute_error: 2.3721\n",
            "Epoch 410/500\n",
            "26/26 - 0s - 5ms/step - loss: 0.8823 - mean_absolute_error: 0.6577 - val_loss: 11.8184 - val_mean_absolute_error: 2.3643\n",
            "Epoch 411/500\n",
            "26/26 - 0s - 5ms/step - loss: 0.9397 - mean_absolute_error: 0.6884 - val_loss: 11.8596 - val_mean_absolute_error: 2.3859\n",
            "Epoch 412/500\n",
            "26/26 - 0s - 11ms/step - loss: 0.9596 - mean_absolute_error: 0.7321 - val_loss: 12.3902 - val_mean_absolute_error: 2.3900\n",
            "Epoch 413/500\n",
            "26/26 - 0s - 5ms/step - loss: 0.9364 - mean_absolute_error: 0.6978 - val_loss: 11.6234 - val_mean_absolute_error: 2.3353\n",
            "Epoch 414/500\n",
            "26/26 - 0s - 7ms/step - loss: 0.9389 - mean_absolute_error: 0.6709 - val_loss: 11.7397 - val_mean_absolute_error: 2.3701\n",
            "Epoch 415/500\n",
            "26/26 - 0s - 12ms/step - loss: 0.9158 - mean_absolute_error: 0.6744 - val_loss: 11.9477 - val_mean_absolute_error: 2.4102\n",
            "Epoch 416/500\n",
            "26/26 - 0s - 12ms/step - loss: 1.0056 - mean_absolute_error: 0.7118 - val_loss: 12.0669 - val_mean_absolute_error: 2.3959\n",
            "Epoch 417/500\n",
            "26/26 - 0s - 11ms/step - loss: 0.9100 - mean_absolute_error: 0.6632 - val_loss: 12.1978 - val_mean_absolute_error: 2.3990\n",
            "Epoch 418/500\n",
            "26/26 - 0s - 10ms/step - loss: 0.8536 - mean_absolute_error: 0.6653 - val_loss: 11.8122 - val_mean_absolute_error: 2.3928\n",
            "Epoch 419/500\n",
            "26/26 - 0s - 13ms/step - loss: 0.8083 - mean_absolute_error: 0.6272 - val_loss: 11.9659 - val_mean_absolute_error: 2.3557\n",
            "Epoch 420/500\n",
            "26/26 - 0s - 12ms/step - loss: 0.8407 - mean_absolute_error: 0.6329 - val_loss: 12.0069 - val_mean_absolute_error: 2.4262\n",
            "Epoch 421/500\n",
            "26/26 - 0s - 9ms/step - loss: 1.0171 - mean_absolute_error: 0.7292 - val_loss: 12.0335 - val_mean_absolute_error: 2.3710\n",
            "Epoch 422/500\n",
            "26/26 - 0s - 8ms/step - loss: 0.8424 - mean_absolute_error: 0.6412 - val_loss: 12.4494 - val_mean_absolute_error: 2.3881\n",
            "Epoch 423/500\n",
            "26/26 - 0s - 11ms/step - loss: 0.9615 - mean_absolute_error: 0.6810 - val_loss: 12.1323 - val_mean_absolute_error: 2.4255\n",
            "Epoch 424/500\n",
            "26/26 - 0s - 11ms/step - loss: 1.0117 - mean_absolute_error: 0.7140 - val_loss: 11.9075 - val_mean_absolute_error: 2.3681\n",
            "Epoch 425/500\n",
            "26/26 - 0s - 5ms/step - loss: 0.9074 - mean_absolute_error: 0.6721 - val_loss: 11.8908 - val_mean_absolute_error: 2.4073\n",
            "Epoch 426/500\n",
            "26/26 - 0s - 5ms/step - loss: 0.8868 - mean_absolute_error: 0.6675 - val_loss: 12.0213 - val_mean_absolute_error: 2.3951\n",
            "Epoch 427/500\n",
            "26/26 - 0s - 5ms/step - loss: 0.9194 - mean_absolute_error: 0.6873 - val_loss: 11.9630 - val_mean_absolute_error: 2.3587\n",
            "Epoch 428/500\n",
            "26/26 - 0s - 5ms/step - loss: 0.8199 - mean_absolute_error: 0.6404 - val_loss: 11.9951 - val_mean_absolute_error: 2.3697\n",
            "Epoch 429/500\n",
            "26/26 - 0s - 5ms/step - loss: 0.8499 - mean_absolute_error: 0.6415 - val_loss: 12.2838 - val_mean_absolute_error: 2.4139\n",
            "Epoch 430/500\n",
            "26/26 - 0s - 6ms/step - loss: 0.8717 - mean_absolute_error: 0.6655 - val_loss: 12.0171 - val_mean_absolute_error: 2.4186\n",
            "Epoch 431/500\n",
            "26/26 - 0s - 11ms/step - loss: 0.8271 - mean_absolute_error: 0.6598 - val_loss: 12.0777 - val_mean_absolute_error: 2.3718\n",
            "Epoch 432/500\n",
            "26/26 - 0s - 5ms/step - loss: 0.8625 - mean_absolute_error: 0.6782 - val_loss: 11.9274 - val_mean_absolute_error: 2.3403\n",
            "Epoch 433/500\n",
            "26/26 - 0s - 5ms/step - loss: 0.8327 - mean_absolute_error: 0.6558 - val_loss: 11.7926 - val_mean_absolute_error: 2.3904\n",
            "Epoch 434/500\n",
            "26/26 - 0s - 5ms/step - loss: 0.8848 - mean_absolute_error: 0.6748 - val_loss: 12.0048 - val_mean_absolute_error: 2.3555\n",
            "Epoch 435/500\n",
            "26/26 - 0s - 5ms/step - loss: 0.8411 - mean_absolute_error: 0.6553 - val_loss: 12.2098 - val_mean_absolute_error: 2.3985\n",
            "Epoch 436/500\n",
            "26/26 - 0s - 6ms/step - loss: 0.9619 - mean_absolute_error: 0.7192 - val_loss: 12.0756 - val_mean_absolute_error: 2.4047\n",
            "Epoch 437/500\n",
            "26/26 - 0s - 11ms/step - loss: 0.8693 - mean_absolute_error: 0.6645 - val_loss: 12.1021 - val_mean_absolute_error: 2.3700\n",
            "Epoch 438/500\n",
            "26/26 - 0s - 5ms/step - loss: 0.8114 - mean_absolute_error: 0.6408 - val_loss: 12.1297 - val_mean_absolute_error: 2.4287\n",
            "Epoch 439/500\n",
            "26/26 - 0s - 5ms/step - loss: 0.9011 - mean_absolute_error: 0.6889 - val_loss: 12.1691 - val_mean_absolute_error: 2.3979\n",
            "Epoch 440/500\n",
            "26/26 - 0s - 5ms/step - loss: 1.0201 - mean_absolute_error: 0.7397 - val_loss: 12.2505 - val_mean_absolute_error: 2.4278\n",
            "Epoch 441/500\n",
            "26/26 - 0s - 5ms/step - loss: 0.8224 - mean_absolute_error: 0.6610 - val_loss: 11.7429 - val_mean_absolute_error: 2.3586\n",
            "Epoch 442/500\n",
            "26/26 - 0s - 7ms/step - loss: 0.7776 - mean_absolute_error: 0.6231 - val_loss: 11.9499 - val_mean_absolute_error: 2.3795\n",
            "Epoch 443/500\n",
            "26/26 - 0s - 10ms/step - loss: 0.8201 - mean_absolute_error: 0.6531 - val_loss: 12.0150 - val_mean_absolute_error: 2.4071\n",
            "Epoch 444/500\n",
            "26/26 - 0s - 6ms/step - loss: 0.8041 - mean_absolute_error: 0.6447 - val_loss: 11.9700 - val_mean_absolute_error: 2.4089\n",
            "Epoch 445/500\n",
            "26/26 - 0s - 10ms/step - loss: 0.8899 - mean_absolute_error: 0.6577 - val_loss: 12.1286 - val_mean_absolute_error: 2.4016\n",
            "Epoch 446/500\n",
            "26/26 - 0s - 12ms/step - loss: 0.8196 - mean_absolute_error: 0.6476 - val_loss: 12.2226 - val_mean_absolute_error: 2.4292\n",
            "Epoch 447/500\n",
            "26/26 - 0s - 5ms/step - loss: 0.8885 - mean_absolute_error: 0.6768 - val_loss: 12.1191 - val_mean_absolute_error: 2.4009\n",
            "Epoch 448/500\n",
            "26/26 - 0s - 5ms/step - loss: 0.8705 - mean_absolute_error: 0.6631 - val_loss: 12.1560 - val_mean_absolute_error: 2.3974\n",
            "Epoch 449/500\n",
            "26/26 - 0s - 5ms/step - loss: 0.8882 - mean_absolute_error: 0.6658 - val_loss: 12.3269 - val_mean_absolute_error: 2.4557\n",
            "Epoch 450/500\n",
            "26/26 - 0s - 12ms/step - loss: 0.9127 - mean_absolute_error: 0.7194 - val_loss: 12.1779 - val_mean_absolute_error: 2.4028\n",
            "Epoch 451/500\n",
            "26/26 - 0s - 5ms/step - loss: 0.8752 - mean_absolute_error: 0.6650 - val_loss: 12.0762 - val_mean_absolute_error: 2.4284\n",
            "Epoch 452/500\n",
            "26/26 - 0s - 6ms/step - loss: 0.8054 - mean_absolute_error: 0.6599 - val_loss: 11.8696 - val_mean_absolute_error: 2.3983\n",
            "Epoch 453/500\n",
            "26/26 - 0s - 12ms/step - loss: 0.8354 - mean_absolute_error: 0.6484 - val_loss: 11.9220 - val_mean_absolute_error: 2.3614\n",
            "Epoch 454/500\n",
            "26/26 - 0s - 5ms/step - loss: 0.7760 - mean_absolute_error: 0.6291 - val_loss: 12.3147 - val_mean_absolute_error: 2.4207\n",
            "Epoch 455/500\n",
            "26/26 - 0s - 5ms/step - loss: 0.7863 - mean_absolute_error: 0.6360 - val_loss: 11.9556 - val_mean_absolute_error: 2.3867\n",
            "Epoch 456/500\n",
            "26/26 - 0s - 5ms/step - loss: 0.9665 - mean_absolute_error: 0.7185 - val_loss: 12.1661 - val_mean_absolute_error: 2.3555\n",
            "Epoch 457/500\n",
            "26/26 - 0s - 7ms/step - loss: 0.8500 - mean_absolute_error: 0.6534 - val_loss: 12.3460 - val_mean_absolute_error: 2.4071\n",
            "Epoch 458/500\n",
            "26/26 - 0s - 7ms/step - loss: 0.7759 - mean_absolute_error: 0.6196 - val_loss: 11.7925 - val_mean_absolute_error: 2.3774\n",
            "Epoch 459/500\n",
            "26/26 - 0s - 10ms/step - loss: 0.7715 - mean_absolute_error: 0.6267 - val_loss: 12.1725 - val_mean_absolute_error: 2.4403\n",
            "Epoch 460/500\n",
            "26/26 - 0s - 6ms/step - loss: 0.8235 - mean_absolute_error: 0.6563 - val_loss: 12.6945 - val_mean_absolute_error: 2.4408\n",
            "Epoch 461/500\n",
            "26/26 - 0s - 5ms/step - loss: 0.9616 - mean_absolute_error: 0.7509 - val_loss: 12.7561 - val_mean_absolute_error: 2.4658\n",
            "Epoch 462/500\n",
            "26/26 - 0s - 5ms/step - loss: 0.8534 - mean_absolute_error: 0.6527 - val_loss: 12.1767 - val_mean_absolute_error: 2.3750\n",
            "Epoch 463/500\n",
            "26/26 - 0s - 5ms/step - loss: 0.8326 - mean_absolute_error: 0.6276 - val_loss: 12.2974 - val_mean_absolute_error: 2.4416\n",
            "Epoch 464/500\n",
            "26/26 - 0s - 11ms/step - loss: 0.8716 - mean_absolute_error: 0.6699 - val_loss: 12.4609 - val_mean_absolute_error: 2.4137\n",
            "Epoch 465/500\n",
            "26/26 - 0s - 5ms/step - loss: 0.7549 - mean_absolute_error: 0.6233 - val_loss: 12.0587 - val_mean_absolute_error: 2.3885\n",
            "Epoch 466/500\n",
            "26/26 - 0s - 5ms/step - loss: 0.7979 - mean_absolute_error: 0.6494 - val_loss: 11.9385 - val_mean_absolute_error: 2.3979\n",
            "Epoch 467/500\n",
            "26/26 - 0s - 5ms/step - loss: 0.7271 - mean_absolute_error: 0.6080 - val_loss: 12.3787 - val_mean_absolute_error: 2.4293\n",
            "Epoch 468/500\n",
            "26/26 - 0s - 5ms/step - loss: 0.7778 - mean_absolute_error: 0.6387 - val_loss: 12.4767 - val_mean_absolute_error: 2.4293\n",
            "Epoch 469/500\n",
            "26/26 - 0s - 5ms/step - loss: 0.7585 - mean_absolute_error: 0.6181 - val_loss: 11.9868 - val_mean_absolute_error: 2.3707\n",
            "Epoch 470/500\n",
            "26/26 - 0s - 6ms/step - loss: 0.8195 - mean_absolute_error: 0.6554 - val_loss: 12.3233 - val_mean_absolute_error: 2.4160\n",
            "Epoch 471/500\n",
            "26/26 - 0s - 5ms/step - loss: 0.8090 - mean_absolute_error: 0.6311 - val_loss: 12.4337 - val_mean_absolute_error: 2.4105\n",
            "Epoch 472/500\n",
            "26/26 - 0s - 5ms/step - loss: 0.7500 - mean_absolute_error: 0.6123 - val_loss: 12.2760 - val_mean_absolute_error: 2.4054\n",
            "Epoch 473/500\n",
            "26/26 - 0s - 5ms/step - loss: 0.8203 - mean_absolute_error: 0.6656 - val_loss: 11.9310 - val_mean_absolute_error: 2.3848\n",
            "Epoch 474/500\n",
            "26/26 - 0s - 5ms/step - loss: 0.7640 - mean_absolute_error: 0.6243 - val_loss: 12.4046 - val_mean_absolute_error: 2.4120\n",
            "Epoch 475/500\n",
            "26/26 - 0s - 5ms/step - loss: 0.7171 - mean_absolute_error: 0.5911 - val_loss: 12.4619 - val_mean_absolute_error: 2.4057\n",
            "Epoch 476/500\n",
            "26/26 - 0s - 5ms/step - loss: 0.7141 - mean_absolute_error: 0.5796 - val_loss: 12.4598 - val_mean_absolute_error: 2.3934\n",
            "Epoch 477/500\n",
            "26/26 - 0s - 6ms/step - loss: 0.6977 - mean_absolute_error: 0.5926 - val_loss: 12.1785 - val_mean_absolute_error: 2.3806\n",
            "Epoch 478/500\n",
            "26/26 - 0s - 8ms/step - loss: 0.7102 - mean_absolute_error: 0.5908 - val_loss: 12.0849 - val_mean_absolute_error: 2.4022\n",
            "Epoch 479/500\n",
            "26/26 - 0s - 12ms/step - loss: 0.7655 - mean_absolute_error: 0.6060 - val_loss: 12.0249 - val_mean_absolute_error: 2.3678\n",
            "Epoch 480/500\n",
            "26/26 - 0s - 12ms/step - loss: 0.7222 - mean_absolute_error: 0.6111 - val_loss: 12.1588 - val_mean_absolute_error: 2.4259\n",
            "Epoch 481/500\n",
            "26/26 - 0s - 11ms/step - loss: 0.7996 - mean_absolute_error: 0.6314 - val_loss: 12.4794 - val_mean_absolute_error: 2.4813\n",
            "Epoch 482/500\n",
            "26/26 - 0s - 8ms/step - loss: 0.8166 - mean_absolute_error: 0.6371 - val_loss: 11.9847 - val_mean_absolute_error: 2.3812\n",
            "Epoch 483/500\n",
            "26/26 - 0s - 7ms/step - loss: 0.6707 - mean_absolute_error: 0.5754 - val_loss: 12.1552 - val_mean_absolute_error: 2.4270\n",
            "Epoch 484/500\n",
            "26/26 - 0s - 8ms/step - loss: 0.7001 - mean_absolute_error: 0.6045 - val_loss: 12.2448 - val_mean_absolute_error: 2.4062\n",
            "Epoch 485/500\n",
            "26/26 - 0s - 11ms/step - loss: 0.7449 - mean_absolute_error: 0.6289 - val_loss: 12.3998 - val_mean_absolute_error: 2.3913\n",
            "Epoch 486/500\n",
            "26/26 - 0s - 8ms/step - loss: 0.8732 - mean_absolute_error: 0.6474 - val_loss: 12.9987 - val_mean_absolute_error: 2.5196\n",
            "Epoch 487/500\n",
            "26/26 - 0s - 9ms/step - loss: 0.9800 - mean_absolute_error: 0.7420 - val_loss: 12.3561 - val_mean_absolute_error: 2.4975\n",
            "Epoch 488/500\n",
            "26/26 - 0s - 5ms/step - loss: 0.8346 - mean_absolute_error: 0.6487 - val_loss: 12.0919 - val_mean_absolute_error: 2.3858\n",
            "Epoch 489/500\n",
            "26/26 - 0s - 5ms/step - loss: 0.6370 - mean_absolute_error: 0.5616 - val_loss: 12.4483 - val_mean_absolute_error: 2.4171\n",
            "Epoch 490/500\n",
            "26/26 - 0s - 5ms/step - loss: 0.7595 - mean_absolute_error: 0.6184 - val_loss: 11.9177 - val_mean_absolute_error: 2.3637\n",
            "Epoch 491/500\n",
            "26/26 - 0s - 5ms/step - loss: 0.8197 - mean_absolute_error: 0.6596 - val_loss: 12.2582 - val_mean_absolute_error: 2.3953\n",
            "Epoch 492/500\n",
            "26/26 - 0s - 5ms/step - loss: 0.6737 - mean_absolute_error: 0.5731 - val_loss: 12.5077 - val_mean_absolute_error: 2.4884\n",
            "Epoch 493/500\n",
            "26/26 - 0s - 5ms/step - loss: 0.7231 - mean_absolute_error: 0.6057 - val_loss: 12.0929 - val_mean_absolute_error: 2.4141\n",
            "Epoch 494/500\n",
            "26/26 - 0s - 5ms/step - loss: 0.7048 - mean_absolute_error: 0.6166 - val_loss: 12.6664 - val_mean_absolute_error: 2.4666\n",
            "Epoch 495/500\n",
            "26/26 - 0s - 5ms/step - loss: 0.8306 - mean_absolute_error: 0.6656 - val_loss: 12.4459 - val_mean_absolute_error: 2.3940\n",
            "Epoch 496/500\n",
            "26/26 - 0s - 5ms/step - loss: 0.7366 - mean_absolute_error: 0.6352 - val_loss: 12.1041 - val_mean_absolute_error: 2.4179\n",
            "Epoch 497/500\n",
            "26/26 - 0s - 6ms/step - loss: 0.6965 - mean_absolute_error: 0.6089 - val_loss: 12.3961 - val_mean_absolute_error: 2.4064\n",
            "Epoch 498/500\n",
            "26/26 - 0s - 5ms/step - loss: 0.6570 - mean_absolute_error: 0.5685 - val_loss: 12.0641 - val_mean_absolute_error: 2.3734\n",
            "Epoch 499/500\n",
            "26/26 - 0s - 6ms/step - loss: 0.7928 - mean_absolute_error: 0.6538 - val_loss: 12.5954 - val_mean_absolute_error: 2.4454\n",
            "Epoch 500/500\n",
            "26/26 - 0s - 11ms/step - loss: 0.6760 - mean_absolute_error: 0.5787 - val_loss: 12.6754 - val_mean_absolute_error: 2.4174\n"
          ]
        }
      ],
      "source": [
        "import tensorflow as tf\n",
        "from tensorflow import keras\n",
        "from tensorflow.keras.models import Sequential\n",
        "from tensorflow.keras.layers import Dense\n",
        "import numpy as np\n",
        "import logging\n",
        "tf.get_logger().setLevel(logging.ERROR)\n",
        "EPOCHS = 500\n",
        "BATCH_SIZE = 16\n",
        "# Read and standardize the data.\n",
        "boston_housing = keras.datasets.boston_housing\n",
        "(raw_x_train, y_train), (raw_x_test,\n",
        "y_test) = boston_housing.load_data()\n",
        "x_mean = np.mean(raw_x_train, axis=0)\n",
        "x_stddev = np.std(raw_x_train, axis=0)\n",
        "x_train =(raw_x_train - x_mean) / x_stddev\n",
        "x_test =(raw_x_test - x_mean) / x_stddev\n",
        "# Create and train model.\n",
        "model = Sequential()\n",
        "model.add(Dense(64, activation='relu', input_shape=[13]))\n",
        "model.add(Dense(64, activation='relu')) # We are doing DL!\n",
        "model.add(Dense(1, activation='linear'))\n",
        "model.compile(loss='mean_squared_error', optimizer='adam',\n",
        "metrics =['mean_absolute_error'])\n",
        "model.summary()\n",
        "history = model.fit(x_train, y_train, validation_data=(\n",
        "x_test, y_test), epochs=EPOCHS, batch_size=BATCH_SIZE,\n",
        "verbose=2, shuffle=True)\n"
      ]
    },
    {
      "cell_type": "code",
      "execution_count": null,
      "metadata": {
        "colab": {
          "base_uri": "https://localhost:8080/"
        },
        "id": "svQm-bzNfcM3",
        "outputId": "0f3ec57d-4d6e-4055-fa75-f8aa76aa6121"
      },
      "outputs": [
        {
          "name": "stdout",
          "output_type": "stream",
          "text": [
            "\u001b[1m4/4\u001b[0m \u001b[32m━━━━━━━━━━━━━━━━━━━━\u001b[0m\u001b[37m\u001b[0m \u001b[1m0s\u001b[0m 26ms/step\n",
            "predictions:  [9.094867] , true value:  7.2\n",
            "predictions:  [18.966564] , true value:  18.8\n",
            "predictions:  [20.033842] , true value:  19.0\n",
            "predictions:  [32.25967] , true value:  27.0\n"
          ]
        }
      ],
      "source": [
        "predictions=model.predict(x_test)\n",
        "for i in range(0,4):\n",
        "  print('predictions: ',predictions[i],\n",
        "        ', true value: ',y_test[i])"
      ]
    },
    {
      "cell_type": "code",
      "execution_count": null,
      "metadata": {
        "id": "7MK86Sx-oPPc"
      },
      "outputs": [],
      "source": [
        "ex 4"
      ]
    },
    {
      "cell_type": "code",
      "execution_count": null,
      "metadata": {
        "colab": {
          "base_uri": "https://localhost:8080/"
        },
        "id": "x0LB5fFloQaT",
        "outputId": "7fd0ed8e-3a9d-4d84-a80c-64d3538806c1"
      },
      "outputs": [
        {
          "name": "stdout",
          "output_type": "stream",
          "text": [
            "Downloading data from https://www.cs.toronto.edu/~kriz/cifar-10-python.tar.gz\n",
            "\u001b[1m170498071/170498071\u001b[0m \u001b[32m━━━━━━━━━━━━━━━━━━━━\u001b[0m\u001b[37m\u001b[0m \u001b[1m2s\u001b[0m 0us/step\n"
          ]
        }
      ],
      "source": [
        "import tensorflow as tf\n",
        "from tensorflow import keras\n",
        "from tensorflow.keras.utils import to_categorical\n",
        "from tensorflow.keras.models import Sequential\n",
        "from tensorflow.keras.layers import Dense\n",
        "from tensorflow.keras.layers import Flatten\n",
        "from tensorflow.keras.layers import Conv2D\n",
        "import numpy as np\n",
        "import logging\n",
        "tf.get_logger().setLevel(logging.ERROR)\n",
        "EPOCHS = 128\n",
        "BATCH_SIZE = 32\n",
        "# Load dataset.\n",
        "cifar_dataset = keras.datasets.cifar10\n",
        "(train_images, train_labels), (test_images,\n",
        "test_labels) = cifar_dataset.load_data()\n",
        "# Standardize dataset.\n",
        "mean = np.mean(train_images)\n",
        "stddev = np.std(train_images)\n",
        "train_images = (train_images - mean) / stddev\n",
        "test_images = (test_images - mean) / stddev"
      ]
    },
    {
      "cell_type": "code",
      "execution_count": null,
      "metadata": {
        "colab": {
          "base_uri": "https://localhost:8080/"
        },
        "id": "FHVZvIX5rF1r",
        "outputId": "f97c8c48-06dd-4efe-944e-dbf6f4364662"
      },
      "outputs": [
        {
          "name": "stdout",
          "output_type": "stream",
          "text": [
            "mean:  120.70756512369792\n",
            "stddev:  64.1500758911213\n"
          ]
        }
      ],
      "source": [
        "print('mean: ', mean)\n",
        "print('stddev: ', stddev)\n",
        "# Change labels to one-hot.\n",
        "train_labels = to_categorical(train_labels,\n",
        "num_classes=10)\n",
        "test_labels = to_categorical(test_labels,\n",
        "num_classes=10)"
      ]
    },
    {
      "cell_type": "code",
      "execution_count": null,
      "metadata": {
        "colab": {
          "background_save": true,
          "base_uri": "https://localhost:8080/",
          "height": 1000
        },
        "id": "ARuIckq8rHk7",
        "outputId": "0877190b-d1ee-4eba-f467-0522e338ae44"
      },
      "outputs": [
        {
          "name": "stderr",
          "output_type": "stream",
          "text": [
            "/usr/local/lib/python3.11/dist-packages/keras/src/layers/convolutional/base_conv.py:107: UserWarning: Do not pass an `input_shape`/`input_dim` argument to a layer. When using Sequential models, prefer using an `Input(shape)` object as the first layer in the model instead.\n",
            "  super().__init__(activity_regularizer=activity_regularizer, **kwargs)\n"
          ]
        },
        {
          "data": {
            "text/html": [
              "<pre style=\"white-space:pre;overflow-x:auto;line-height:normal;font-family:Menlo,'DejaVu Sans Mono',consolas,'Courier New',monospace\"><span style=\"font-weight: bold\">Model: \"sequential\"</span>\n",
              "</pre>\n"
            ],
            "text/plain": [
              "\u001b[1mModel: \"sequential\"\u001b[0m\n"
            ]
          },
          "metadata": {},
          "output_type": "display_data"
        },
        {
          "data": {
            "text/html": [
              "<pre style=\"white-space:pre;overflow-x:auto;line-height:normal;font-family:Menlo,'DejaVu Sans Mono',consolas,'Courier New',monospace\">┏━━━━━━━━━━━━━━━━━━━━━━━━━━━━━━━━━┳━━━━━━━━━━━━━━━━━━━━━━━━┳━━━━━━━━━━━━━━━┓\n",
              "┃<span style=\"font-weight: bold\"> Layer (type)                    </span>┃<span style=\"font-weight: bold\"> Output Shape           </span>┃<span style=\"font-weight: bold\">       Param # </span>┃\n",
              "┡━━━━━━━━━━━━━━━━━━━━━━━━━━━━━━━━━╇━━━━━━━━━━━━━━━━━━━━━━━━╇━━━━━━━━━━━━━━━┩\n",
              "│ conv2d (<span style=\"color: #0087ff; text-decoration-color: #0087ff\">Conv2D</span>)                 │ (<span style=\"color: #00d7ff; text-decoration-color: #00d7ff\">None</span>, <span style=\"color: #00af00; text-decoration-color: #00af00\">16</span>, <span style=\"color: #00af00; text-decoration-color: #00af00\">16</span>, <span style=\"color: #00af00; text-decoration-color: #00af00\">64</span>)     │         <span style=\"color: #00af00; text-decoration-color: #00af00\">4,864</span> │\n",
              "├─────────────────────────────────┼────────────────────────┼───────────────┤\n",
              "│ conv2d_1 (<span style=\"color: #0087ff; text-decoration-color: #0087ff\">Conv2D</span>)               │ (<span style=\"color: #00d7ff; text-decoration-color: #00d7ff\">None</span>, <span style=\"color: #00af00; text-decoration-color: #00af00\">8</span>, <span style=\"color: #00af00; text-decoration-color: #00af00\">8</span>, <span style=\"color: #00af00; text-decoration-color: #00af00\">64</span>)       │        <span style=\"color: #00af00; text-decoration-color: #00af00\">36,928</span> │\n",
              "├─────────────────────────────────┼────────────────────────┼───────────────┤\n",
              "│ flatten (<span style=\"color: #0087ff; text-decoration-color: #0087ff\">Flatten</span>)               │ (<span style=\"color: #00d7ff; text-decoration-color: #00d7ff\">None</span>, <span style=\"color: #00af00; text-decoration-color: #00af00\">4096</span>)           │             <span style=\"color: #00af00; text-decoration-color: #00af00\">0</span> │\n",
              "├─────────────────────────────────┼────────────────────────┼───────────────┤\n",
              "│ dense (<span style=\"color: #0087ff; text-decoration-color: #0087ff\">Dense</span>)                   │ (<span style=\"color: #00d7ff; text-decoration-color: #00d7ff\">None</span>, <span style=\"color: #00af00; text-decoration-color: #00af00\">10</span>)             │        <span style=\"color: #00af00; text-decoration-color: #00af00\">40,970</span> │\n",
              "└─────────────────────────────────┴────────────────────────┴───────────────┘\n",
              "</pre>\n"
            ],
            "text/plain": [
              "┏━━━━━━━━━━━━━━━━━━━━━━━━━━━━━━━━━┳━━━━━━━━━━━━━━━━━━━━━━━━┳━━━━━━━━━━━━━━━┓\n",
              "┃\u001b[1m \u001b[0m\u001b[1mLayer (type)                   \u001b[0m\u001b[1m \u001b[0m┃\u001b[1m \u001b[0m\u001b[1mOutput Shape          \u001b[0m\u001b[1m \u001b[0m┃\u001b[1m \u001b[0m\u001b[1m      Param #\u001b[0m\u001b[1m \u001b[0m┃\n",
              "┡━━━━━━━━━━━━━━━━━━━━━━━━━━━━━━━━━╇━━━━━━━━━━━━━━━━━━━━━━━━╇━━━━━━━━━━━━━━━┩\n",
              "│ conv2d (\u001b[38;5;33mConv2D\u001b[0m)                 │ (\u001b[38;5;45mNone\u001b[0m, \u001b[38;5;34m16\u001b[0m, \u001b[38;5;34m16\u001b[0m, \u001b[38;5;34m64\u001b[0m)     │         \u001b[38;5;34m4,864\u001b[0m │\n",
              "├─────────────────────────────────┼────────────────────────┼───────────────┤\n",
              "│ conv2d_1 (\u001b[38;5;33mConv2D\u001b[0m)               │ (\u001b[38;5;45mNone\u001b[0m, \u001b[38;5;34m8\u001b[0m, \u001b[38;5;34m8\u001b[0m, \u001b[38;5;34m64\u001b[0m)       │        \u001b[38;5;34m36,928\u001b[0m │\n",
              "├─────────────────────────────────┼────────────────────────┼───────────────┤\n",
              "│ flatten (\u001b[38;5;33mFlatten\u001b[0m)               │ (\u001b[38;5;45mNone\u001b[0m, \u001b[38;5;34m4096\u001b[0m)           │             \u001b[38;5;34m0\u001b[0m │\n",
              "├─────────────────────────────────┼────────────────────────┼───────────────┤\n",
              "│ dense (\u001b[38;5;33mDense\u001b[0m)                   │ (\u001b[38;5;45mNone\u001b[0m, \u001b[38;5;34m10\u001b[0m)             │        \u001b[38;5;34m40,970\u001b[0m │\n",
              "└─────────────────────────────────┴────────────────────────┴───────────────┘\n"
            ]
          },
          "metadata": {},
          "output_type": "display_data"
        },
        {
          "data": {
            "text/html": [
              "<pre style=\"white-space:pre;overflow-x:auto;line-height:normal;font-family:Menlo,'DejaVu Sans Mono',consolas,'Courier New',monospace\"><span style=\"font-weight: bold\"> Total params: </span><span style=\"color: #00af00; text-decoration-color: #00af00\">82,762</span> (323.29 KB)\n",
              "</pre>\n"
            ],
            "text/plain": [
              "\u001b[1m Total params: \u001b[0m\u001b[38;5;34m82,762\u001b[0m (323.29 KB)\n"
            ]
          },
          "metadata": {},
          "output_type": "display_data"
        },
        {
          "data": {
            "text/html": [
              "<pre style=\"white-space:pre;overflow-x:auto;line-height:normal;font-family:Menlo,'DejaVu Sans Mono',consolas,'Courier New',monospace\"><span style=\"font-weight: bold\"> Trainable params: </span><span style=\"color: #00af00; text-decoration-color: #00af00\">82,762</span> (323.29 KB)\n",
              "</pre>\n"
            ],
            "text/plain": [
              "\u001b[1m Trainable params: \u001b[0m\u001b[38;5;34m82,762\u001b[0m (323.29 KB)\n"
            ]
          },
          "metadata": {},
          "output_type": "display_data"
        },
        {
          "data": {
            "text/html": [
              "<pre style=\"white-space:pre;overflow-x:auto;line-height:normal;font-family:Menlo,'DejaVu Sans Mono',consolas,'Courier New',monospace\"><span style=\"font-weight: bold\"> Non-trainable params: </span><span style=\"color: #00af00; text-decoration-color: #00af00\">0</span> (0.00 B)\n",
              "</pre>\n"
            ],
            "text/plain": [
              "\u001b[1m Non-trainable params: \u001b[0m\u001b[38;5;34m0\u001b[0m (0.00 B)\n"
            ]
          },
          "metadata": {},
          "output_type": "display_data"
        },
        {
          "name": "stdout",
          "output_type": "stream",
          "text": [
            "Epoch 1/128\n",
            "1563/1563 - 42s - 27ms/step - accuracy: 0.5040 - loss: 1.4036 - val_accuracy: 0.5911 - val_loss: 1.1638\n",
            "Epoch 2/128\n",
            "1563/1563 - 44s - 28ms/step - accuracy: 0.6300 - loss: 1.0588 - val_accuracy: 0.6290 - val_loss: 1.0745\n",
            "Epoch 3/128\n",
            "1563/1563 - 84s - 54ms/step - accuracy: 0.6831 - loss: 0.9093 - val_accuracy: 0.6334 - val_loss: 1.0613\n",
            "Epoch 4/128\n",
            "1563/1563 - 78s - 50ms/step - accuracy: 0.7167 - loss: 0.8155 - val_accuracy: 0.6495 - val_loss: 1.0414\n",
            "Epoch 5/128\n",
            "1563/1563 - 81s - 52ms/step - accuracy: 0.7430 - loss: 0.7398 - val_accuracy: 0.6465 - val_loss: 1.0653\n",
            "Epoch 6/128\n",
            "1563/1563 - 43s - 27ms/step - accuracy: 0.7682 - loss: 0.6667 - val_accuracy: 0.6448 - val_loss: 1.0958\n",
            "Epoch 7/128\n",
            "1563/1563 - 80s - 51ms/step - accuracy: 0.7870 - loss: 0.6103 - val_accuracy: 0.6495 - val_loss: 1.1516\n",
            "Epoch 8/128\n",
            "1563/1563 - 42s - 27ms/step - accuracy: 0.8073 - loss: 0.5505 - val_accuracy: 0.6460 - val_loss: 1.1902\n",
            "Epoch 9/128\n",
            "1563/1563 - 82s - 53ms/step - accuracy: 0.8228 - loss: 0.5021 - val_accuracy: 0.6456 - val_loss: 1.2852\n",
            "Epoch 10/128\n",
            "1563/1563 - 79s - 51ms/step - accuracy: 0.8365 - loss: 0.4631 - val_accuracy: 0.6311 - val_loss: 1.3697\n",
            "Epoch 11/128\n",
            "1563/1563 - 40s - 26ms/step - accuracy: 0.8473 - loss: 0.4273 - val_accuracy: 0.6390 - val_loss: 1.4054\n",
            "Epoch 12/128\n",
            "1563/1563 - 48s - 31ms/step - accuracy: 0.8594 - loss: 0.3935 - val_accuracy: 0.6321 - val_loss: 1.4838\n",
            "Epoch 13/128\n",
            "1563/1563 - 43s - 27ms/step - accuracy: 0.8707 - loss: 0.3627 - val_accuracy: 0.6348 - val_loss: 1.5628\n",
            "Epoch 14/128\n",
            "1563/1563 - 84s - 54ms/step - accuracy: 0.8788 - loss: 0.3386 - val_accuracy: 0.6267 - val_loss: 1.6718\n",
            "Epoch 15/128\n",
            "1563/1563 - 77s - 49ms/step - accuracy: 0.8871 - loss: 0.3117 - val_accuracy: 0.6286 - val_loss: 1.7511\n",
            "Epoch 16/128\n",
            "1563/1563 - 43s - 28ms/step - accuracy: 0.8930 - loss: 0.2964 - val_accuracy: 0.6320 - val_loss: 1.8596\n",
            "Epoch 17/128\n",
            "1563/1563 - 44s - 28ms/step - accuracy: 0.8996 - loss: 0.2796 - val_accuracy: 0.6249 - val_loss: 1.9573\n",
            "Epoch 18/128\n",
            "1563/1563 - 81s - 52ms/step - accuracy: 0.9061 - loss: 0.2575 - val_accuracy: 0.6232 - val_loss: 2.0607\n",
            "Epoch 19/128\n",
            "1563/1563 - 82s - 53ms/step - accuracy: 0.9104 - loss: 0.2443 - val_accuracy: 0.6226 - val_loss: 2.1355\n",
            "Epoch 20/128\n",
            "1563/1563 - 41s - 26ms/step - accuracy: 0.9165 - loss: 0.2288 - val_accuracy: 0.6235 - val_loss: 2.2704\n",
            "Epoch 21/128\n",
            "1563/1563 - 44s - 28ms/step - accuracy: 0.9184 - loss: 0.2262 - val_accuracy: 0.6215 - val_loss: 2.4272\n",
            "Epoch 22/128\n",
            "1563/1563 - 81s - 52ms/step - accuracy: 0.9266 - loss: 0.2054 - val_accuracy: 0.6232 - val_loss: 2.4665\n",
            "Epoch 23/128\n",
            "1563/1563 - 81s - 52ms/step - accuracy: 0.9275 - loss: 0.1996 - val_accuracy: 0.6189 - val_loss: 2.5983\n",
            "Epoch 24/128\n",
            "1563/1563 - 82s - 53ms/step - accuracy: 0.9299 - loss: 0.1965 - val_accuracy: 0.6180 - val_loss: 2.7018\n",
            "Epoch 25/128\n",
            "1563/1563 - 80s - 51ms/step - accuracy: 0.9321 - loss: 0.1903 - val_accuracy: 0.6114 - val_loss: 2.8351\n",
            "Epoch 26/128\n",
            "1563/1563 - 40s - 26ms/step - accuracy: 0.9337 - loss: 0.1873 - val_accuracy: 0.6163 - val_loss: 2.8573\n",
            "Epoch 27/128\n",
            "1563/1563 - 44s - 28ms/step - accuracy: 0.9367 - loss: 0.1768 - val_accuracy: 0.6147 - val_loss: 3.0322\n",
            "Epoch 28/128\n",
            "1563/1563 - 83s - 53ms/step - accuracy: 0.9378 - loss: 0.1760 - val_accuracy: 0.6237 - val_loss: 3.0329\n",
            "Epoch 29/128\n",
            "1563/1563 - 43s - 28ms/step - accuracy: 0.9398 - loss: 0.1699 - val_accuracy: 0.6238 - val_loss: 3.1404\n",
            "Epoch 30/128\n",
            "1563/1563 - 82s - 52ms/step - accuracy: 0.9421 - loss: 0.1655 - val_accuracy: 0.6143 - val_loss: 3.2068\n",
            "Epoch 31/128\n",
            "1563/1563 - 82s - 53ms/step - accuracy: 0.9466 - loss: 0.1543 - val_accuracy: 0.6214 - val_loss: 3.4432\n",
            "Epoch 32/128\n",
            "1563/1563 - 39s - 25ms/step - accuracy: 0.9418 - loss: 0.1660 - val_accuracy: 0.6185 - val_loss: 3.4709\n",
            "Epoch 33/128\n",
            "1563/1563 - 40s - 26ms/step - accuracy: 0.9476 - loss: 0.1537 - val_accuracy: 0.6104 - val_loss: 3.5870\n",
            "Epoch 34/128\n",
            "1563/1563 - 41s - 26ms/step - accuracy: 0.9458 - loss: 0.1532 - val_accuracy: 0.6190 - val_loss: 3.7129\n",
            "Epoch 35/128\n",
            "1563/1563 - 83s - 53ms/step - accuracy: 0.9479 - loss: 0.1506 - val_accuracy: 0.6174 - val_loss: 3.7574\n",
            "Epoch 36/128\n",
            "1563/1563 - 45s - 29ms/step - accuracy: 0.9482 - loss: 0.1508 - val_accuracy: 0.6176 - val_loss: 3.8979\n",
            "Epoch 37/128\n",
            "1563/1563 - 77s - 50ms/step - accuracy: 0.9524 - loss: 0.1433 - val_accuracy: 0.6114 - val_loss: 3.8946\n",
            "Epoch 38/128\n",
            "1563/1563 - 41s - 26ms/step - accuracy: 0.9497 - loss: 0.1524 - val_accuracy: 0.6148 - val_loss: 4.0230\n",
            "Epoch 39/128\n",
            "1563/1563 - 42s - 27ms/step - accuracy: 0.9517 - loss: 0.1485 - val_accuracy: 0.6127 - val_loss: 4.0741\n",
            "Epoch 40/128\n",
            "1563/1563 - 43s - 28ms/step - accuracy: 0.9522 - loss: 0.1455 - val_accuracy: 0.6057 - val_loss: 4.2210\n",
            "Epoch 41/128\n",
            "1563/1563 - 79s - 51ms/step - accuracy: 0.9546 - loss: 0.1404 - val_accuracy: 0.6192 - val_loss: 4.3345\n",
            "Epoch 42/128\n",
            "1563/1563 - 43s - 28ms/step - accuracy: 0.9553 - loss: 0.1419 - val_accuracy: 0.6134 - val_loss: 4.4054\n",
            "Epoch 43/128\n",
            "1563/1563 - 79s - 50ms/step - accuracy: 0.9526 - loss: 0.1488 - val_accuracy: 0.6160 - val_loss: 4.6157\n",
            "Epoch 44/128\n",
            "1563/1563 - 45s - 29ms/step - accuracy: 0.9568 - loss: 0.1353 - val_accuracy: 0.6084 - val_loss: 4.5228\n",
            "Epoch 45/128\n",
            "1563/1563 - 79s - 50ms/step - accuracy: 0.9553 - loss: 0.1417 - val_accuracy: 0.6133 - val_loss: 4.4878\n",
            "Epoch 46/128\n",
            "1563/1563 - 41s - 26ms/step - accuracy: 0.9566 - loss: 0.1394 - val_accuracy: 0.6185 - val_loss: 4.6614\n",
            "Epoch 47/128\n",
            "1563/1563 - 41s - 26ms/step - accuracy: 0.9567 - loss: 0.1381 - val_accuracy: 0.6138 - val_loss: 4.7645\n",
            "Epoch 48/128\n",
            "1563/1563 - 44s - 28ms/step - accuracy: 0.9571 - loss: 0.1361 - val_accuracy: 0.6086 - val_loss: 4.8443\n",
            "Epoch 49/128\n",
            "1563/1563 - 79s - 50ms/step - accuracy: 0.9569 - loss: 0.1372 - val_accuracy: 0.6100 - val_loss: 5.1545\n",
            "Epoch 50/128\n",
            "1563/1563 - 42s - 27ms/step - accuracy: 0.9599 - loss: 0.1329 - val_accuracy: 0.6047 - val_loss: 5.1515\n",
            "Epoch 51/128\n",
            "1563/1563 - 43s - 27ms/step - accuracy: 0.9608 - loss: 0.1287 - val_accuracy: 0.6151 - val_loss: 5.1849\n",
            "Epoch 52/128\n",
            "1563/1563 - 43s - 27ms/step - accuracy: 0.9587 - loss: 0.1392 - val_accuracy: 0.6098 - val_loss: 5.1355\n",
            "Epoch 53/128\n",
            "1563/1563 - 42s - 27ms/step - accuracy: 0.9585 - loss: 0.1446 - val_accuracy: 0.6114 - val_loss: 5.3313\n",
            "Epoch 54/128\n",
            "1563/1563 - 83s - 53ms/step - accuracy: 0.9586 - loss: 0.1407 - val_accuracy: 0.6144 - val_loss: 5.4733\n",
            "Epoch 55/128\n",
            "1563/1563 - 82s - 52ms/step - accuracy: 0.9622 - loss: 0.1259 - val_accuracy: 0.6142 - val_loss: 5.6593\n",
            "Epoch 56/128\n",
            "1563/1563 - 80s - 51ms/step - accuracy: 0.9618 - loss: 0.1339 - val_accuracy: 0.6132 - val_loss: 5.7598\n",
            "Epoch 57/128\n",
            "1563/1563 - 84s - 54ms/step - accuracy: 0.9596 - loss: 0.1430 - val_accuracy: 0.6155 - val_loss: 5.8792\n",
            "Epoch 58/128\n",
            "1563/1563 - 48s - 31ms/step - accuracy: 0.9619 - loss: 0.1312 - val_accuracy: 0.6092 - val_loss: 5.8133\n",
            "Epoch 59/128\n",
            "1563/1563 - 75s - 48ms/step - accuracy: 0.9613 - loss: 0.1396 - val_accuracy: 0.6109 - val_loss: 5.9727\n",
            "Epoch 60/128\n",
            "1563/1563 - 85s - 54ms/step - accuracy: 0.9620 - loss: 0.1382 - val_accuracy: 0.6194 - val_loss: 6.1209\n",
            "Epoch 61/128\n",
            "1563/1563 - 80s - 51ms/step - accuracy: 0.9632 - loss: 0.1381 - val_accuracy: 0.6131 - val_loss: 6.1847\n",
            "Epoch 62/128\n",
            "1563/1563 - 80s - 51ms/step - accuracy: 0.9625 - loss: 0.1360 - val_accuracy: 0.6131 - val_loss: 6.3200\n",
            "Epoch 63/128\n",
            "1563/1563 - 44s - 28ms/step - accuracy: 0.9649 - loss: 0.1247 - val_accuracy: 0.6136 - val_loss: 6.3461\n",
            "Epoch 64/128\n",
            "1563/1563 - 82s - 53ms/step - accuracy: 0.9630 - loss: 0.1420 - val_accuracy: 0.6121 - val_loss: 6.4493\n",
            "Epoch 65/128\n",
            "1563/1563 - 81s - 52ms/step - accuracy: 0.9617 - loss: 0.1429 - val_accuracy: 0.6141 - val_loss: 6.5174\n",
            "Epoch 66/128\n",
            "1563/1563 - 80s - 51ms/step - accuracy: 0.9656 - loss: 0.1291 - val_accuracy: 0.6158 - val_loss: 6.5479\n",
            "Epoch 67/128\n",
            "1563/1563 - 43s - 28ms/step - accuracy: 0.9656 - loss: 0.1247 - val_accuracy: 0.6093 - val_loss: 6.6555\n",
            "Epoch 68/128\n",
            "1563/1563 - 79s - 51ms/step - accuracy: 0.9623 - loss: 0.1425 - val_accuracy: 0.6186 - val_loss: 6.8017\n",
            "Epoch 69/128\n",
            "1563/1563 - 44s - 28ms/step - accuracy: 0.9640 - loss: 0.1342 - val_accuracy: 0.6108 - val_loss: 6.8289\n",
            "Epoch 70/128\n",
            "1563/1563 - 78s - 50ms/step - accuracy: 0.9670 - loss: 0.1307 - val_accuracy: 0.6119 - val_loss: 6.9774\n",
            "Epoch 71/128\n",
            "1563/1563 - 42s - 27ms/step - accuracy: 0.9652 - loss: 0.1375 - val_accuracy: 0.6110 - val_loss: 7.0064\n",
            "Epoch 72/128\n",
            "1563/1563 - 43s - 28ms/step - accuracy: 0.9656 - loss: 0.1381 - val_accuracy: 0.6185 - val_loss: 7.1559\n",
            "Epoch 73/128\n",
            "1563/1563 - 79s - 51ms/step - accuracy: 0.9657 - loss: 0.1382 - val_accuracy: 0.6096 - val_loss: 7.1731\n",
            "Epoch 74/128\n",
            "1563/1563 - 44s - 28ms/step - accuracy: 0.9668 - loss: 0.1326 - val_accuracy: 0.6206 - val_loss: 7.4793\n",
            "Epoch 75/128\n",
            "1563/1563 - 80s - 51ms/step - accuracy: 0.9671 - loss: 0.1367 - val_accuracy: 0.6119 - val_loss: 7.4314\n",
            "Epoch 76/128\n",
            "1563/1563 - 40s - 25ms/step - accuracy: 0.9678 - loss: 0.1333 - val_accuracy: 0.6175 - val_loss: 7.7341\n",
            "Epoch 77/128\n",
            "1563/1563 - 43s - 28ms/step - accuracy: 0.9666 - loss: 0.1398 - val_accuracy: 0.6188 - val_loss: 7.6700\n",
            "Epoch 78/128\n",
            "1563/1563 - 80s - 51ms/step - accuracy: 0.9695 - loss: 0.1254 - val_accuracy: 0.6140 - val_loss: 7.7691\n",
            "Epoch 79/128\n",
            "1563/1563 - 83s - 53ms/step - accuracy: 0.9674 - loss: 0.1339 - val_accuracy: 0.6136 - val_loss: 8.0492\n",
            "Epoch 80/128\n",
            "1563/1563 - 39s - 25ms/step - accuracy: 0.9678 - loss: 0.1384 - val_accuracy: 0.6124 - val_loss: 7.8955\n",
            "Epoch 81/128\n",
            "1563/1563 - 44s - 28ms/step - accuracy: 0.9683 - loss: 0.1359 - val_accuracy: 0.6147 - val_loss: 8.0436\n",
            "Epoch 82/128\n",
            "1563/1563 - 40s - 26ms/step - accuracy: 0.9706 - loss: 0.1245 - val_accuracy: 0.6163 - val_loss: 8.1750\n",
            "Epoch 83/128\n",
            "1563/1563 - 43s - 28ms/step - accuracy: 0.9668 - loss: 0.1415 - val_accuracy: 0.6125 - val_loss: 8.0130\n",
            "Epoch 84/128\n",
            "1563/1563 - 81s - 52ms/step - accuracy: 0.9694 - loss: 0.1307 - val_accuracy: 0.6141 - val_loss: 8.3710\n",
            "Epoch 85/128\n",
            "1563/1563 - 82s - 52ms/step - accuracy: 0.9669 - loss: 0.1468 - val_accuracy: 0.6116 - val_loss: 8.4016\n",
            "Epoch 86/128\n",
            "1563/1563 - 80s - 51ms/step - accuracy: 0.9705 - loss: 0.1284 - val_accuracy: 0.6164 - val_loss: 8.5903\n",
            "Epoch 87/128\n",
            "1563/1563 - 42s - 27ms/step - accuracy: 0.9682 - loss: 0.1442 - val_accuracy: 0.6158 - val_loss: 8.5265\n",
            "Epoch 88/128\n",
            "1563/1563 - 40s - 25ms/step - accuracy: 0.9714 - loss: 0.1270 - val_accuracy: 0.6095 - val_loss: 8.6278\n",
            "Epoch 89/128\n",
            "1563/1563 - 44s - 28ms/step - accuracy: 0.9694 - loss: 0.1396 - val_accuracy: 0.6027 - val_loss: 8.7158\n",
            "Epoch 90/128\n",
            "1563/1563 - 82s - 52ms/step - accuracy: 0.9703 - loss: 0.1349 - val_accuracy: 0.6080 - val_loss: 8.8162\n",
            "Epoch 91/128\n",
            "1563/1563 - 80s - 51ms/step - accuracy: 0.9676 - loss: 0.1436 - val_accuracy: 0.6074 - val_loss: 8.9680\n",
            "Epoch 92/128\n",
            "1563/1563 - 41s - 26ms/step - accuracy: 0.9707 - loss: 0.1283 - val_accuracy: 0.6090 - val_loss: 8.9424\n",
            "Epoch 93/128\n",
            "1563/1563 - 40s - 26ms/step - accuracy: 0.9696 - loss: 0.1414 - val_accuracy: 0.6044 - val_loss: 9.4959\n",
            "Epoch 94/128\n",
            "1563/1563 - 40s - 26ms/step - accuracy: 0.9714 - loss: 0.1302 - val_accuracy: 0.6134 - val_loss: 9.2274\n",
            "Epoch 95/128\n",
            "1563/1563 - 41s - 26ms/step - accuracy: 0.9719 - loss: 0.1324 - val_accuracy: 0.6126 - val_loss: 9.4765\n",
            "Epoch 96/128\n",
            "1563/1563 - 41s - 26ms/step - accuracy: 0.9712 - loss: 0.1371 - val_accuracy: 0.6145 - val_loss: 9.7069\n",
            "Epoch 97/128\n",
            "1563/1563 - 43s - 28ms/step - accuracy: 0.9716 - loss: 0.1390 - val_accuracy: 0.6137 - val_loss: 9.6611\n",
            "Epoch 98/128\n",
            "1563/1563 - 80s - 51ms/step - accuracy: 0.9711 - loss: 0.1461 - val_accuracy: 0.6155 - val_loss: 9.6074\n",
            "Epoch 99/128\n",
            "1563/1563 - 43s - 28ms/step - accuracy: 0.9712 - loss: 0.1386 - val_accuracy: 0.6070 - val_loss: 10.0248\n",
            "Epoch 100/128\n",
            "1563/1563 - 82s - 52ms/step - accuracy: 0.9702 - loss: 0.1558 - val_accuracy: 0.6139 - val_loss: 9.9993\n",
            "Epoch 101/128\n",
            "1563/1563 - 78s - 50ms/step - accuracy: 0.9731 - loss: 0.1325 - val_accuracy: 0.6033 - val_loss: 10.1775\n",
            "Epoch 102/128\n",
            "1563/1563 - 41s - 26ms/step - accuracy: 0.9740 - loss: 0.1323 - val_accuracy: 0.6070 - val_loss: 10.2069\n",
            "Epoch 103/128\n",
            "1563/1563 - 42s - 27ms/step - accuracy: 0.9708 - loss: 0.1488 - val_accuracy: 0.6124 - val_loss: 10.2129\n",
            "Epoch 104/128\n",
            "1563/1563 - 42s - 27ms/step - accuracy: 0.9734 - loss: 0.1299 - val_accuracy: 0.6139 - val_loss: 10.2820\n",
            "Epoch 105/128\n",
            "1563/1563 - 82s - 52ms/step - accuracy: 0.9730 - loss: 0.1361 - val_accuracy: 0.6134 - val_loss: 10.5357\n",
            "Epoch 106/128\n",
            "1563/1563 - 44s - 28ms/step - accuracy: 0.9727 - loss: 0.1477 - val_accuracy: 0.6110 - val_loss: 10.5847\n",
            "Epoch 107/128\n",
            "1563/1563 - 78s - 50ms/step - accuracy: 0.9722 - loss: 0.1395 - val_accuracy: 0.6134 - val_loss: 10.7510\n",
            "Epoch 108/128\n",
            "1563/1563 - 40s - 26ms/step - accuracy: 0.9737 - loss: 0.1320 - val_accuracy: 0.6124 - val_loss: 11.0033\n",
            "Epoch 109/128\n",
            "1563/1563 - 42s - 27ms/step - accuracy: 0.9712 - loss: 0.1547 - val_accuracy: 0.6094 - val_loss: 10.9083\n",
            "Epoch 110/128\n",
            "1563/1563 - 83s - 53ms/step - accuracy: 0.9765 - loss: 0.1256 - val_accuracy: 0.6147 - val_loss: 10.9566\n",
            "Epoch 111/128\n",
            "1563/1563 - 81s - 52ms/step - accuracy: 0.9734 - loss: 0.1443 - val_accuracy: 0.6116 - val_loss: 11.2643\n",
            "Epoch 112/128\n",
            "1563/1563 - 42s - 27ms/step - accuracy: 0.9737 - loss: 0.1476 - val_accuracy: 0.6103 - val_loss: 11.2368\n",
            "Epoch 113/128\n",
            "1563/1563 - 80s - 51ms/step - accuracy: 0.9755 - loss: 0.1311 - val_accuracy: 0.6181 - val_loss: 11.3037\n",
            "Epoch 114/128\n",
            "1563/1563 - 43s - 28ms/step - accuracy: 0.9741 - loss: 0.1331 - val_accuracy: 0.6108 - val_loss: 11.6803\n",
            "Epoch 115/128\n",
            "1563/1563 - 80s - 51ms/step - accuracy: 0.9746 - loss: 0.1358 - val_accuracy: 0.6111 - val_loss: 11.4804\n",
            "Epoch 116/128\n",
            "1563/1563 - 42s - 27ms/step - accuracy: 0.9746 - loss: 0.1403 - val_accuracy: 0.6143 - val_loss: 11.6204\n",
            "Epoch 117/128\n",
            "1563/1563 - 83s - 53ms/step - accuracy: 0.9741 - loss: 0.1491 - val_accuracy: 0.6125 - val_loss: 11.8533\n",
            "Epoch 118/128\n",
            "1563/1563 - 78s - 50ms/step - accuracy: 0.9753 - loss: 0.1459 - val_accuracy: 0.6095 - val_loss: 12.1310\n",
            "Epoch 119/128\n",
            "1563/1563 - 40s - 26ms/step - accuracy: 0.9739 - loss: 0.1504 - val_accuracy: 0.6223 - val_loss: 12.0136\n",
            "Epoch 120/128\n"
          ]
        }
      ],
      "source": [
        "model = Sequential()\n",
        "model.add(Conv2D(64, (5, 5), strides=(2,2),\n",
        "activation='relu', padding='same',\n",
        "input_shape=(32, 32, 3),kernel_initializer='he_normal',\n",
        "bias_initializer='zeros'))\n",
        "model.add(Conv2D(64, (3, 3), strides=(2,2),\n",
        "activation='relu', padding='same',\n",
        "kernel_initializer='he_normal',\n",
        "bias_initializer='zeros'))\n",
        "model.add(Flatten())\n",
        "model.add(Dense(10, activation='softmax',\n",
        "kernel_initializer='glorot_uniform',\n",
        "bias_initializer='zeros'))\n",
        "model.compile(loss='categorical_crossentropy',\n",
        "optimizer='adam', metrics =['accuracy'])\n",
        "model.summary()\n",
        "history = model.fit(\n",
        "train_images, train_labels, validation_data =\n",
        "(test_images, test_labels), epochs=EPOCHS,\n",
        "batch_size=BATCH_SIZE, verbose=2, shuffle=True)"
      ]
    },
    {
      "cell_type": "code",
      "execution_count": null,
      "metadata": {
        "colab": {
          "base_uri": "https://localhost:8080/",
          "height": 213
        },
        "id": "OfCUY2EZbc1D",
        "outputId": "fe9de821-9200-4f80-a56a-69562274ff96"
      },
      "outputs": [
        {
          "ename": "NameError",
          "evalue": "name 'model' is not defined",
          "output_type": "error",
          "traceback": [
            "\u001b[0;31m---------------------------------------------------------------------------\u001b[0m",
            "\u001b[0;31mNameError\u001b[0m                                 Traceback (most recent call last)",
            "\u001b[0;32m<ipython-input-1-91f42c827fcb>\u001b[0m in \u001b[0;36m<cell line: 0>\u001b[0;34m()\u001b[0m\n\u001b[0;32m----> 1\u001b[0;31m \u001b[0mpredictions\u001b[0m\u001b[0;34m=\u001b[0m\u001b[0mmodel\u001b[0m\u001b[0;34m.\u001b[0m\u001b[0mpredict\u001b[0m\u001b[0;34m(\u001b[0m\u001b[0mx_test\u001b[0m\u001b[0;34m)\u001b[0m\u001b[0;34m\u001b[0m\u001b[0;34m\u001b[0m\u001b[0m\n\u001b[0m\u001b[1;32m      2\u001b[0m \u001b[0;32mfor\u001b[0m \u001b[0mi\u001b[0m \u001b[0;32min\u001b[0m \u001b[0mrange\u001b[0m\u001b[0;34m(\u001b[0m\u001b[0;36m0\u001b[0m\u001b[0;34m,\u001b[0m\u001b[0;36m4\u001b[0m\u001b[0;34m)\u001b[0m\u001b[0;34m:\u001b[0m\u001b[0;34m\u001b[0m\u001b[0;34m\u001b[0m\u001b[0m\n\u001b[1;32m      3\u001b[0m   print('predictions: ',predictions[i],\n\u001b[1;32m      4\u001b[0m         ', true value: ',y_test[i])\n",
            "\u001b[0;31mNameError\u001b[0m: name 'model' is not defined"
          ]
        }
      ],
      "source": [
        "\n",
        "predictions=model.predict(x_test)\n",
        "for i in range(0,4):\n",
        "  print('predictions: ',predictions[i],\n",
        "        ', true value: ',y_test[i])"
      ]
    },
    {
      "cell_type": "code",
      "execution_count": null,
      "metadata": {
        "id": "tiUNe8pWevdU"
      },
      "outputs": [],
      "source": [
        "import pandas as pd\n",
        "import numpy as np\n",
        "import matplotlib.pyplot as plt\n",
        "\n",
        "from tensorflow.keras.models import Sequential\n",
        "from tensorflow.keras.layers import SimpleRNN, Dense\n",
        "from sklearn.preprocessing import MinMaxScaler\n"
      ]
    },
    {
      "cell_type": "code",
      "execution_count": null,
      "metadata": {
        "colab": {
          "base_uri": "https://localhost:8080/"
        },
        "id": "DkwU63rGfmFt",
        "outputId": "2b0e471b-8d62-4585-c32a-3a812d94de25"
      },
      "outputs": [
        {
          "name": "stdout",
          "output_type": "stream",
          "text": [
            "   Jan-1992  790\n",
            "0  Feb-1992  539\n",
            "1  Mar-1992  535\n",
            "2  Apr-1992  523\n",
            "3  May-1992  552\n",
            "4  Jun-1992  589\n"
          ]
        }
      ],
      "source": [
        "df = pd.read_csv('book_store_sales.csv')\n",
        "\n",
        "\n",
        "print(df.head())\n"
      ]
    },
    {
      "cell_type": "code",
      "execution_count": null,
      "metadata": {
        "colab": {
          "base_uri": "https://localhost:8080/",
          "height": 567
        },
        "id": "9hfg0uwmfocZ",
        "outputId": "f8a8c16a-d5a1-4222-aadb-c457a8522589"
      },
      "outputs": [
        {
          "ename": "KeyError",
          "evalue": "'sales'",
          "output_type": "error",
          "traceback": [
            "\u001b[0;31m---------------------------------------------------------------------------\u001b[0m",
            "\u001b[0;31mKeyError\u001b[0m                                  Traceback (most recent call last)",
            "\u001b[0;32m/usr/local/lib/python3.11/dist-packages/pandas/core/indexes/base.py\u001b[0m in \u001b[0;36mget_loc\u001b[0;34m(self, key)\u001b[0m\n\u001b[1;32m   3804\u001b[0m         \u001b[0;32mtry\u001b[0m\u001b[0;34m:\u001b[0m\u001b[0;34m\u001b[0m\u001b[0;34m\u001b[0m\u001b[0m\n\u001b[0;32m-> 3805\u001b[0;31m             \u001b[0;32mreturn\u001b[0m \u001b[0mself\u001b[0m\u001b[0;34m.\u001b[0m\u001b[0m_engine\u001b[0m\u001b[0;34m.\u001b[0m\u001b[0mget_loc\u001b[0m\u001b[0;34m(\u001b[0m\u001b[0mcasted_key\u001b[0m\u001b[0;34m)\u001b[0m\u001b[0;34m\u001b[0m\u001b[0;34m\u001b[0m\u001b[0m\n\u001b[0m\u001b[1;32m   3806\u001b[0m         \u001b[0;32mexcept\u001b[0m \u001b[0mKeyError\u001b[0m \u001b[0;32mas\u001b[0m \u001b[0merr\u001b[0m\u001b[0;34m:\u001b[0m\u001b[0;34m\u001b[0m\u001b[0;34m\u001b[0m\u001b[0m\n",
            "\u001b[0;32mindex.pyx\u001b[0m in \u001b[0;36mpandas._libs.index.IndexEngine.get_loc\u001b[0;34m()\u001b[0m\n",
            "\u001b[0;32mindex.pyx\u001b[0m in \u001b[0;36mpandas._libs.index.IndexEngine.get_loc\u001b[0;34m()\u001b[0m\n",
            "\u001b[0;32mpandas/_libs/hashtable_class_helper.pxi\u001b[0m in \u001b[0;36mpandas._libs.hashtable.PyObjectHashTable.get_item\u001b[0;34m()\u001b[0m\n",
            "\u001b[0;32mpandas/_libs/hashtable_class_helper.pxi\u001b[0m in \u001b[0;36mpandas._libs.hashtable.PyObjectHashTable.get_item\u001b[0;34m()\u001b[0m\n",
            "\u001b[0;31mKeyError\u001b[0m: 'sales'",
            "\nThe above exception was the direct cause of the following exception:\n",
            "\u001b[0;31mKeyError\u001b[0m                                  Traceback (most recent call last)",
            "\u001b[0;32m<ipython-input-7-691dbe3db1bc>\u001b[0m in \u001b[0;36m<cell line: 0>\u001b[0;34m()\u001b[0m\n\u001b[0;32m----> 1\u001b[0;31m \u001b[0msales_data\u001b[0m \u001b[0;34m=\u001b[0m \u001b[0mdf\u001b[0m\u001b[0;34m[\u001b[0m\u001b[0;34m'sales'\u001b[0m\u001b[0;34m]\u001b[0m\u001b[0;34m.\u001b[0m\u001b[0mvalues\u001b[0m\u001b[0;34m\u001b[0m\u001b[0;34m\u001b[0m\u001b[0m\n\u001b[0m\u001b[1;32m      2\u001b[0m \u001b[0msales_data\u001b[0m \u001b[0;34m=\u001b[0m \u001b[0msales_data\u001b[0m\u001b[0;34m.\u001b[0m\u001b[0mreshape\u001b[0m\u001b[0;34m(\u001b[0m\u001b[0;34m-\u001b[0m\u001b[0;36m1\u001b[0m\u001b[0;34m,\u001b[0m \u001b[0;36m1\u001b[0m\u001b[0;34m)\u001b[0m  \u001b[0;31m# reshape to 2D\u001b[0m\u001b[0;34m\u001b[0m\u001b[0;34m\u001b[0m\u001b[0m\n\u001b[1;32m      3\u001b[0m \u001b[0mscaler\u001b[0m \u001b[0;34m=\u001b[0m \u001b[0mMinMaxScaler\u001b[0m\u001b[0;34m(\u001b[0m\u001b[0;34m)\u001b[0m\u001b[0;34m\u001b[0m\u001b[0;34m\u001b[0m\u001b[0m\n\u001b[1;32m      4\u001b[0m \u001b[0mscaled_data\u001b[0m \u001b[0;34m=\u001b[0m \u001b[0mscaler\u001b[0m\u001b[0;34m.\u001b[0m\u001b[0mfit_transform\u001b[0m\u001b[0;34m(\u001b[0m\u001b[0msales_data\u001b[0m\u001b[0;34m)\u001b[0m\u001b[0;34m\u001b[0m\u001b[0;34m\u001b[0m\u001b[0m\n\u001b[1;32m      5\u001b[0m \u001b[0;32mdef\u001b[0m \u001b[0mcreate_sequences\u001b[0m\u001b[0;34m(\u001b[0m\u001b[0mdata\u001b[0m\u001b[0;34m,\u001b[0m \u001b[0mtime_steps\u001b[0m\u001b[0;34m=\u001b[0m\u001b[0;36m3\u001b[0m\u001b[0;34m)\u001b[0m\u001b[0;34m:\u001b[0m\u001b[0;34m\u001b[0m\u001b[0;34m\u001b[0m\u001b[0m\n",
            "\u001b[0;32m/usr/local/lib/python3.11/dist-packages/pandas/core/frame.py\u001b[0m in \u001b[0;36m__getitem__\u001b[0;34m(self, key)\u001b[0m\n\u001b[1;32m   4100\u001b[0m             \u001b[0;32mif\u001b[0m \u001b[0mself\u001b[0m\u001b[0;34m.\u001b[0m\u001b[0mcolumns\u001b[0m\u001b[0;34m.\u001b[0m\u001b[0mnlevels\u001b[0m \u001b[0;34m>\u001b[0m \u001b[0;36m1\u001b[0m\u001b[0;34m:\u001b[0m\u001b[0;34m\u001b[0m\u001b[0;34m\u001b[0m\u001b[0m\n\u001b[1;32m   4101\u001b[0m                 \u001b[0;32mreturn\u001b[0m \u001b[0mself\u001b[0m\u001b[0;34m.\u001b[0m\u001b[0m_getitem_multilevel\u001b[0m\u001b[0;34m(\u001b[0m\u001b[0mkey\u001b[0m\u001b[0;34m)\u001b[0m\u001b[0;34m\u001b[0m\u001b[0;34m\u001b[0m\u001b[0m\n\u001b[0;32m-> 4102\u001b[0;31m             \u001b[0mindexer\u001b[0m \u001b[0;34m=\u001b[0m \u001b[0mself\u001b[0m\u001b[0;34m.\u001b[0m\u001b[0mcolumns\u001b[0m\u001b[0;34m.\u001b[0m\u001b[0mget_loc\u001b[0m\u001b[0;34m(\u001b[0m\u001b[0mkey\u001b[0m\u001b[0;34m)\u001b[0m\u001b[0;34m\u001b[0m\u001b[0;34m\u001b[0m\u001b[0m\n\u001b[0m\u001b[1;32m   4103\u001b[0m             \u001b[0;32mif\u001b[0m \u001b[0mis_integer\u001b[0m\u001b[0;34m(\u001b[0m\u001b[0mindexer\u001b[0m\u001b[0;34m)\u001b[0m\u001b[0;34m:\u001b[0m\u001b[0;34m\u001b[0m\u001b[0;34m\u001b[0m\u001b[0m\n\u001b[1;32m   4104\u001b[0m                 \u001b[0mindexer\u001b[0m \u001b[0;34m=\u001b[0m \u001b[0;34m[\u001b[0m\u001b[0mindexer\u001b[0m\u001b[0;34m]\u001b[0m\u001b[0;34m\u001b[0m\u001b[0;34m\u001b[0m\u001b[0m\n",
            "\u001b[0;32m/usr/local/lib/python3.11/dist-packages/pandas/core/indexes/base.py\u001b[0m in \u001b[0;36mget_loc\u001b[0;34m(self, key)\u001b[0m\n\u001b[1;32m   3810\u001b[0m             ):\n\u001b[1;32m   3811\u001b[0m                 \u001b[0;32mraise\u001b[0m \u001b[0mInvalidIndexError\u001b[0m\u001b[0;34m(\u001b[0m\u001b[0mkey\u001b[0m\u001b[0;34m)\u001b[0m\u001b[0;34m\u001b[0m\u001b[0;34m\u001b[0m\u001b[0m\n\u001b[0;32m-> 3812\u001b[0;31m             \u001b[0;32mraise\u001b[0m \u001b[0mKeyError\u001b[0m\u001b[0;34m(\u001b[0m\u001b[0mkey\u001b[0m\u001b[0;34m)\u001b[0m \u001b[0;32mfrom\u001b[0m \u001b[0merr\u001b[0m\u001b[0;34m\u001b[0m\u001b[0;34m\u001b[0m\u001b[0m\n\u001b[0m\u001b[1;32m   3813\u001b[0m         \u001b[0;32mexcept\u001b[0m \u001b[0mTypeError\u001b[0m\u001b[0;34m:\u001b[0m\u001b[0;34m\u001b[0m\u001b[0;34m\u001b[0m\u001b[0m\n\u001b[1;32m   3814\u001b[0m             \u001b[0;31m# If we have a listlike key, _check_indexing_error will raise\u001b[0m\u001b[0;34m\u001b[0m\u001b[0;34m\u001b[0m\u001b[0m\n",
            "\u001b[0;31mKeyError\u001b[0m: 'sales'"
          ]
        }
      ],
      "source": [
        "sales_data = df['sales'].values\n",
        "sales_data = sales_data.reshape(-1, 1)  # reshape to 2D\n",
        "scaler = MinMaxScaler()\n",
        "scaled_data = scaler.fit_transform(sales_data)\n",
        "def create_sequences(data, time_steps=3):\n",
        "    X, y = [], []\n",
        "    for i in range(len(data) - time_steps):\n",
        "        X.append(data[i:i+time_steps])\n",
        "        y.append(data[i+time_steps])\n",
        "    return np.array(X), np.array(y)\n",
        "\n",
        "time_steps = 3\n",
        "X, y = create_sequences(scaled_data, time_steps)\n",
        "train_size = int(len(X) * 0.8)\n",
        "\n",
        "X_train, X_test = X[:train_size], X[train_size:]\n",
        "y_train, y_test = y[:train_size], y[train_size:]\n"
      ]
    },
    {
      "cell_type": "code",
      "execution_count": null,
      "metadata": {
        "colab": {
          "base_uri": "https://localhost:8080/",
          "height": 1000
        },
        "id": "soyCDDeFgVd3",
        "outputId": "85baba11-2485-4cca-a3de-38baba556b95"
      },
      "outputs": [
        {
          "data": {
            "image/png": "[encoded data removed]",
            "text/plain": [
              "<Figure size 640x480 with 1 Axes>"
            ]
          },
          "metadata": {},
          "output_type": "display_data"
        },
        {
          "data": {
            "image/png": "[encoded data removed]",
            "text/plain": [
              "<Figure size 640x480 with 1 Axes>"
            ]
          },
          "metadata": {},
          "output_type": "display_data"
        },
        {
          "name": "stderr",
          "output_type": "stream",
          "text": [
            "/usr/local/lib/python3.11/dist-packages/keras/src/layers/rnn/rnn.py:200: UserWarning: Do not pass an `input_shape`/`input_dim` argument to a layer. When using Sequential models, prefer using an `Input(shape)` object as the first layer in the model instead.\n",
            "  super().__init__(**kwargs)\n"
          ]
        },
        {
          "data": {
            "text/html": [
              "<pre style=\"white-space:pre;overflow-x:auto;line-height:normal;font-family:Menlo,'DejaVu Sans Mono',consolas,'Courier New',monospace\"><span style=\"font-weight: bold\">Model: \"sequential\"</span>\n",
              "</pre>\n"
            ],
            "text/plain": [
              "\u001b[1mModel: \"sequential\"\u001b[0m\n"
            ]
          },
          "metadata": {},
          "output_type": "display_data"
        },
        {
          "data": {
            "text/html": [
              "<pre style=\"white-space:pre;overflow-x:auto;line-height:normal;font-family:Menlo,'DejaVu Sans Mono',consolas,'Courier New',monospace\">┏━━━━━━━━━━━━━━━━━━━━━━━━━━━━━━━━━┳━━━━━━━━━━━━━━━━━━━━━━━━┳━━━━━━━━━━━━━━━┓\n",
              "┃<span style=\"font-weight: bold\"> Layer (type)                    </span>┃<span style=\"font-weight: bold\"> Output Shape           </span>┃<span style=\"font-weight: bold\">       Param # </span>┃\n",
              "┡━━━━━━━━━━━━━━━━━━━━━━━━━━━━━━━━━╇━━━━━━━━━━━━━━━━━━━━━━━━╇━━━━━━━━━━━━━━━┩\n",
              "│ simple_rnn (<span style=\"color: #0087ff; text-decoration-color: #0087ff\">SimpleRNN</span>)          │ (<span style=\"color: #00d7ff; text-decoration-color: #00d7ff\">None</span>, <span style=\"color: #00af00; text-decoration-color: #00af00\">128</span>)            │        <span style=\"color: #00af00; text-decoration-color: #00af00\">16,640</span> │\n",
              "├─────────────────────────────────┼────────────────────────┼───────────────┤\n",
              "│ dense (<span style=\"color: #0087ff; text-decoration-color: #0087ff\">Dense</span>)                   │ (<span style=\"color: #00d7ff; text-decoration-color: #00d7ff\">None</span>, <span style=\"color: #00af00; text-decoration-color: #00af00\">1</span>)              │           <span style=\"color: #00af00; text-decoration-color: #00af00\">129</span> │\n",
              "└─────────────────────────────────┴────────────────────────┴───────────────┘\n",
              "</pre>\n"
            ],
            "text/plain": [
              "┏━━━━━━━━━━━━━━━━━━━━━━━━━━━━━━━━━┳━━━━━━━━━━━━━━━━━━━━━━━━┳━━━━━━━━━━━━━━━┓\n",
              "┃\u001b[1m \u001b[0m\u001b[1mLayer (type)                   \u001b[0m\u001b[1m \u001b[0m┃\u001b[1m \u001b[0m\u001b[1mOutput Shape          \u001b[0m\u001b[1m \u001b[0m┃\u001b[1m \u001b[0m\u001b[1m      Param #\u001b[0m\u001b[1m \u001b[0m┃\n",
              "┡━━━━━━━━━━━━━━━━━━━━━━━━━━━━━━━━━╇━━━━━━━━━━━━━━━━━━━━━━━━╇━━━━━━━━━━━━━━━┩\n",
              "│ simple_rnn (\u001b[38;5;33mSimpleRNN\u001b[0m)          │ (\u001b[38;5;45mNone\u001b[0m, \u001b[38;5;34m128\u001b[0m)            │        \u001b[38;5;34m16,640\u001b[0m │\n",
              "├─────────────────────────────────┼────────────────────────┼───────────────┤\n",
              "│ dense (\u001b[38;5;33mDense\u001b[0m)                   │ (\u001b[38;5;45mNone\u001b[0m, \u001b[38;5;34m1\u001b[0m)              │           \u001b[38;5;34m129\u001b[0m │\n",
              "└─────────────────────────────────┴────────────────────────┴───────────────┘\n"
            ]
          },
          "metadata": {},
          "output_type": "display_data"
        },
        {
          "data": {
            "text/html": [
              "<pre style=\"white-space:pre;overflow-x:auto;line-height:normal;font-family:Menlo,'DejaVu Sans Mono',consolas,'Courier New',monospace\"><span style=\"font-weight: bold\"> Total params: </span><span style=\"color: #00af00; text-decoration-color: #00af00\">16,769</span> (65.50 KB)\n",
              "</pre>\n"
            ],
            "text/plain": [
              "\u001b[1m Total params: \u001b[0m\u001b[38;5;34m16,769\u001b[0m (65.50 KB)\n"
            ]
          },
          "metadata": {},
          "output_type": "display_data"
        },
        {
          "data": {
            "text/html": [
              "<pre style=\"white-space:pre;overflow-x:auto;line-height:normal;font-family:Menlo,'DejaVu Sans Mono',consolas,'Courier New',monospace\"><span style=\"font-weight: bold\"> Trainable params: </span><span style=\"color: #00af00; text-decoration-color: #00af00\">16,769</span> (65.50 KB)\n",
              "</pre>\n"
            ],
            "text/plain": [
              "\u001b[1m Trainable params: \u001b[0m\u001b[38;5;34m16,769\u001b[0m (65.50 KB)\n"
            ]
          },
          "metadata": {},
          "output_type": "display_data"
        },
        {
          "data": {
            "text/html": [
              "<pre style=\"white-space:pre;overflow-x:auto;line-height:normal;font-family:Menlo,'DejaVu Sans Mono',consolas,'Courier New',monospace\"><span style=\"font-weight: bold\"> Non-trainable params: </span><span style=\"color: #00af00; text-decoration-color: #00af00\">0</span> (0.00 B)\n",
              "</pre>\n"
            ],
            "text/plain": [
              "\u001b[1m Non-trainable params: \u001b[0m\u001b[38;5;34m0\u001b[0m (0.00 B)\n"
            ]
          },
          "metadata": {},
          "output_type": "display_data"
        },
        {
          "name": "stdout",
          "output_type": "stream",
          "text": [
            "Epoch 1/100\n",
            "19/19 - 4s - 202ms/step - loss: 0.1297 - mean_absolute_error: 0.2592 - val_loss: 0.0393 - val_mean_absolute_error: 0.1653\n",
            "Epoch 2/100\n",
            "19/19 - 1s - 59ms/step - loss: 0.0808 - mean_absolute_error: 0.2052 - val_loss: 0.0253 - val_mean_absolute_error: 0.1153\n",
            "Epoch 3/100\n",
            "19/19 - 1s - 60ms/step - loss: 0.0481 - mean_absolute_error: 0.1577 - val_loss: 0.0300 - val_mean_absolute_error: 0.1279\n",
            "Epoch 4/100\n",
            "19/19 - 1s - 57ms/step - loss: 0.0200 - mean_absolute_error: 0.1097 - val_loss: 0.0263 - val_mean_absolute_error: 0.1300\n",
            "Epoch 5/100\n",
            "19/19 - 1s - 67ms/step - loss: 0.0114 - mean_absolute_error: 0.0782 - val_loss: 0.0185 - val_mean_absolute_error: 0.1033\n",
            "Epoch 6/100\n",
            "19/19 - 1s - 58ms/step - loss: 0.0098 - mean_absolute_error: 0.0726 - val_loss: 0.0148 - val_mean_absolute_error: 0.0849\n",
            "Epoch 7/100\n",
            "19/19 - 1s - 68ms/step - loss: 0.0073 - mean_absolute_error: 0.0605 - val_loss: 0.0128 - val_mean_absolute_error: 0.0770\n",
            "Epoch 8/100\n",
            "19/19 - 1s - 57ms/step - loss: 0.0091 - mean_absolute_error: 0.0676 - val_loss: 0.0117 - val_mean_absolute_error: 0.0754\n",
            "Epoch 9/100\n",
            "19/19 - 2s - 115ms/step - loss: 0.0085 - mean_absolute_error: 0.0694 - val_loss: 0.0173 - val_mean_absolute_error: 0.1053\n",
            "Epoch 10/100\n",
            "19/19 - 2s - 86ms/step - loss: 0.0062 - mean_absolute_error: 0.0589 - val_loss: 0.0100 - val_mean_absolute_error: 0.0695\n",
            "Epoch 11/100\n",
            "19/19 - 1s - 65ms/step - loss: 0.0056 - mean_absolute_error: 0.0560 - val_loss: 0.0134 - val_mean_absolute_error: 0.0905\n",
            "Epoch 12/100\n",
            "19/19 - 1s - 66ms/step - loss: 0.0051 - mean_absolute_error: 0.0541 - val_loss: 0.0082 - val_mean_absolute_error: 0.0646\n",
            "Epoch 13/100\n",
            "19/19 - 1s - 58ms/step - loss: 0.0074 - mean_absolute_error: 0.0629 - val_loss: 0.0141 - val_mean_absolute_error: 0.0909\n",
            "Epoch 14/100\n",
            "19/19 - 1s - 66ms/step - loss: 0.0052 - mean_absolute_error: 0.0543 - val_loss: 0.0157 - val_mean_absolute_error: 0.0953\n",
            "Epoch 15/100\n",
            "19/19 - 1s - 58ms/step - loss: 0.0051 - mean_absolute_error: 0.0515 - val_loss: 0.0079 - val_mean_absolute_error: 0.0656\n",
            "Epoch 16/100\n",
            "19/19 - 1s - 58ms/step - loss: 0.0039 - mean_absolute_error: 0.0473 - val_loss: 0.0118 - val_mean_absolute_error: 0.0801\n",
            "Epoch 17/100\n",
            "19/19 - 1s - 57ms/step - loss: 0.0033 - mean_absolute_error: 0.0434 - val_loss: 0.0125 - val_mean_absolute_error: 0.0851\n",
            "Epoch 18/100\n",
            "19/19 - 2s - 101ms/step - loss: 0.0031 - mean_absolute_error: 0.0427 - val_loss: 0.0141 - val_mean_absolute_error: 0.0875\n",
            "Epoch 19/100\n",
            "19/19 - 2s - 101ms/step - loss: 0.0031 - mean_absolute_error: 0.0408 - val_loss: 0.0096 - val_mean_absolute_error: 0.0747\n",
            "Epoch 20/100\n",
            "19/19 - 1s - 64ms/step - loss: 0.0032 - mean_absolute_error: 0.0425 - val_loss: 0.0088 - val_mean_absolute_error: 0.0685\n",
            "Epoch 21/100\n",
            "19/19 - 1s - 66ms/step - loss: 0.0028 - mean_absolute_error: 0.0404 - val_loss: 0.0108 - val_mean_absolute_error: 0.0792\n",
            "Epoch 22/100\n",
            "19/19 - 1s - 60ms/step - loss: 0.0027 - mean_absolute_error: 0.0383 - val_loss: 0.0082 - val_mean_absolute_error: 0.0627\n",
            "Epoch 23/100\n",
            "19/19 - 1s - 59ms/step - loss: 0.0026 - mean_absolute_error: 0.0377 - val_loss: 0.0072 - val_mean_absolute_error: 0.0605\n",
            "Epoch 24/100\n",
            "19/19 - 1s - 58ms/step - loss: 0.0029 - mean_absolute_error: 0.0420 - val_loss: 0.0093 - val_mean_absolute_error: 0.0678\n",
            "Epoch 25/100\n",
            "19/19 - 1s - 58ms/step - loss: 0.0024 - mean_absolute_error: 0.0363 - val_loss: 0.0076 - val_mean_absolute_error: 0.0602\n",
            "Epoch 26/100\n",
            "19/19 - 1s - 59ms/step - loss: 0.0033 - mean_absolute_error: 0.0407 - val_loss: 0.0077 - val_mean_absolute_error: 0.0624\n",
            "Epoch 27/100\n",
            "19/19 - 1s - 77ms/step - loss: 0.0028 - mean_absolute_error: 0.0377 - val_loss: 0.0074 - val_mean_absolute_error: 0.0598\n",
            "Epoch 28/100\n",
            "19/19 - 2s - 103ms/step - loss: 0.0042 - mean_absolute_error: 0.0472 - val_loss: 0.0108 - val_mean_absolute_error: 0.0749\n",
            "Epoch 29/100\n",
            "19/19 - 2s - 90ms/step - loss: 0.0031 - mean_absolute_error: 0.0402 - val_loss: 0.0091 - val_mean_absolute_error: 0.0676\n",
            "Epoch 30/100\n",
            "19/19 - 1s - 57ms/step - loss: 0.0023 - mean_absolute_error: 0.0356 - val_loss: 0.0097 - val_mean_absolute_error: 0.0716\n",
            "Epoch 31/100\n",
            "19/19 - 1s - 58ms/step - loss: 0.0035 - mean_absolute_error: 0.0456 - val_loss: 0.0079 - val_mean_absolute_error: 0.0647\n",
            "Epoch 32/100\n",
            "19/19 - 1s - 58ms/step - loss: 0.0041 - mean_absolute_error: 0.0454 - val_loss: 0.0086 - val_mean_absolute_error: 0.0639\n",
            "Epoch 33/100\n",
            "19/19 - 1s - 57ms/step - loss: 0.0025 - mean_absolute_error: 0.0382 - val_loss: 0.0082 - val_mean_absolute_error: 0.0636\n",
            "Epoch 34/100\n",
            "19/19 - 1s - 57ms/step - loss: 0.0026 - mean_absolute_error: 0.0371 - val_loss: 0.0088 - val_mean_absolute_error: 0.0668\n",
            "Epoch 35/100\n",
            "19/19 - 1s - 60ms/step - loss: 0.0032 - mean_absolute_error: 0.0391 - val_loss: 0.0109 - val_mean_absolute_error: 0.0741\n",
            "Epoch 36/100\n",
            "19/19 - 1s - 61ms/step - loss: 0.0030 - mean_absolute_error: 0.0400 - val_loss: 0.0088 - val_mean_absolute_error: 0.0685\n",
            "Epoch 37/100\n",
            "19/19 - 2s - 88ms/step - loss: 0.0026 - mean_absolute_error: 0.0372 - val_loss: 0.0090 - val_mean_absolute_error: 0.0683\n",
            "Epoch 38/100\n",
            "19/19 - 2s - 92ms/step - loss: 0.0023 - mean_absolute_error: 0.0377 - val_loss: 0.0081 - val_mean_absolute_error: 0.0633\n",
            "Epoch 39/100\n",
            "19/19 - 1s - 57ms/step - loss: 0.0026 - mean_absolute_error: 0.0369 - val_loss: 0.0094 - val_mean_absolute_error: 0.0693\n",
            "Epoch 40/100\n",
            "19/19 - 1s - 69ms/step - loss: 0.0031 - mean_absolute_error: 0.0424 - val_loss: 0.0113 - val_mean_absolute_error: 0.0773\n",
            "Epoch 41/100\n",
            "19/19 - 1s - 65ms/step - loss: 0.0031 - mean_absolute_error: 0.0422 - val_loss: 0.0082 - val_mean_absolute_error: 0.0651\n",
            "Epoch 42/100\n",
            "19/19 - 1s - 59ms/step - loss: 0.0029 - mean_absolute_error: 0.0412 - val_loss: 0.0079 - val_mean_absolute_error: 0.0656\n",
            "Epoch 43/100\n",
            "19/19 - 1s - 60ms/step - loss: 0.0029 - mean_absolute_error: 0.0388 - val_loss: 0.0083 - val_mean_absolute_error: 0.0651\n",
            "Epoch 44/100\n",
            "19/19 - 1s - 67ms/step - loss: 0.0023 - mean_absolute_error: 0.0374 - val_loss: 0.0128 - val_mean_absolute_error: 0.0850\n",
            "Epoch 45/100\n",
            "19/19 - 1s - 63ms/step - loss: 0.0024 - mean_absolute_error: 0.0362 - val_loss: 0.0089 - val_mean_absolute_error: 0.0692\n",
            "Epoch 46/100\n",
            "19/19 - 1s - 68ms/step - loss: 0.0022 - mean_absolute_error: 0.0344 - val_loss: 0.0077 - val_mean_absolute_error: 0.0629\n",
            "Epoch 47/100\n",
            "19/19 - 2s - 108ms/step - loss: 0.0020 - mean_absolute_error: 0.0339 - val_loss: 0.0082 - val_mean_absolute_error: 0.0654\n",
            "Epoch 48/100\n",
            "19/19 - 1s - 73ms/step - loss: 0.0018 - mean_absolute_error: 0.0310 - val_loss: 0.0080 - val_mean_absolute_error: 0.0643\n",
            "Epoch 49/100\n",
            "19/19 - 1s - 58ms/step - loss: 0.0017 - mean_absolute_error: 0.0303 - val_loss: 0.0086 - val_mean_absolute_error: 0.0680\n",
            "Epoch 50/100\n",
            "19/19 - 1s - 59ms/step - loss: 0.0019 - mean_absolute_error: 0.0328 - val_loss: 0.0096 - val_mean_absolute_error: 0.0715\n",
            "Epoch 51/100\n",
            "19/19 - 1s - 58ms/step - loss: 0.0017 - mean_absolute_error: 0.0307 - val_loss: 0.0080 - val_mean_absolute_error: 0.0634\n",
            "Epoch 52/100\n",
            "19/19 - 1s - 65ms/step - loss: 0.0020 - mean_absolute_error: 0.0330 - val_loss: 0.0091 - val_mean_absolute_error: 0.0691\n",
            "Epoch 53/100\n",
            "19/19 - 1s - 68ms/step - loss: 0.0021 - mean_absolute_error: 0.0326 - val_loss: 0.0106 - val_mean_absolute_error: 0.0771\n",
            "Epoch 54/100\n",
            "19/19 - 1s - 67ms/step - loss: 0.0023 - mean_absolute_error: 0.0361 - val_loss: 0.0077 - val_mean_absolute_error: 0.0630\n",
            "Epoch 55/100\n",
            "19/19 - 2s - 88ms/step - loss: 0.0027 - mean_absolute_error: 0.0368 - val_loss: 0.0085 - val_mean_absolute_error: 0.0662\n",
            "Epoch 56/100\n",
            "19/19 - 3s - 154ms/step - loss: 0.0025 - mean_absolute_error: 0.0382 - val_loss: 0.0093 - val_mean_absolute_error: 0.0703\n",
            "Epoch 57/100\n",
            "19/19 - 1s - 59ms/step - loss: 0.0016 - mean_absolute_error: 0.0299 - val_loss: 0.0081 - val_mean_absolute_error: 0.0643\n",
            "Epoch 58/100\n",
            "19/19 - 1s - 67ms/step - loss: 0.0015 - mean_absolute_error: 0.0281 - val_loss: 0.0074 - val_mean_absolute_error: 0.0604\n",
            "Epoch 59/100\n",
            "19/19 - 1s - 65ms/step - loss: 0.0017 - mean_absolute_error: 0.0283 - val_loss: 0.0106 - val_mean_absolute_error: 0.0754\n",
            "Epoch 60/100\n",
            "19/19 - 1s - 67ms/step - loss: 0.0016 - mean_absolute_error: 0.0300 - val_loss: 0.0073 - val_mean_absolute_error: 0.0612\n",
            "Epoch 61/100\n",
            "19/19 - 1s - 59ms/step - loss: 0.0018 - mean_absolute_error: 0.0308 - val_loss: 0.0077 - val_mean_absolute_error: 0.0633\n",
            "Epoch 62/100\n",
            "19/19 - 1s - 68ms/step - loss: 0.0019 - mean_absolute_error: 0.0329 - val_loss: 0.0082 - val_mean_absolute_error: 0.0646\n",
            "Epoch 63/100\n",
            "19/19 - 1s - 60ms/step - loss: 0.0020 - mean_absolute_error: 0.0324 - val_loss: 0.0079 - val_mean_absolute_error: 0.0661\n",
            "Epoch 64/100\n",
            "19/19 - 1s - 65ms/step - loss: 0.0021 - mean_absolute_error: 0.0339 - val_loss: 0.0116 - val_mean_absolute_error: 0.0802\n",
            "Epoch 65/100\n",
            "19/19 - 2s - 122ms/step - loss: 0.0037 - mean_absolute_error: 0.0440 - val_loss: 0.0080 - val_mean_absolute_error: 0.0659\n",
            "Epoch 66/100\n",
            "19/19 - 2s - 81ms/step - loss: 0.0032 - mean_absolute_error: 0.0394 - val_loss: 0.0113 - val_mean_absolute_error: 0.0768\n",
            "Epoch 67/100\n",
            "19/19 - 1s - 59ms/step - loss: 0.0022 - mean_absolute_error: 0.0354 - val_loss: 0.0076 - val_mean_absolute_error: 0.0624\n",
            "Epoch 68/100\n",
            "19/19 - 1s - 68ms/step - loss: 0.0022 - mean_absolute_error: 0.0343 - val_loss: 0.0094 - val_mean_absolute_error: 0.0769\n",
            "Epoch 69/100\n",
            "19/19 - 1s - 64ms/step - loss: 0.0018 - mean_absolute_error: 0.0309 - val_loss: 0.0086 - val_mean_absolute_error: 0.0721\n",
            "Epoch 70/100\n",
            "19/19 - 1s - 60ms/step - loss: 0.0021 - mean_absolute_error: 0.0327 - val_loss: 0.0081 - val_mean_absolute_error: 0.0650\n",
            "Epoch 71/100\n",
            "19/19 - 1s - 66ms/step - loss: 0.0023 - mean_absolute_error: 0.0349 - val_loss: 0.0084 - val_mean_absolute_error: 0.0658\n",
            "Epoch 72/100\n",
            "19/19 - 1s - 66ms/step - loss: 0.0016 - mean_absolute_error: 0.0293 - val_loss: 0.0080 - val_mean_absolute_error: 0.0659\n",
            "Epoch 73/100\n",
            "19/19 - 1s - 66ms/step - loss: 0.0015 - mean_absolute_error: 0.0285 - val_loss: 0.0114 - val_mean_absolute_error: 0.0813\n",
            "Epoch 74/100\n",
            "19/19 - 2s - 107ms/step - loss: 0.0019 - mean_absolute_error: 0.0321 - val_loss: 0.0077 - val_mean_absolute_error: 0.0648\n",
            "Epoch 75/100\n",
            "19/19 - 2s - 87ms/step - loss: 0.0027 - mean_absolute_error: 0.0384 - val_loss: 0.0087 - val_mean_absolute_error: 0.0694\n",
            "Epoch 76/100\n",
            "19/19 - 1s - 71ms/step - loss: 0.0025 - mean_absolute_error: 0.0380 - val_loss: 0.0091 - val_mean_absolute_error: 0.0709\n",
            "Epoch 77/100\n",
            "19/19 - 1s - 59ms/step - loss: 0.0020 - mean_absolute_error: 0.0344 - val_loss: 0.0127 - val_mean_absolute_error: 0.0861\n",
            "Epoch 78/100\n",
            "19/19 - 1s - 65ms/step - loss: 0.0017 - mean_absolute_error: 0.0302 - val_loss: 0.0080 - val_mean_absolute_error: 0.0670\n",
            "Epoch 79/100\n",
            "19/19 - 1s - 59ms/step - loss: 0.0017 - mean_absolute_error: 0.0297 - val_loss: 0.0093 - val_mean_absolute_error: 0.0734\n",
            "Epoch 80/100\n",
            "19/19 - 1s - 65ms/step - loss: 0.0016 - mean_absolute_error: 0.0302 - val_loss: 0.0111 - val_mean_absolute_error: 0.0797\n",
            "Epoch 81/100\n",
            "19/19 - 1s - 59ms/step - loss: 0.0024 - mean_absolute_error: 0.0378 - val_loss: 0.0079 - val_mean_absolute_error: 0.0667\n",
            "Epoch 82/100\n",
            "19/19 - 1s - 58ms/step - loss: 0.0020 - mean_absolute_error: 0.0327 - val_loss: 0.0089 - val_mean_absolute_error: 0.0693\n",
            "Epoch 83/100\n",
            "19/19 - 2s - 95ms/step - loss: 0.0019 - mean_absolute_error: 0.0313 - val_loss: 0.0083 - val_mean_absolute_error: 0.0670\n",
            "Epoch 84/100\n",
            "19/19 - 2s - 96ms/step - loss: 0.0019 - mean_absolute_error: 0.0315 - val_loss: 0.0089 - val_mean_absolute_error: 0.0713\n",
            "Epoch 85/100\n",
            "19/19 - 1s - 67ms/step - loss: 0.0012 - mean_absolute_error: 0.0253 - val_loss: 0.0087 - val_mean_absolute_error: 0.0691\n",
            "Epoch 86/100\n",
            "19/19 - 1s - 67ms/step - loss: 0.0017 - mean_absolute_error: 0.0306 - val_loss: 0.0081 - val_mean_absolute_error: 0.0677\n",
            "Epoch 87/100\n",
            "19/19 - 1s - 59ms/step - loss: 0.0019 - mean_absolute_error: 0.0329 - val_loss: 0.0087 - val_mean_absolute_error: 0.0686\n",
            "Epoch 88/100\n",
            "19/19 - 1s - 67ms/step - loss: 0.0019 - mean_absolute_error: 0.0328 - val_loss: 0.0103 - val_mean_absolute_error: 0.0744\n",
            "Epoch 89/100\n",
            "19/19 - 1s - 58ms/step - loss: 0.0018 - mean_absolute_error: 0.0304 - val_loss: 0.0081 - val_mean_absolute_error: 0.0679\n",
            "Epoch 90/100\n",
            "19/19 - 1s - 59ms/step - loss: 0.0013 - mean_absolute_error: 0.0269 - val_loss: 0.0079 - val_mean_absolute_error: 0.0660\n",
            "Epoch 91/100\n",
            "19/19 - 1s - 67ms/step - loss: 0.0014 - mean_absolute_error: 0.0284 - val_loss: 0.0089 - val_mean_absolute_error: 0.0696\n",
            "Epoch 92/100\n",
            "19/19 - 2s - 91ms/step - loss: 0.0013 - mean_absolute_error: 0.0275 - val_loss: 0.0070 - val_mean_absolute_error: 0.0617\n",
            "Epoch 93/100\n",
            "19/19 - 2s - 99ms/step - loss: 0.0014 - mean_absolute_error: 0.0284 - val_loss: 0.0091 - val_mean_absolute_error: 0.0714\n",
            "Epoch 94/100\n",
            "19/19 - 1s - 59ms/step - loss: 0.0014 - mean_absolute_error: 0.0291 - val_loss: 0.0082 - val_mean_absolute_error: 0.0685\n",
            "Epoch 95/100\n",
            "19/19 - 1s - 58ms/step - loss: 0.0020 - mean_absolute_error: 0.0334 - val_loss: 0.0088 - val_mean_absolute_error: 0.0732\n",
            "Epoch 96/100\n",
            "19/19 - 1s - 58ms/step - loss: 0.0017 - mean_absolute_error: 0.0307 - val_loss: 0.0097 - val_mean_absolute_error: 0.0741\n",
            "Epoch 97/100\n",
            "19/19 - 1s - 61ms/step - loss: 0.0015 - mean_absolute_error: 0.0274 - val_loss: 0.0080 - val_mean_absolute_error: 0.0659\n",
            "Epoch 98/100\n",
            "19/19 - 1s - 63ms/step - loss: 0.0013 - mean_absolute_error: 0.0263 - val_loss: 0.0087 - val_mean_absolute_error: 0.0688\n",
            "Epoch 99/100\n",
            "19/19 - 1s - 58ms/step - loss: 0.0017 - mean_absolute_error: 0.0303 - val_loss: 0.0107 - val_mean_absolute_error: 0.0765\n",
            "Epoch 100/100\n",
            "19/19 - 1s - 68ms/step - loss: 0.0014 - mean_absolute_error: 0.0272 - val_loss: 0.0083 - val_mean_absolute_error: 0.0663\n",
            "naive test mse:  0.044290762\n",
            "naive test mean abs:  0.15719554\n",
            "\u001b[1m1/1\u001b[0m \u001b[32m━━━━━━━━━━━━━━━━━━━━\u001b[0m\u001b[37m\u001b[0m \u001b[1m0s\u001b[0m 176ms/step\n"
          ]
        },
        {
          "data": {
            "image/png": "[encoded data removed]",
            "text/plain": [
              "<Figure size 640x480 with 1 Axes>"
            ]
          },
          "metadata": {},
          "output_type": "display_data"
        }
      ],
      "source": [
        "import numpy as np\n",
        "import matplotlib.pyplot as plt\n",
        "import tensorflow as tf\n",
        "from tensorflow import keras\n",
        "from tensorflow.keras.models import Sequential\n",
        "from tensorflow.keras.layers import Dense\n",
        "from tensorflow.keras.layers import SimpleRNN\n",
        "import logging\n",
        "tf.get_logger().setLevel(logging.ERROR)\n",
        "EPOCHS = 100\n",
        "BATCH_SIZE = 16\n",
        "TRAIN_TEST_SPLIT = 0.8\n",
        "MIN = 12\n",
        "FILE_NAME = '/content/book_store_sales.csv'\n",
        "def readfile(file_name):\n",
        "  file = open(file_name, 'r', encoding='utf-8')\n",
        "  next(file)\n",
        "  data = []\n",
        "  for line in (file):\n",
        "    values = line.split(',')\n",
        "    data.append(float(values[1]))\n",
        "  file.close()\n",
        "  return np.array(data, dtype=np.float32)\n",
        "sales = readfile(FILE_NAME)\n",
        "months = len(sales)\n",
        "split = int(months * TRAIN_TEST_SPLIT)\n",
        "train_sales = sales[0:split]\n",
        "test_sales = sales[split:]\n",
        "\n",
        "x = range(len(sales))\n",
        "plt.plot(x, sales, 'r-', label='book sales')\n",
        "plt.title('Book store sales')\n",
        "plt.axis([0, 339, 0.0, 3000.0])\n",
        "plt.xlabel('Months')\n",
        "plt.ylabel('Sales (millions $)')\n",
        "plt.legend()\n",
        "plt.show()\n",
        "\n",
        "\n",
        "\n",
        "# Plot naive prediction\n",
        "test_output = test_sales[MIN:]\n",
        "naive_prediction = test_sales[MIN-1:-1]\n",
        "x = range(len(test_output))\n",
        "plt.plot(x, test_output, 'g-', label='test_output')\n",
        "plt.plot(x, naive_prediction, 'm-', label='naive prediction')\n",
        "plt.title('Book store sales')\n",
        "plt.axis([0, len(test_output), 0.0, 3000.0])\n",
        "plt.xlabel('months')\n",
        "plt.ylabel('Monthly book store sales')\n",
        "plt.legend()\n",
        "plt.show()\n",
        "\n",
        "\n",
        "\n",
        "\n",
        "mean = np.mean(train_sales)\n",
        "stddev = np.mean(train_sales)\n",
        "train_sales_std = (train_sales - mean)/stddev\n",
        "test_sales_std = (test_sales - mean)/stddev\n",
        "\n",
        "\n",
        "\n",
        "\n",
        "train_months = len(train_sales)\n",
        "train_X = np.zeros((train_months-MIN, train_months-1, 1))\n",
        "train_y = np.zeros((train_months-MIN, 1))\n",
        "for i in range(0, train_months-MIN):\n",
        "  train_X[i, -(i+MIN):, 0] = train_sales_std[0:i+MIN]\n",
        "  train_y[i, 0] = train_sales_std[i+MIN]\n",
        "# Create test examples.\n",
        "test_months = len(test_sales)\n",
        "test_X = np.zeros((test_months-MIN, test_months-1, 1))\n",
        "test_y = np.zeros((test_months-MIN, 1))\n",
        "for i in range(0, test_months-MIN):\n",
        "  test_X[i, -(i+MIN):, 0] = test_sales_std[0:i+MIN]\n",
        "  test_y[i, 0] = test_sales_std[i+MIN]\n",
        "\n",
        "\n",
        "\n",
        "\n",
        "model = Sequential()\n",
        "model.add(SimpleRNN(128, activation='relu',\n",
        "input_shape=(None, 1)))\n",
        "model.add(Dense(1, activation='linear'))\n",
        "model.compile(loss='mean_squared_error', optimizer = 'adam',\n",
        "metrics =['mean_absolute_error'])\n",
        "model.summary()\n",
        "history = model.fit(train_X, train_y,\n",
        "validation_data\n",
        "= (test_X, test_y), epochs=EPOCHS,\n",
        "batch_size=BATCH_SIZE, verbose=2,\n",
        "shuffle=True)\n",
        "\n",
        "\n",
        "\n",
        "test_output = test_sales_std[MIN:]\n",
        "naive_prediction = test_sales_std[MIN-1:-1]\n",
        "mean_squared_error = np.mean(np.square(naive_prediction\n",
        "- test_output))\n",
        "mean_abs_error = np.mean(np.abs(naive_prediction\n",
        "- test_output))\n",
        "print('naive test mse: ', mean_squared_error)\n",
        "print('naive test mean abs: ', mean_abs_error)\n",
        "\n",
        "\n",
        "predicted_test = model.predict(test_X, len(test_X))\n",
        "predicted_test = np.reshape(predicted_test,\n",
        "(len(predicted_test)))\n",
        "predicted_test = predicted_test * stddev + mean\n",
        "# Plot test prediction.\n",
        "x = range(len(test_sales)-MIN)\n",
        "plt.plot(x, predicted_test, 'm-',\n",
        "label='predicted test_output')\n",
        "plt.plot(x, test_sales[-(len(test_sales)-MIN):],\n",
        "'g-', label='actual test_output')\n",
        "plt.title('Book sales')\n",
        "plt.axis([0, 55, 0.0, 3000.0])\n",
        "plt.xlabel('months')\n",
        "plt.ylabel('Predicted book sales')\n",
        "plt.legend()\n",
        "plt.show()\n",
        "\n",
        "\n",
        "\n",
        "\n",
        "\n",
        "\n"
      ]
    },
    {
      "cell_type": "code",
      "execution_count": null,
      "metadata": {
        "colab": {
          "background_save": true,
          "base_uri": "https://localhost:8080/",
          "height": 471
        },
        "id": "e_L4mH30iPjm",
        "outputId": "83c1ab4c-606a-420a-9f42-12a44e64acaa"
      },
      "outputs": [
        {
          "name": "stderr",
          "output_type": "stream",
          "text": [
            "/usr/local/lib/python3.11/dist-packages/keras/src/layers/rnn/rnn.py:200: UserWarning: Do not pass an `input_shape`/`input_dim` argument to a layer. When using Sequential models, prefer using an `Input(shape)` object as the first layer in the model instead.\n",
            "  super().__init__(**kwargs)\n"
          ]
        },
        {
          "data": {
            "text/html": [
              "<pre style=\"white-space:pre;overflow-x:auto;line-height:normal;font-family:Menlo,'DejaVu Sans Mono',consolas,'Courier New',monospace\"><span style=\"font-weight: bold\">Model: \"sequential_1\"</span>\n",
              "</pre>\n"
            ],
            "text/plain": [
              "\u001b[1mModel: \"sequential_1\"\u001b[0m\n"
            ]
          },
          "metadata": {},
          "output_type": "display_data"
        },
        {
          "data": {
            "text/html": [
              "<pre style=\"white-space:pre;overflow-x:auto;line-height:normal;font-family:Menlo,'DejaVu Sans Mono',consolas,'Courier New',monospace\">┏━━━━━━━━━━━━━━━━━━━━━━━━━━━━━━━━━┳━━━━━━━━━━━━━━━━━━━━━━━━┳━━━━━━━━━━━━━━━┓\n",
              "┃<span style=\"font-weight: bold\"> Layer (type)                    </span>┃<span style=\"font-weight: bold\"> Output Shape           </span>┃<span style=\"font-weight: bold\">       Param # </span>┃\n",
              "┡━━━━━━━━━━━━━━━━━━━━━━━━━━━━━━━━━╇━━━━━━━━━━━━━━━━━━━━━━━━╇━━━━━━━━━━━━━━━┩\n",
              "│ lstm (<span style=\"color: #0087ff; text-decoration-color: #0087ff\">LSTM</span>)                     │ (<span style=\"color: #00d7ff; text-decoration-color: #00d7ff\">None</span>, <span style=\"color: #00d7ff; text-decoration-color: #00d7ff\">None</span>, <span style=\"color: #00af00; text-decoration-color: #00af00\">128</span>)      │        <span style=\"color: #00af00; text-decoration-color: #00af00\">95,232</span> │\n",
              "├─────────────────────────────────┼────────────────────────┼───────────────┤\n",
              "│ lstm_1 (<span style=\"color: #0087ff; text-decoration-color: #0087ff\">LSTM</span>)                   │ (<span style=\"color: #00d7ff; text-decoration-color: #00d7ff\">None</span>, <span style=\"color: #00af00; text-decoration-color: #00af00\">128</span>)            │       <span style=\"color: #00af00; text-decoration-color: #00af00\">131,584</span> │\n",
              "├─────────────────────────────────┼────────────────────────┼───────────────┤\n",
              "│ dense_1 (<span style=\"color: #0087ff; text-decoration-color: #0087ff\">Dense</span>)                 │ (<span style=\"color: #00d7ff; text-decoration-color: #00d7ff\">None</span>, <span style=\"color: #00af00; text-decoration-color: #00af00\">57</span>)             │         <span style=\"color: #00af00; text-decoration-color: #00af00\">7,353</span> │\n",
              "└─────────────────────────────────┴────────────────────────┴───────────────┘\n",
              "</pre>\n"
            ],
            "text/plain": [
              "┏━━━━━━━━━━━━━━━━━━━━━━━━━━━━━━━━━┳━━━━━━━━━━━━━━━━━━━━━━━━┳━━━━━━━━━━━━━━━┓\n",
              "┃\u001b[1m \u001b[0m\u001b[1mLayer (type)                   \u001b[0m\u001b[1m \u001b[0m┃\u001b[1m \u001b[0m\u001b[1mOutput Shape          \u001b[0m\u001b[1m \u001b[0m┃\u001b[1m \u001b[0m\u001b[1m      Param #\u001b[0m\u001b[1m \u001b[0m┃\n",
              "┡━━━━━━━━━━━━━━━━━━━━━━━━━━━━━━━━━╇━━━━━━━━━━━━━━━━━━━━━━━━╇━━━━━━━━━━━━━━━┩\n",
              "│ lstm (\u001b[38;5;33mLSTM\u001b[0m)                     │ (\u001b[38;5;45mNone\u001b[0m, \u001b[38;5;45mNone\u001b[0m, \u001b[38;5;34m128\u001b[0m)      │        \u001b[38;5;34m95,232\u001b[0m │\n",
              "├─────────────────────────────────┼────────────────────────┼───────────────┤\n",
              "│ lstm_1 (\u001b[38;5;33mLSTM\u001b[0m)                   │ (\u001b[38;5;45mNone\u001b[0m, \u001b[38;5;34m128\u001b[0m)            │       \u001b[38;5;34m131,584\u001b[0m │\n",
              "├─────────────────────────────────┼────────────────────────┼───────────────┤\n",
              "│ dense_1 (\u001b[38;5;33mDense\u001b[0m)                 │ (\u001b[38;5;45mNone\u001b[0m, \u001b[38;5;34m57\u001b[0m)             │         \u001b[38;5;34m7,353\u001b[0m │\n",
              "└─────────────────────────────────┴────────────────────────┴───────────────┘\n"
            ]
          },
          "metadata": {},
          "output_type": "display_data"
        },
        {
          "data": {
            "text/html": [
              "<pre style=\"white-space:pre;overflow-x:auto;line-height:normal;font-family:Menlo,'DejaVu Sans Mono',consolas,'Courier New',monospace\"><span style=\"font-weight: bold\"> Total params: </span><span style=\"color: #00af00; text-decoration-color: #00af00\">234,169</span> (914.72 KB)\n",
              "</pre>\n"
            ],
            "text/plain": [
              "\u001b[1m Total params: \u001b[0m\u001b[38;5;34m234,169\u001b[0m (914.72 KB)\n"
            ]
          },
          "metadata": {},
          "output_type": "display_data"
        },
        {
          "data": {
            "text/html": [
              "<pre style=\"white-space:pre;overflow-x:auto;line-height:normal;font-family:Menlo,'DejaVu Sans Mono',consolas,'Courier New',monospace\"><span style=\"font-weight: bold\"> Trainable params: </span><span style=\"color: #00af00; text-decoration-color: #00af00\">234,169</span> (914.72 KB)\n",
              "</pre>\n"
            ],
            "text/plain": [
              "\u001b[1m Trainable params: \u001b[0m\u001b[38;5;34m234,169\u001b[0m (914.72 KB)\n"
            ]
          },
          "metadata": {},
          "output_type": "display_data"
        },
        {
          "data": {
            "text/html": [
              "<pre style=\"white-space:pre;overflow-x:auto;line-height:normal;font-family:Menlo,'DejaVu Sans Mono',consolas,'Courier New',monospace\"><span style=\"font-weight: bold\"> Non-trainable params: </span><span style=\"color: #00af00; text-decoration-color: #00af00\">0</span> (0.00 B)\n",
              "</pre>\n"
            ],
            "text/plain": [
              "\u001b[1m Non-trainable params: \u001b[0m\u001b[38;5;34m0\u001b[0m (0.00 B)\n"
            ]
          },
          "metadata": {},
          "output_type": "display_data"
        },
        {
          "name": "stdout",
          "output_type": "stream",
          "text": [
            "Epoch 1/32\n",
            "553/553 - 402s - 728ms/step - loss: 2.7735 - val_loss: 2.6547\n",
            "Epoch 2/32\n",
            "553/553 - 433s - 782ms/step - loss: 2.3853 - val_loss: 2.5018\n",
            "Epoch 3/32\n",
            "553/553 - 385s - 696ms/step - loss: 2.2495 - val_loss: 2.4377\n",
            "Epoch 4/32\n",
            "553/553 - 445s - 805ms/step - loss: 2.1610 - val_loss: 2.3813\n",
            "Epoch 5/32\n",
            "553/553 - 442s - 799ms/step - loss: 2.0945 - val_loss: 2.3554\n",
            "Epoch 6/32\n",
            "553/553 - 438s - 792ms/step - loss: 2.0433 - val_loss: 2.3078\n",
            "Epoch 7/32\n",
            "553/553 - 440s - 795ms/step - loss: 1.9990 - val_loss: 2.2777\n",
            "Epoch 8/32\n",
            "553/553 - 447s - 807ms/step - loss: 1.9610 - val_loss: 2.2771\n",
            "Epoch 9/32\n",
            "553/553 - 439s - 793ms/step - loss: 1.9287 - val_loss: 2.2374\n",
            "Epoch 10/32\n",
            "553/553 - 448s - 810ms/step - loss: 1.8990 - val_loss: 2.2373\n",
            "Epoch 11/32\n",
            "553/553 - 427s - 771ms/step - loss: 1.8734 - val_loss: 2.2158\n",
            "Epoch 12/32\n",
            "553/553 - 379s - 685ms/step - loss: 1.8504 - val_loss: 2.2101\n",
            "Epoch 13/32\n"
          ]
        }
      ],
      "source": [
        "import numpy as np\n",
        "from tensorflow.keras.models import Sequential\n",
        "from tensorflow.keras.layers import Dense\n",
        "from tensorflow.keras.layers import LSTM\n",
        "import tensorflow as tf\n",
        "EPOCHS = 32\n",
        "BATCH_SIZE = 256\n",
        "INPUT_FILE_NAME = '/content/frankenstein.txt'\n",
        "WINDOW_LENGTH = 40\n",
        "WINDOW_STEP = 3\n",
        "BEAM_SIZE = 8\n",
        "NUM_LETTERS = 11\n",
        "MAX_LENGTH = 50\n",
        "\n",
        "\n",
        "import logging\n",
        "tf.get_logger( ).setLevel(logging.ERROR)       # Open the input file.\n",
        "file = open(INPUT_FILE_NAME, 'r', encoding='utf-8')\n",
        "text = file.read( )\n",
        "file.close( )\n",
        "# Make lowercase and remove newline and extra spaces.\n",
        "text = text.lower( )\n",
        "text = text.replace('\\n', '  ')\n",
        "text = text.replace('   ', ' ')\n",
        "# Encode characters as indices.\n",
        "unique_chars = list(set(text))\n",
        "char_to_index = dict((ch, index) for index, ch in enumerate(unique_chars))\n",
        "index_to_char = dict((index, ch) for index, ch in enumerate(unique_chars))\n",
        "encoding_width = len(char_to_index)\n",
        "# Create training examples.\n",
        "fragments = [ ]\n",
        "targets = [ ]\n",
        "for i in range(0, len(text) - WINDOW_LENGTH, WINDOW_STEP):\n",
        "  fragments.append(text[i: i + WINDOW_LENGTH])\n",
        "  targets.append(text[i + WINDOW_LENGTH])\n",
        "# Convert to one-hot encoded training data.\n",
        "X = np.zeros((len(fragments), WINDOW_LENGTH, encoding_width))\n",
        "y = np.zeros((len(fragments), encoding_width))\n",
        "for i, fragment in enumerate(fragments):\n",
        "  for j, char in enumerate(fragment):\n",
        "      X[i, j, char_to_index[char]] = 1\n",
        "      target_char = targets[i]\n",
        "      y[i, char_to_index[target_char]] = 1\n",
        "# Build and train model.\n",
        "model = Sequential( )\n",
        "model.add(LSTM(128, return_sequences=True,\n",
        "dropout=0.2, recurrent_dropout=0.2,\n",
        "input_shape=(None, encoding_width)))\n",
        "model.add(LSTM(128, dropout=0.2, recurrent_dropout=0.2))\n",
        "model.add(Dense(encoding_width, activation='softmax'))\n",
        "model.compile(loss='categorical_crossentropy', optimizer='adam')\n",
        "\n",
        "\n",
        "\n",
        "model.summary( )\n",
        "history = model.fit(X, y, validation_split=0.05, batch_size=BATCH_SIZE,epochs=EPOCHS, verbose=2,\n",
        "shuffle=True)\n",
        "input_seq = 'the body was found near the lake. it was co'\n",
        "input_seq = input_seq[-40:]\n",
        "\n",
        "# Confirm correct length\n",
        "assert len(input_seq) == WINDOW_LENGTH\n",
        "\n",
        "# One-hot encode the input sequence\n",
        "input_tensor = np.zeros((1, WINDOW_LENGTH, encoding_width))\n",
        "for t, char in enumerate(input_seq):\n",
        "    if char in char_to_index:\n",
        "        input_tensor[0, t, char_to_index[char]] = 1\n",
        "    else:\n",
        "        print(f\"Warning: Character '{char}' not in vocabulary.\")\n",
        "\n",
        "\n",
        "\n",
        "\n",
        "pred = model.predict(input_tensor, verbose=0)\n",
        "next_char_index = np.argmax(pred[0])\n",
        "next_char = index_to_char[next_char_index]\n",
        "\n",
        "print(\"Predicted next character:\", next_char)\n",
        "\n",
        "\n",
        "\n",
        "\n"
      ]
    }
  ],
  "metadata": {
    "colab": {
      "provenance": []
    },
    "kernelspec": {
      "display_name": "Python 3",
      "name": "python3"
    },
    "language_info": {
      "name": "python"
    }
  },
  "nbformat": 4,
  "nbformat_minor": 0
}